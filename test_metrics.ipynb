{
 "cells": [
  {
   "cell_type": "code",
   "execution_count": 1,
   "metadata": {},
   "outputs": [],
   "source": [
    "# Enable autoreload of module\n",
    "%load_ext autoreload\n",
    "%autoreload 2"
   ]
  },
  {
   "cell_type": "code",
   "execution_count": 44,
   "metadata": {},
   "outputs": [],
   "source": [
    "from utils import metrics\n",
    "from torchvision import datasets, transforms\n",
    "from IPython.display import display\n",
    "from IPython.core.display import HTML\n",
    "import torch\n",
    "import itertools\n",
    "import einops"
   ]
  },
  {
   "cell_type": "code",
   "execution_count": 4,
   "metadata": {},
   "outputs": [],
   "source": [
    "# Load mnist dataset\n",
    "mnist = datasets.MNIST(\"mnist-data\", train=True, download=True)"
   ]
  },
  {
   "cell_type": "code",
   "execution_count": 13,
   "metadata": {},
   "outputs": [],
   "source": [
    "# generator function to get images from mnist dataset with a specific label\n",
    "def get_images_by_label(dataset, label):\n",
    "    for image, image_label in dataset:\n",
    "        if image_label == label:\n",
    "            yield image\n",
    "\n",
    "# Get all images with label 5 up to 30 images\n",
    "images = list(itertools.islice(get_images_by_label(mnist, 5), 30))"
   ]
  },
  {
   "cell_type": "code",
   "execution_count": 15,
   "metadata": {},
   "outputs": [
    {
     "data": {
      "image/jpeg": "[encoded data removed]",
      "image/png": "[encoded data removed]",
      "text/plain": [
       "<PIL.Image.Image image mode=L size=28x28>"
      ]
     },
     "metadata": {},
     "output_type": "display_data"
    }
   ],
   "source": [
    "display(images[0])"
   ]
  },
  {
   "cell_type": "code",
   "execution_count": 36,
   "metadata": {},
   "outputs": [],
   "source": [
    "# Get a generated and a reference set of images as tensors\n",
    "gen_range = range(0, 10)\n",
    "ref_range = range(10, 20)\n",
    "\n",
    "# image to tensor transformation\n",
    "def to_tensor(image):\n",
    "    # image is a (28, 28) tensor\n",
    "    return transforms.functional.pil_to_tensor(image) / 255.0\n",
    "\n",
    "def to_image(tensor):\n",
    "    return transforms.functional.to_pil_image(tensor)\n",
    "\n",
    "gen_images = torch.stack([to_tensor(images[i]) for i in gen_range])\n",
    "ref_images = torch.stack([to_tensor(images[i]) for i in ref_range])"
   ]
  },
  {
   "cell_type": "code",
   "execution_count": 37,
   "metadata": {},
   "outputs": [
    {
     "data": {
      "image/jpeg": "[encoded data removed]",
      "image/png": "[encoded data removed]",
      "text/plain": [
       "<PIL.Image.Image image mode=L size=28x28>"
      ]
     },
     "metadata": {},
     "output_type": "display_data"
    }
   ],
   "source": [
    "# show as an image again\n",
    "display(to_image(gen_images[0]))"
   ]
  },
  {
   "cell_type": "code",
   "execution_count": 52,
   "metadata": {},
   "outputs": [
    {
     "data": {
      "text/html": [
       "<h3>Most similar images</h3>"
      ],
      "text/plain": [
       "<IPython.core.display.HTML object>"
      ]
     },
     "metadata": {},
     "output_type": "display_data"
    },
    {
     "data": {
      "image/jpeg": "[encoded data removed]",
      "image/png": "[encoded data removed]",
      "text/plain": [
       "<PIL.Image.Image image mode=L size=28x28>"
      ]
     },
     "metadata": {},
     "output_type": "display_data"
    },
    {
     "data": {
      "image/jpeg": "[encoded data removed]",
      "image/png": "[encoded data removed]",
      "text/plain": [
       "<PIL.Image.Image image mode=L size=28x28>"
      ]
     },
     "metadata": {},
     "output_type": "display_data"
    },
    {
     "data": {
      "text/html": [
       "<h3>Most dissimilar images</h3>"
      ],
      "text/plain": [
       "<IPython.core.display.HTML object>"
      ]
     },
     "metadata": {},
     "output_type": "display_data"
    },
    {
     "data": {
      "image/jpeg": "[encoded data removed]",
      "image/png": "[encoded data removed]",
      "text/plain": [
       "<PIL.Image.Image image mode=L size=28x28>"
      ]
     },
     "metadata": {},
     "output_type": "display_data"
    },
    {
     "data": {
      "image/jpeg": "[encoded data removed]",
      "image/png": "[encoded data removed]",
      "text/plain": [
       "<PIL.Image.Image image mode=L size=28x28>"
      ]
     },
     "metadata": {},
     "output_type": "display_data"
    }
   ],
   "source": [
    "# Pairwise similarity\n",
    "pairwise_sim = metrics.pairwise_ssim_distance(gen_images, ref_images)\n",
    "most_similar = torch.unravel_index( pairwise_sim.argmax(), pairwise_sim.shape)\n",
    "most_dissimilar = torch.unravel_index( pairwise_sim.argmin(), pairwise_sim.shape)\n",
    "\n",
    "# Show the most similar image\n",
    "display(HTML(\"<h3>Most similar images</h3>\"))\n",
    "display(to_image(gen_images[most_similar[0].item()]))\n",
    "display(to_image(ref_images[most_similar[1].item()]))\n",
    "\n",
    "# Show the most dissimilar image\n",
    "display(HTML(\"<h3>Most dissimilar images</h3>\"))\n",
    "display(to_image(gen_images[most_dissimilar[0].item()]))\n",
    "display(to_image(ref_images[most_dissimilar[1].item()]))\n"
   ]
  },
  {
   "cell_type": "code",
   "execution_count": 55,
   "metadata": {},
   "outputs": [
    {
     "data": {
      "text/plain": [
       "{'lgan_mmd': tensor(1.2517),\n",
       " 'lgan_cov': tensor(0.4000),\n",
       " 'lgan_mmd_smp': tensor(-6.0070)}"
      ]
     },
     "execution_count": 55,
     "metadata": {},
     "output_type": "execute_result"
    }
   ],
   "source": [
    "# metrics\n",
    "metrics.compute_all_metrics(gen_images, ref_images)"
   ]
  },
  {
   "cell_type": "code",
   "execution_count": null,
   "metadata": {},
   "outputs": [],
   "source": []
  }
 ],
 "metadata": {
  "kernelspec": {
   "display_name": ".venv",
   "language": "python",
   "name": "python3"
  },
  "language_info": {
   "codemirror_mode": {
    "name": "ipython",
    "version": 3
   },
   "file_extension": ".py",
   "mimetype": "text/x-python",
   "name": "python",
   "nbconvert_exporter": "python",
   "pygments_lexer": "ipython3",
   "version": "3.12.3"
  }
 },
 "nbformat": 4,
 "nbformat_minor": 2
}
