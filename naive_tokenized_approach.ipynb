{
   "cells": [
      {
         "cell_type": "code",
         "execution_count": 1,
         "metadata": {},
         "outputs": [],
         "source": [
            "# Enable autoreload of module\n",
            "%load_ext autoreload\n",
            "%autoreload 2"
         ]
      },
      {
         "cell_type": "code",
         "execution_count": 2,
         "metadata": {},
         "outputs": [
            {
               "name": "stderr",
               "output_type": "stream",
               "text": [
                  "/home/luca/.cache/pypoetry/virtualenvs/adl4cv-OvNqwVNf-py3.10/lib/python3.10/site-packages/tqdm/auto.py:21: TqdmWarning: IProgress not found. Please update jupyter and ipywidgets. See https://ipywidgets.readthedocs.io/en/stable/user_install.html\n",
                  "  from .autonotebook import tqdm as notebook_tqdm\n",
                  "/home/luca/.cache/pypoetry/virtualenvs/adl4cv-OvNqwVNf-py3.10/lib/python3.10/site-packages/torch/_utils.py:831: UserWarning: TypedStorage is deprecated. It will be removed in the future and UntypedStorage will be the only storage class. This should only matter to you if you are using storages directly.  To access UntypedStorage directly, use tensor.untyped_storage() instead of tensor.storage()\n",
                  "  return self.fget.__get__(instance, owner)()\n",
                  "Failed to detect the name of this notebook, you can set it manually with the WANDB_NOTEBOOK_NAME environment variable to enable code saving.\n",
                  "\u001b[34m\u001b[1mwandb\u001b[0m: Currently logged in as: \u001b[33mluca-fanselau\u001b[0m (\u001b[33madl-for-cv\u001b[0m). Use \u001b[1m`wandb login --relogin`\u001b[0m to force relogin\n"
               ]
            },
            {
               "data": {
                  "text/plain": [
                     "True"
                  ]
               },
               "execution_count": 2,
               "metadata": {},
               "output_type": "execute_result"
            }
         ],
         "source": [
            "import torch\n",
            "from vector_quantize_pytorch import VectorQuantize\n",
            "import os\n",
            "from data.neural_field_datasets import MnistNeFDataset, TokenTransform\n",
            "from training import training_nano_gpt\n",
            "\n",
            "from networks.nano_gpt import GPTConfig\n",
            "\n",
            "torch.cuda.is_available()"
         ]
      },
      {
         "cell_type": "code",
         "execution_count": 3,
         "metadata": {},
         "outputs": [
            {
               "data": {
                  "text/plain": [
                     "<All keys matched successfully>"
                  ]
               },
               "execution_count": 3,
               "metadata": {},
               "output_type": "execute_result"
            }
         ],
         "source": [
            "kwargs = {\n",
            "\"type\": \"pretrained\",\n",
            "\"fixed_label\": None,\n",
            "}\n",
            "\n",
            "dir_path = os.path.dirname(os.path.abspath(os.getcwd()))\n",
            "data_root = os.path.join(dir_path, \"adl4cv\")\n",
            "\n",
            "# load used vector quantizer\n",
            "vq_dicts = torch.load(os.path.join(data_root, \"models\", \"vqs\", \"vq_mnist_with_all_5_conditioned_n_501.pt\"))\n",
            "vq = VectorQuantize(**vq_dicts[\"vq_config\"])\n",
            "vq.load_state_dict(vq_dicts[\"state_dict\"])"
         ]
      },
      {
         "cell_type": "code",
         "execution_count": 4,
         "metadata": {},
         "outputs": [
            {
               "data": {
                  "text/plain": [
                     "60000"
                  ]
               },
               "execution_count": 4,
               "metadata": {},
               "output_type": "execute_result"
            }
         ],
         "source": [
            "dataset = MnistNeFDataset(os.path.join(data_root, \"datasets\", \"mnist-nerfs\"), transform=TokenTransform(vq), **kwargs)\n",
            "len(dataset)"
         ]
      },
      {
         "cell_type": "code",
         "execution_count": 5,
         "metadata": {},
         "outputs": [],
         "source": [
            "# Config Training\n",
            "config = training_nano_gpt.Config()\n",
            "config.learning_rate=3e-3\n",
            "config.max_iters = 30000\n",
            "config.weight_decay=0.00\n",
            "config.decay_lr=True\n",
            "config.lr_decay_iters=config.max_iters\n",
            "config.warmup_iters=0.05*config.max_iters\n",
            "config.batch_size = 64\n",
            "config.gradient_accumulation_steps = 1\n",
            "config.init_from = \"scratch\"\n",
            "config.out_dir =\"models/token_transformer\"\n",
            "config.detailed_folder = \"training_sample_5\"\n",
            "config.eval_interval = 250\n",
            "config.metric_interval = 250\n",
            "\n",
            "model_config = GPTConfig(n_embd=180, block_size=len(dataset[0][0]), n_head=12, n_layer=12, vocab_size=vq_dicts[\"vq_config\"][\"codebook_size\"] + 11, dropout=0.0)\n"
         ]
      },
      {
         "cell_type": "code",
         "execution_count": 6,
         "metadata": {},
         "outputs": [
            {
               "data": {
                  "text/plain": [
                     "2"
                  ]
               },
               "execution_count": 6,
               "metadata": {},
               "output_type": "execute_result"
            }
         ],
         "source": [
            "182%12"
         ]
      },
      {
         "cell_type": "code",
         "execution_count": 7,
         "metadata": {},
         "outputs": [],
         "source": [
            "#early_stopping = training_nano_gpt.EarlyStopper(20)"
         ]
      },
      {
         "cell_type": "code",
         "execution_count": 8,
         "metadata": {},
         "outputs": [
            {
               "data": {
                  "text/plain": [
                     "'model_config = GPTConfig(\\n    n_embd=120, \\n    block_size=len(dataset[0][0]), \\n    n_head=12, n_layer=6, \\n    vocab_size=vq_dicts[\"vq_config\"][\"codebook_size\"] + 1,\\n    dropout=0.0\\n    )'"
                  ]
               },
               "execution_count": 8,
               "metadata": {},
               "output_type": "execute_result"
            }
         ],
         "source": [
            "\"\"\"model_config = GPTConfig(\n",
            "    n_embd=120, \n",
            "    block_size=len(dataset[0][0]), \n",
            "    n_head=12, n_layer=6, \n",
            "    vocab_size=vq_dicts[\"vq_config\"][\"codebook_size\"] + 1,\n",
            "    dropout=0.0\n",
            "    )\"\"\""
         ]
      },
      {
         "cell_type": "code",
         "execution_count": 9,
         "metadata": {},
         "outputs": [],
         "source": [
            "cb_size = vq_dicts[\"vq_config\"][\"codebook_size\"]\n",
            "token_dict = {\n",
            "    \"SOS\": cb_size - 11,\n",
            "    \"0\": cb_size - 10,\n",
            "    \"1\": cb_size - 9,\n",
            "    \"2\": cb_size - 8,\n",
            "    \"3\": cb_size - 7,\n",
            "    \"4\": cb_size - 6,\n",
            "    \"5\": cb_size - 5,\n",
            "    \"6\": cb_size - 4,\n",
            "    \"7\": cb_size - 3,\n",
            "    \"8\": cb_size - 2,\n",
            "    \"9\": cb_size - 1\n",
            "}\n"
         ]
      },
      {
         "cell_type": "code",
         "execution_count": 10,
         "metadata": {},
         "outputs": [],
         "source": [
            "# Where to put?\n",
            "# Maybe adjust dataset to be able to work with splitting data and then rewrite TokenTransform \n",
            "# to do the job combined with pytorch dataloader (get_batch == __call__ of Dataloader)\n",
            "\n",
            "def create_split_indices(n, train_ratio=0.9):\n",
            "    # Generate a random permutation of indices from 0 to n-1\n",
            "    shuffled_indices = torch.randperm(n)\n",
            "    # Determine the cut-off for training data\n",
            "    train_size = int(train_ratio * n)\n",
            "    # Split indices into training and validation sets\n",
            "    train_indices = shuffled_indices[:train_size]\n",
            "    val_indices = shuffled_indices[train_size:]\n",
            "    return train_indices, val_indices\n",
            "\n",
            "train_indices, val_indices = create_split_indices(len(dataset))\n",
            "\n",
            "def get_batch_lambda(config, dataset, model_config, split):\n",
            "    batch_size = config.batch_size\n",
            "    \n",
            "\n",
            "    # Select indices based on the split\n",
            "    if split == 'train':\n",
            "        # Randomly select batch_size indices from the train_indices\n",
            "        indices = train_indices[torch.randint(0, len(train_indices), (batch_size,))]\n",
            "    elif split == 'val':\n",
            "        # Randomly select batch_size indices from the val_indices\n",
            "        indices = val_indices[torch.randint(0, len(val_indices), (batch_size,))]\n",
            "    \n",
            "    \n",
            "    # Initialize lists to hold the sequences and labels\n",
            "    samples = []\n",
            "    labels = []\n",
            "\n",
            "    # Collect samples and labels\n",
            "    for idx in indices:\n",
            "        sample, label = dataset[idx]\n",
            "        start_tokens = torch.Tensor([token_dict[\"SOS\"], token_dict[str(label)]]).long()  # Start of sequence token\n",
            "        sample = torch.cat((start_tokens, sample), dim=0)\n",
            "        #start_tokens = torch.Tensor([0]).long()  # Start of sequence token\n",
            "        #sample = torch.cat((start_tokens, sample + 1), dim=0)\n",
            "        samples.append(sample)\n",
            "        labels.append(label)\n",
            "\n",
            "    # Prepare the sequences for model input\n",
            "    max_len = samples[0].size(0)\n",
            "    x = torch.zeros((batch_size, max_len - 1), dtype=torch.long)\n",
            "    y = torch.zeros((batch_size, max_len - 1), dtype=torch.long)\n",
            "    \n",
            "    for i, sample in enumerate(samples):\n",
            "        end_index = sample.size(0) - 1\n",
            "        x[i, :end_index] = sample[:-1]  # Exclude the last token for x\n",
            "        y[i, :end_index] = sample[1:]   # Exclude the first token for y\n",
            "\n",
            "    # Ensure x and y are the correct shape (batch_size, block_size) if needed:\n",
            "    # Here, we truncate to `block_size` if samples are longer than `block_size`.\n",
            "    x = x[:, :model_config.block_size]\n",
            "    y = y[:, :model_config.block_size]\n",
            "\n",
            "    # x and y have to be\n",
            "    x = x.to(config.device)\n",
            "    y = y.to(config.device)\n",
            "\n",
            "    return x, y\n",
            "\n",
            "create_get_batch = lambda config, dataset, model_config: lambda split: get_batch_lambda(config, dataset, model_config, split)\n",
            "get_batch = create_get_batch(config, dataset, model_config)"
         ]
      },
      {
         "cell_type": "code",
         "execution_count": 11,
         "metadata": {},
         "outputs": [
            {
               "data": {
                  "text/plain": [
                     "30294000"
                  ]
               },
               "execution_count": 11,
               "metadata": {},
               "output_type": "execute_result"
            }
         ],
         "source": [
            "len(train_indices)*dataset[0][0].shape[0]"
         ]
      },
      {
         "cell_type": "code",
         "execution_count": 12,
         "metadata": {},
         "outputs": [
            {
               "name": "stdout",
               "output_type": "stream",
               "text": [
                  "Initializing a new model from scratch\n",
                  "number of parameters: 4.74M\n",
                  "num decayed parameter tensors: 50, with 4,812,660 parameters\n",
                  "num non-decayed parameter tensors: 98, with 28,440 parameters\n",
                  "using fused AdamW: True\n"
               ]
            },
            {
               "data": {
                  "text/html": [
                     "wandb version 0.17.2 is available!  To upgrade, please run:\n",
                     " $ pip install wandb --upgrade"
                  ],
                  "text/plain": [
                     "<IPython.core.display.HTML object>"
                  ]
               },
               "metadata": {},
               "output_type": "display_data"
            },
            {
               "data": {
                  "text/html": [
                     "Tracking run with wandb version 0.16.6"
                  ],
                  "text/plain": [
                     "<IPython.core.display.HTML object>"
                  ]
               },
               "metadata": {},
               "output_type": "display_data"
            },
            {
               "data": {
                  "text/html": [
                     "Run data is saved locally in <code>/home/luca/uni/master/adl4cv/wandb/run-20240620_091155-0h38fvyu</code>"
                  ],
                  "text/plain": [
                     "<IPython.core.display.HTML object>"
                  ]
               },
               "metadata": {},
               "output_type": "display_data"
            },
            {
               "data": {
                  "text/html": [
                     "Syncing run <strong><a href='https://wandb.ai/adl-for-cv/naive_token_transformer/runs/0h38fvyu' target=\"_blank\">run-2024-06-20-09-11-55</a></strong> to <a href='https://wandb.ai/adl-for-cv/naive_token_transformer' target=\"_blank\">Weights & Biases</a> (<a href='https://wandb.me/run' target=\"_blank\">docs</a>)<br/>"
                  ],
                  "text/plain": [
                     "<IPython.core.display.HTML object>"
                  ]
               },
               "metadata": {},
               "output_type": "display_data"
            },
            {
               "data": {
                  "text/html": [
                     " View project at <a href='https://wandb.ai/adl-for-cv/naive_token_transformer' target=\"_blank\">https://wandb.ai/adl-for-cv/naive_token_transformer</a>"
                  ],
                  "text/plain": [
                     "<IPython.core.display.HTML object>"
                  ]
               },
               "metadata": {},
               "output_type": "display_data"
            },
            {
               "data": {
                  "text/html": [
                     " View run at <a href='https://wandb.ai/adl-for-cv/naive_token_transformer/runs/0h38fvyu' target=\"_blank\">https://wandb.ai/adl-for-cv/naive_token_transformer/runs/0h38fvyu</a>"
                  ],
                  "text/plain": [
                     "<IPython.core.display.HTML object>"
                  ]
               },
               "metadata": {},
               "output_type": "display_data"
            },
            {
               "name": "stdout",
               "output_type": "stream",
               "text": [
                  "step 0: mnist classifier loss: 3.727780818939209, mnist accuracy: 0.140625\n",
                  "step 0: train loss 5.6081, val loss 5.6067\n",
                  "step 250: mnist classifier loss: 4.654127597808838, mnist accuracy: 0.109375\n",
                  "step 250: train loss 3.5970, val loss 3.6100\n",
                  "saving checkpoint to models/token_transformer\n",
                  "step 500: mnist classifier loss: 4.508016109466553, mnist accuracy: 0.078125\n",
                  "step 500: train loss 3.5287, val loss 3.5373\n",
                  "saving checkpoint to models/token_transformer\n",
                  "step 750: mnist classifier loss: 3.647284746170044, mnist accuracy: 0.203125\n",
                  "step 750: train loss 3.4239, val loss 3.4286\n",
                  "saving checkpoint to models/token_transformer\n",
                  "step 1000: mnist classifier loss: 3.3942887783050537, mnist accuracy: 0.21875\n",
                  "step 1000: train loss 3.3050, val loss 3.3171\n",
                  "saving checkpoint to models/token_transformer\n",
                  "step 1250: mnist classifier loss: 3.3658699989318848, mnist accuracy: 0.25\n",
                  "step 1250: train loss 3.1430, val loss 3.1436\n",
                  "saving checkpoint to models/token_transformer\n",
                  "step 1500: mnist classifier loss: 2.64371395111084, mnist accuracy: 0.390625\n",
                  "step 1500: train loss 2.9904, val loss 2.9798\n",
                  "saving checkpoint to models/token_transformer\n",
                  "step 1750: mnist classifier loss: 2.617076873779297, mnist accuracy: 0.390625\n",
                  "step 1750: train loss 2.8445, val loss 2.8549\n",
                  "saving checkpoint to models/token_transformer\n",
                  "step 2000: mnist classifier loss: 3.276730537414551, mnist accuracy: 0.203125\n",
                  "step 2000: train loss 2.7647, val loss 2.7603\n",
                  "saving checkpoint to models/token_transformer\n",
                  "step 2250: mnist classifier loss: 2.446359395980835, mnist accuracy: 0.421875\n",
                  "step 2250: train loss 2.7044, val loss 2.7173\n",
                  "saving checkpoint to models/token_transformer\n",
                  "step 2500: mnist classifier loss: 1.9749685525894165, mnist accuracy: 0.53125\n",
                  "step 2500: train loss 2.6532, val loss 2.6722\n",
                  "saving checkpoint to models/token_transformer\n",
                  "step 2750: mnist classifier loss: 2.0022549629211426, mnist accuracy: 0.4375\n",
                  "step 2750: train loss 2.6147, val loss 2.6345\n",
                  "saving checkpoint to models/token_transformer\n",
                  "step 3000: mnist classifier loss: 2.411813497543335, mnist accuracy: 0.390625\n",
                  "step 3000: train loss 2.5915, val loss 2.6104\n",
                  "saving checkpoint to models/token_transformer\n",
                  "step 3250: mnist classifier loss: 2.1506991386413574, mnist accuracy: 0.421875\n",
                  "step 3250: train loss 2.5876, val loss 2.5917\n",
                  "saving checkpoint to models/token_transformer\n",
                  "step 3500: mnist classifier loss: 1.7137409448623657, mnist accuracy: 0.5\n",
                  "step 3500: train loss 2.5546, val loss 2.5815\n",
                  "saving checkpoint to models/token_transformer\n",
                  "step 3750: mnist classifier loss: 1.6404303312301636, mnist accuracy: 0.53125\n",
                  "step 3750: train loss 2.5260, val loss 2.5527\n",
                  "saving checkpoint to models/token_transformer\n",
                  "step 4000: mnist classifier loss: 2.041231155395508, mnist accuracy: 0.5\n",
                  "step 4000: train loss 2.5146, val loss 2.5415\n",
                  "saving checkpoint to models/token_transformer\n",
                  "step 4250: mnist classifier loss: 1.4109158515930176, mnist accuracy: 0.609375\n",
                  "step 4250: train loss 2.5079, val loss 2.5246\n",
                  "saving checkpoint to models/token_transformer\n",
                  "step 4500: mnist classifier loss: 1.870388150215149, mnist accuracy: 0.46875\n",
                  "step 4500: train loss 2.5039, val loss 2.5226\n",
                  "saving checkpoint to models/token_transformer\n",
                  "step 4750: mnist classifier loss: 1.945981502532959, mnist accuracy: 0.53125\n",
                  "step 4750: train loss 2.5048, val loss 2.5107\n",
                  "saving checkpoint to models/token_transformer\n",
                  "step 5000: mnist classifier loss: 1.8540799617767334, mnist accuracy: 0.5\n",
                  "step 5000: train loss 2.4721, val loss 2.4923\n",
                  "saving checkpoint to models/token_transformer\n",
                  "step 5250: mnist classifier loss: 1.977817177772522, mnist accuracy: 0.40625\n",
                  "step 5250: train loss 2.4766, val loss 2.4821\n",
                  "saving checkpoint to models/token_transformer\n",
                  "step 5500: mnist classifier loss: 1.8745108842849731, mnist accuracy: 0.546875\n",
                  "step 5500: train loss 2.4548, val loss 2.4802\n",
                  "saving checkpoint to models/token_transformer\n",
                  "step 5750: mnist classifier loss: 1.7395482063293457, mnist accuracy: 0.578125\n",
                  "step 5750: train loss 2.4558, val loss 2.4723\n",
                  "saving checkpoint to models/token_transformer\n",
                  "step 6000: mnist classifier loss: 2.1158649921417236, mnist accuracy: 0.4375\n",
                  "step 6000: train loss 2.4363, val loss 2.4635\n",
                  "saving checkpoint to models/token_transformer\n",
                  "step 6250: mnist classifier loss: 1.259770393371582, mnist accuracy: 0.640625\n",
                  "step 6250: train loss 2.4377, val loss 2.4622\n",
                  "saving checkpoint to models/token_transformer\n",
                  "step 6500: mnist classifier loss: 1.6559422016143799, mnist accuracy: 0.625\n",
                  "step 6500: train loss 2.4384, val loss 2.4594\n",
                  "saving checkpoint to models/token_transformer\n",
                  "step 6750: mnist classifier loss: 2.277500629425049, mnist accuracy: 0.484375\n",
                  "step 6750: train loss 2.4358, val loss 2.4630\n",
                  "step 7000: mnist classifier loss: 1.9130157232284546, mnist accuracy: 0.546875\n",
                  "step 7000: train loss 2.4153, val loss 2.4516\n",
                  "saving checkpoint to models/token_transformer\n",
                  "step 7250: mnist classifier loss: 2.4727656841278076, mnist accuracy: 0.4375\n",
                  "step 7250: train loss 2.4569, val loss 2.4432\n",
                  "saving checkpoint to models/token_transformer\n",
                  "step 7500: mnist classifier loss: 1.903295874595642, mnist accuracy: 0.515625\n",
                  "step 7500: train loss 2.4119, val loss 2.4407\n",
                  "saving checkpoint to models/token_transformer\n",
                  "step 7750: mnist classifier loss: 1.6952693462371826, mnist accuracy: 0.546875\n",
                  "step 7750: train loss 2.4045, val loss 2.4483\n",
                  "step 8000: mnist classifier loss: 1.8702597618103027, mnist accuracy: 0.46875\n",
                  "step 8000: train loss 2.4108, val loss 2.4401\n",
                  "saving checkpoint to models/token_transformer\n",
                  "step 8250: mnist classifier loss: 1.980433464050293, mnist accuracy: 0.515625\n",
                  "step 8250: train loss 2.4008, val loss 2.4232\n",
                  "saving checkpoint to models/token_transformer\n",
                  "step 8500: mnist classifier loss: 1.8597561120986938, mnist accuracy: 0.546875\n",
                  "step 8500: train loss 2.4027, val loss 2.4240\n",
                  "step 8750: mnist classifier loss: 1.5862996578216553, mnist accuracy: 0.578125\n",
                  "step 8750: train loss 2.3834, val loss 2.4091\n",
                  "saving checkpoint to models/token_transformer\n",
                  "step 9000: mnist classifier loss: 1.9210262298583984, mnist accuracy: 0.5\n",
                  "step 9000: train loss 2.3864, val loss 2.4273\n",
                  "step 9250: mnist classifier loss: 1.8857921361923218, mnist accuracy: 0.5625\n",
                  "step 9250: train loss 2.3744, val loss 2.4076\n",
                  "saving checkpoint to models/token_transformer\n",
                  "step 9500: mnist classifier loss: 1.698899269104004, mnist accuracy: 0.5\n",
                  "step 9500: train loss 2.3661, val loss 2.4088\n",
                  "step 9750: mnist classifier loss: 1.7518032789230347, mnist accuracy: 0.53125\n",
                  "step 9750: train loss 2.3875, val loss 2.4142\n",
                  "step 10000: mnist classifier loss: 1.8092769384384155, mnist accuracy: 0.59375\n",
                  "step 10000: train loss 2.3947, val loss 2.4120\n",
                  "step 10250: mnist classifier loss: 1.4880863428115845, mnist accuracy: 0.65625\n",
                  "step 10250: train loss 2.3690, val loss 2.4032\n",
                  "saving checkpoint to models/token_transformer\n",
                  "step 10500: mnist classifier loss: 2.00014066696167, mnist accuracy: 0.46875\n",
                  "step 10500: train loss 2.3678, val loss 2.3901\n",
                  "saving checkpoint to models/token_transformer\n",
                  "step 10750: mnist classifier loss: 1.3520939350128174, mnist accuracy: 0.59375\n",
                  "step 10750: train loss 2.3332, val loss 2.4162\n",
                  "step 11000: mnist classifier loss: 1.944415807723999, mnist accuracy: 0.515625\n",
                  "step 11000: train loss 2.3619, val loss 2.4078\n",
                  "step 11250: mnist classifier loss: 1.5429296493530273, mnist accuracy: 0.625\n",
                  "step 11250: train loss 2.3632, val loss 2.3951\n",
                  "step 11500: mnist classifier loss: 1.602096676826477, mnist accuracy: 0.625\n",
                  "step 11500: train loss 2.3535, val loss 2.3969\n",
                  "step 11750: mnist classifier loss: 0.7787380814552307, mnist accuracy: 0.796875\n",
                  "step 11750: train loss 2.3487, val loss 2.3972\n",
                  "step 12000: mnist classifier loss: 1.971565842628479, mnist accuracy: 0.53125\n",
                  "step 12000: train loss 2.3532, val loss 2.3864\n",
                  "saving checkpoint to models/token_transformer\n",
                  "step 12250: mnist classifier loss: 1.4456982612609863, mnist accuracy: 0.65625\n",
                  "step 12250: train loss 2.3386, val loss 2.3918\n",
                  "step 12500: mnist classifier loss: 1.7663253545761108, mnist accuracy: 0.515625\n",
                  "step 12500: train loss 2.3434, val loss 2.3812\n",
                  "saving checkpoint to models/token_transformer\n",
                  "step 12750: mnist classifier loss: 1.7712631225585938, mnist accuracy: 0.515625\n",
                  "step 12750: train loss 2.3222, val loss 2.3775\n",
                  "saving checkpoint to models/token_transformer\n",
                  "step 13000: mnist classifier loss: 2.031186103820801, mnist accuracy: 0.46875\n",
                  "step 13000: train loss 2.3353, val loss 2.3789\n",
                  "step 13250: mnist classifier loss: 1.760107398033142, mnist accuracy: 0.5\n",
                  "step 13250: train loss 2.3370, val loss 2.3685\n",
                  "saving checkpoint to models/token_transformer\n",
                  "step 13500: mnist classifier loss: 2.032334327697754, mnist accuracy: 0.515625\n",
                  "step 13500: train loss 2.3406, val loss 2.3685\n",
                  "step 13750: mnist classifier loss: 1.6395747661590576, mnist accuracy: 0.5625\n",
                  "step 13750: train loss 2.3243, val loss 2.3632\n",
                  "saving checkpoint to models/token_transformer\n",
                  "step 14000: mnist classifier loss: 1.4346020221710205, mnist accuracy: 0.609375\n",
                  "step 14000: train loss 2.3174, val loss 2.3737\n",
                  "step 14250: mnist classifier loss: 1.827507734298706, mnist accuracy: 0.53125\n",
                  "step 14250: train loss 2.3126, val loss 2.3664\n",
                  "step 14500: mnist classifier loss: 1.3608150482177734, mnist accuracy: 0.65625\n",
                  "step 14500: train loss 2.3146, val loss 2.3698\n",
                  "step 14750: mnist classifier loss: 1.3062705993652344, mnist accuracy: 0.671875\n",
                  "step 14750: train loss 2.3063, val loss 2.3709\n",
                  "step 15000: mnist classifier loss: 1.8192720413208008, mnist accuracy: 0.546875\n",
                  "step 15000: train loss 2.2994, val loss 2.3616\n",
                  "saving checkpoint to models/token_transformer\n",
                  "step 15250: mnist classifier loss: 1.483839750289917, mnist accuracy: 0.5625\n",
                  "step 15250: train loss 2.3002, val loss 2.3706\n",
                  "step 15500: mnist classifier loss: 1.4116401672363281, mnist accuracy: 0.65625\n",
                  "step 15500: train loss 2.3035, val loss 2.3649\n",
                  "step 15750: mnist classifier loss: 1.244101881980896, mnist accuracy: 0.625\n",
                  "step 15750: train loss 2.2979, val loss 2.3620\n",
                  "step 16000: mnist classifier loss: 1.5796306133270264, mnist accuracy: 0.59375\n",
                  "step 16000: train loss 2.2972, val loss 2.3516\n",
                  "saving checkpoint to models/token_transformer\n",
                  "step 16250: mnist classifier loss: 1.960146427154541, mnist accuracy: 0.5\n",
                  "step 16250: train loss 2.2823, val loss 2.3624\n",
                  "step 16500: mnist classifier loss: 1.1145217418670654, mnist accuracy: 0.703125\n",
                  "step 16500: train loss 2.2951, val loss 2.3574\n",
                  "step 16750: mnist classifier loss: 1.1867272853851318, mnist accuracy: 0.640625\n",
                  "step 16750: train loss 2.2867, val loss 2.3479\n",
                  "saving checkpoint to models/token_transformer\n",
                  "step 17000: mnist classifier loss: 1.309119462966919, mnist accuracy: 0.671875\n",
                  "step 17000: train loss 2.2874, val loss 2.3569\n",
                  "step 17250: mnist classifier loss: 1.1062601804733276, mnist accuracy: 0.703125\n",
                  "step 17250: train loss 2.2658, val loss 2.3437\n",
                  "saving checkpoint to models/token_transformer\n",
                  "step 17500: mnist classifier loss: 1.4788904190063477, mnist accuracy: 0.671875\n",
                  "step 17500: train loss 2.2745, val loss 2.3311\n",
                  "saving checkpoint to models/token_transformer\n",
                  "step 17750: mnist classifier loss: 1.34481680393219, mnist accuracy: 0.625\n",
                  "step 17750: train loss 2.2682, val loss 2.3212\n",
                  "saving checkpoint to models/token_transformer\n",
                  "step 18000: mnist classifier loss: 1.4711999893188477, mnist accuracy: 0.625\n",
                  "step 18000: train loss 2.2634, val loss 2.3298\n",
                  "step 18250: mnist classifier loss: 1.1700575351715088, mnist accuracy: 0.703125\n",
                  "step 18250: train loss 2.2671, val loss 2.3290\n",
                  "step 18500: mnist classifier loss: 1.9965120553970337, mnist accuracy: 0.46875\n",
                  "step 18500: train loss 2.2645, val loss 2.3271\n",
                  "step 18750: mnist classifier loss: 1.4303686618804932, mnist accuracy: 0.609375\n",
                  "step 18750: train loss 2.2674, val loss 2.3325\n",
                  "step 19000: mnist classifier loss: 1.6006555557250977, mnist accuracy: 0.59375\n",
                  "step 19000: train loss 2.2617, val loss 2.3234\n",
                  "step 19250: mnist classifier loss: 1.1559829711914062, mnist accuracy: 0.609375\n",
                  "step 19250: train loss 2.2651, val loss 2.3234\n",
                  "step 19500: mnist classifier loss: 0.917044997215271, mnist accuracy: 0.65625\n",
                  "step 19500: train loss 2.2381, val loss 2.3242\n",
                  "step 19750: mnist classifier loss: 1.6122360229492188, mnist accuracy: 0.609375\n",
                  "step 19750: train loss 2.2408, val loss 2.3134\n",
                  "saving checkpoint to models/token_transformer\n",
                  "step 20000: mnist classifier loss: 1.102932333946228, mnist accuracy: 0.671875\n",
                  "step 20000: train loss 2.2316, val loss 2.3048\n",
                  "saving checkpoint to models/token_transformer\n",
                  "step 20250: mnist classifier loss: 0.8314031362533569, mnist accuracy: 0.78125\n",
                  "step 20250: train loss 2.2450, val loss 2.3090\n",
                  "step 20500: mnist classifier loss: 1.6667307615280151, mnist accuracy: 0.578125\n",
                  "step 20500: train loss 2.2344, val loss 2.3091\n",
                  "step 20750: mnist classifier loss: 1.2020105123519897, mnist accuracy: 0.671875\n",
                  "step 20750: train loss 2.2286, val loss 2.3188\n",
                  "step 21000: mnist classifier loss: 1.224164605140686, mnist accuracy: 0.703125\n",
                  "step 21000: train loss 2.2269, val loss 2.2957\n",
                  "saving checkpoint to models/token_transformer\n",
                  "step 21250: mnist classifier loss: 1.520804762840271, mnist accuracy: 0.609375\n",
                  "step 21250: train loss 2.2182, val loss 2.3088\n",
                  "step 21500: mnist classifier loss: 1.8665910959243774, mnist accuracy: 0.578125\n",
                  "step 21500: train loss 2.2175, val loss 2.3147\n",
                  "step 21750: mnist classifier loss: 1.2739157676696777, mnist accuracy: 0.65625\n",
                  "step 21750: train loss 2.2121, val loss 2.3293\n",
                  "step 22000: mnist classifier loss: 1.3811252117156982, mnist accuracy: 0.625\n",
                  "step 22000: train loss 2.1989, val loss 2.3115\n",
                  "step 22250: mnist classifier loss: 1.1378304958343506, mnist accuracy: 0.6875\n",
                  "step 22250: train loss 2.2190, val loss 2.3070\n",
                  "step 22500: mnist classifier loss: 1.0410685539245605, mnist accuracy: 0.71875\n",
                  "step 22500: train loss 2.1951, val loss 2.3033\n",
                  "step 22750: mnist classifier loss: 1.168995976448059, mnist accuracy: 0.6875\n",
                  "step 22750: train loss 2.2014, val loss 2.2961\n",
                  "step 23000: mnist classifier loss: 1.0515896081924438, mnist accuracy: 0.6875\n",
                  "step 23000: train loss 2.1920, val loss 2.3129\n",
                  "step 23250: mnist classifier loss: 1.1424978971481323, mnist accuracy: 0.65625\n",
                  "step 23250: train loss 2.2024, val loss 2.2884\n",
                  "saving checkpoint to models/token_transformer\n",
                  "step 23500: mnist classifier loss: 1.1907548904418945, mnist accuracy: 0.71875\n",
                  "step 23500: train loss 2.1839, val loss 2.3038\n",
                  "step 23750: mnist classifier loss: 1.1495610475540161, mnist accuracy: 0.71875\n",
                  "step 23750: train loss 2.1923, val loss 2.2846\n",
                  "saving checkpoint to models/token_transformer\n",
                  "step 24000: mnist classifier loss: 1.4550793170928955, mnist accuracy: 0.59375\n",
                  "step 24000: train loss 2.1929, val loss 2.3089\n",
                  "step 24250: mnist classifier loss: 1.2474256753921509, mnist accuracy: 0.6875\n",
                  "step 24250: train loss 2.1855, val loss 2.3119\n",
                  "step 24500: mnist classifier loss: 1.4213141202926636, mnist accuracy: 0.625\n",
                  "step 24500: train loss 2.1905, val loss 2.2729\n",
                  "saving checkpoint to models/token_transformer\n",
                  "step 24750: mnist classifier loss: 0.9524323344230652, mnist accuracy: 0.703125\n",
                  "step 24750: train loss 2.1685, val loss 2.2873\n",
                  "step 25000: mnist classifier loss: 1.4466718435287476, mnist accuracy: 0.59375\n",
                  "step 25000: train loss 2.1647, val loss 2.3107\n",
                  "step 25250: mnist classifier loss: 1.4716546535491943, mnist accuracy: 0.609375\n",
                  "step 25250: train loss 2.1709, val loss 2.2880\n",
                  "step 25500: mnist classifier loss: 1.159193992614746, mnist accuracy: 0.671875\n",
                  "step 25500: train loss 2.1748, val loss 2.3119\n",
                  "step 25750: mnist classifier loss: 1.2428474426269531, mnist accuracy: 0.65625\n",
                  "step 25750: train loss 2.1531, val loss 2.2976\n",
                  "step 26000: mnist classifier loss: 0.8089775443077087, mnist accuracy: 0.703125\n",
                  "step 26000: train loss 2.1699, val loss 2.3063\n",
                  "step 26250: mnist classifier loss: 0.9382674694061279, mnist accuracy: 0.71875\n",
                  "step 26250: train loss 2.1742, val loss 2.2896\n",
                  "step 26500: mnist classifier loss: 1.3969776630401611, mnist accuracy: 0.640625\n",
                  "step 26500: train loss 2.1621, val loss 2.2930\n",
                  "step 26750: mnist classifier loss: 0.9172593951225281, mnist accuracy: 0.75\n",
                  "step 26750: train loss 2.1660, val loss 2.2893\n",
                  "step 27000: mnist classifier loss: 1.021510362625122, mnist accuracy: 0.6875\n",
                  "step 27000: train loss 2.1565, val loss 2.2829\n",
                  "step 27250: mnist classifier loss: 0.9108036160469055, mnist accuracy: 0.734375\n",
                  "step 27250: train loss 2.1436, val loss 2.3067\n",
                  "step 27500: mnist classifier loss: 1.3721113204956055, mnist accuracy: 0.671875\n",
                  "step 27500: train loss 2.1682, val loss 2.2921\n",
                  "step 27750: mnist classifier loss: 1.6382975578308105, mnist accuracy: 0.546875\n",
                  "step 27750: train loss 2.1623, val loss 2.2845\n",
                  "step 28000: mnist classifier loss: 0.8259434700012207, mnist accuracy: 0.8125\n",
                  "step 28000: train loss 2.1567, val loss 2.3036\n",
                  "step 28250: mnist classifier loss: 1.2221101522445679, mnist accuracy: 0.6875\n",
                  "step 28250: train loss 2.1587, val loss 2.2806\n",
                  "step 28500: mnist classifier loss: 1.2176969051361084, mnist accuracy: 0.703125\n",
                  "step 28500: train loss 2.1432, val loss 2.2795\n",
                  "step 28750: mnist classifier loss: 1.024832010269165, mnist accuracy: 0.71875\n",
                  "step 28750: train loss 2.1462, val loss 2.2809\n",
                  "step 29000: mnist classifier loss: 0.9491742253303528, mnist accuracy: 0.734375\n",
                  "step 29000: train loss 2.1316, val loss 2.3063\n",
                  "step 29250: mnist classifier loss: 1.7126225233078003, mnist accuracy: 0.59375\n",
                  "step 29250: train loss 2.1524, val loss 2.2908\n",
                  "step 29500: mnist classifier loss: 1.042967438697815, mnist accuracy: 0.671875\n",
                  "step 29500: train loss 2.1467, val loss 2.2827\n",
                  "step 29750: mnist classifier loss: 0.9161139726638794, mnist accuracy: 0.6875\n",
                  "step 29750: train loss 2.1450, val loss 2.2887\n",
                  "step 30000: mnist classifier loss: 0.8264291286468506, mnist accuracy: 0.796875\n",
                  "step 30000: train loss 2.1330, val loss 2.2988\n"
               ]
            }
         ],
         "source": [
            "# Prepeare model parameters and train\n",
            "import wandb\n",
            "trained_model = training_nano_gpt.train(get_batch, config, model_config, vq, vq_dicts[\"vq_config\"], token_dict=token_dict)\n"
         ]
      },
      {
         "cell_type": "code",
         "execution_count": 18,
         "metadata": {},
         "outputs": [
            {
               "name": "stdout",
               "output_type": "stream",
               "text": [
                  "dict_keys(['model', 'optimizer', 'model_args', 'iter_num', 'best_val_loss', 'config', 'vq_state_dict', 'vq_config', 'token_dict'])\n",
                  "number of parameters: 5.62M\n"
               ]
            },
            {
               "data": {
                  "text/plain": [
                     "tensor([[False, False, False,  True, False, False,  True, False,  True, False,\n",
                     "          True, False,  True, False,  True, False,  True, False, False, False,\n",
                     "         False, False, False,  True, False,  True, False,  True, False, False,\n",
                     "         False, False, False,  True, False,  True, False,  True, False, False,\n",
                     "         False, False, False, False, False, False,  True, False, False, False,\n",
                     "         False, False, False, False, False, False, False, False, False, False,\n",
                     "         False, False, False, False, False, False, False, False, False, False,\n",
                     "         False, False,  True, False, False, False, False, False, False, False,\n",
                     "         False, False, False, False,  True, False,  True, False, False,  True,\n",
                     "         False, False, False, False, False, False, False, False, False,  True,\n",
                     "          True,  True, False, False, False, False,  True, False,  True, False,\n",
                     "         False, False, False, False, False, False,  True,  True,  True, False,\n",
                     "          True, False, False,  True,  True, False, False, False, False, False,\n",
                     "         False, False, False,  True, False, False,  True, False, False, False,\n",
                     "         False, False, False, False, False, False, False, False,  True,  True,\n",
                     "          True,  True, False, False,  True,  True,  True, False, False, False,\n",
                     "         False, False, False, False,  True, False, False, False, False, False,\n",
                     "         False, False, False, False,  True, False,  True,  True, False,  True,\n",
                     "         False, False, False,  True, False, False, False, False, False, False,\n",
                     "         False, False, False,  True,  True,  True,  True,  True,  True,  True,\n",
                     "          True,  True,  True,  True,  True,  True,  True,  True,  True, False,\n",
                     "         False, False,  True,  True,  True, False,  True, False,  True, False,\n",
                     "         False, False, False,  True, False, False, False, False,  True,  True,\n",
                     "          True,  True,  True,  True,  True,  True,  True, False, False, False,\n",
                     "         False, False, False, False, False, False, False,  True,  True, False,\n",
                     "          True, False,  True, False, False, False, False,  True,  True, False,\n",
                     "          True, False,  True,  True,  True,  True, False,  True,  True,  True,\n",
                     "          True,  True,  True, False, False, False, False, False, False, False,\n",
                     "         False,  True, False, False, False,  True,  True, False, False,  True,\n",
                     "          True,  True,  True,  True,  True,  True,  True,  True,  True,  True,\n",
                     "          True,  True,  True,  True,  True, False, False, False, False, False,\n",
                     "         False, False,  True, False, False, False, False,  True,  True, False,\n",
                     "         False, False, False,  True, False, False, False, False, False, False,\n",
                     "         False, False, False,  True,  True, False, False,  True,  True, False,\n",
                     "         False, False, False, False, False, False, False, False, False,  True,\n",
                     "         False, False, False, False, False,  True,  True, False,  True, False,\n",
                     "         False, False, False, False, False,  True, False, False, False, False,\n",
                     "         False,  True, False, False, False,  True, False, False, False,  True,\n",
                     "         False,  True, False,  True,  True, False,  True,  True, False,  True,\n",
                     "          True,  True, False,  True,  True, False,  True,  True,  True,  True,\n",
                     "         False,  True,  True,  True, False,  True,  True,  True,  True,  True,\n",
                     "          True,  True,  True,  True,  True,  True,  True, False,  True, False,\n",
                     "         False,  True, False, False, False,  True,  True,  True, False,  True,\n",
                     "         False,  True,  True, False, False, False, False,  True, False, False,\n",
                     "         False, False, False, False, False,  True, False, False, False, False,\n",
                     "          True, False, False, False, False, False, False, False, False, False,\n",
                     "         False,  True, False, False, False, False, False, False, False,  True,\n",
                     "         False, False, False,  True, False,  True, False,  True,  True, False,\n",
                     "         False,  True,  True,  True,  True,  True,  True,  True,  True,  True,\n",
                     "          True,  True,  True,  True,  True,  True,  True, False, False, False,\n",
                     "         False, False, False, False, False, False, False, False, False,  True,\n",
                     "         False, False,  True, False, False,  True, False, False, False,  True,\n",
                     "          True, False, False, False, False,  True, False, False, False, False,\n",
                     "          True, False, False, False, False, False,  True,  True,  True, False,\n",
                     "          True, False,  True, False, False, False,  True,  True,  True, False,\n",
                     "          True,  True, False,  True,  True,  True, False,  True,  True, False,\n",
                     "         False]], device='cuda:0')"
                  ]
               },
               "execution_count": 18,
               "metadata": {},
               "output_type": "execute_result"
            }
         ],
         "source": [
            "import matplotlib.pyplot as plt\n",
            "import torch\n",
            "from networks.nano_gpt import GPT\n",
            "from utils import get_default_device\n",
            "\n",
            "model_dict = torch.load(\"./models/token_transformer/N_ALL_5M_LARGE_GOOD.pth\")\n",
            "# Configuration\n",
            "print(model_dict.keys())\n",
            "idx = 3\n",
            "\n",
            "device = get_default_device()\n",
            "model = GPT(model_dict[\"model_args\"])#model_dict\n",
            "model.to(device=device)\n",
            "model.load_state_dict(model_dict[\"model\"])\n",
            "model.eval()\n",
            "\n",
            "vq = VectorQuantize(**model_dict[\"vq_config\"])\n",
            "vq.load_state_dict(model_dict[\"vq_state_dict\"])\n",
            "vq.eval()\n",
            "\n",
            "dataset = MnistNeFDataset(os.path.join(data_root, \"datasets\", \"mnist-nerfs\"), transform=TokenTransform(vq), **kwargs)\n",
            "\n",
            "\n",
            "sample = dataset[0][0]\n",
            "X, Y = get_batch('val')\n",
            "X, Y = (X[0].unsqueeze(0), Y[0].unsqueeze(0))\n",
            "pred, _ = model(X, Y)\n",
            "# Sanity Check\n",
            "# Should be all true except first/second element\n",
            "pred.argmax(dim=-1)==Y\n"
         ]
      },
      {
         "cell_type": "code",
         "execution_count": 21,
         "metadata": {},
         "outputs": [
            {
               "name": "stdout",
               "output_type": "stream",
               "text": [
                  "tensor(239, device='cuda:0')\n",
                  "tensor(235, device='cuda:0')\n",
                  "tensor(240, device='cuda:0')\n",
                  "tensor(244, device='cuda:0')\n"
               ]
            },
            {
               "data": {
                  "image/png": "[encoded data removed]",
                  "text/plain": [
                     "<Figure size 2000x1000 with 4 Axes>"
                  ]
               },
               "metadata": {},
               "output_type": "display_data"
            }
         ],
         "source": [
            "from animation.util import backtransform_weights, reconstruct_image\n",
            "from networks.mlp_models import MLP3D\n",
            "\n",
            "ij_len = 2\n",
            "# Plotting the tensors as heatmaps in grayscale\n",
            "fig, axes = plt.subplots(ij_len, ij_len, figsize=(20, 10))\n",
            "\n",
            "\n",
            "kwargs = {\n",
            "\"type\": \"pretrained\",\n",
            "\"fixed_label\": None,\n",
            "}\n",
            "\n",
            "for i in range(ij_len):\n",
            "    for j in range(ij_len):\n",
            "\n",
            "        model.eval()\n",
            "        novel_tokens = model.generate(torch.Tensor([[token_dict[\"SOS\"]]]).long().to(device=\"cuda\"), dataset[0][0].shape[0] + 1, temperature=0.6, top_k=None)[:, 1:]\n",
            "\n",
            "        print(novel_tokens[0][0])\n",
            "        novel_tokens = novel_tokens[:, 1:].unsqueeze(-1).to(\"cpu\")\n",
            "                                                                                                                         \n",
            "\n",
            "        max_similarity = 0\n",
            "        \"\"\"\n",
            "        for data in dataset:\n",
            "            similarity = (data[0].to(device)==noxmarty/resnet-tiny-mnist\n",
            "                max_similarity = similarity\n",
            "        \"\"\"\n",
            "        #print(f\"Maximum Similarity of picture (i, j) {(i, j)}: {max_similarity}\")\n",
            "\n",
            "        novel_weights= vq.get_codes_from_indices((novel_tokens))\n",
            "\n",
            "        dataset_no_transform = MnistNeFDataset(os.path.join(data_root, \"datasets\", \"mnist-nerfs\"), **kwargs)\n",
            "        original_dict = dataset_no_transform[0][0]\n",
            "\n",
            "        reconstructed_dict = backtransform_weights(novel_weights, original_dict[\"state_dict\"])\n",
            "\n",
            "        mlp3d = MLP3D(**original_dict[\"model_config\"])\n",
            "        mlp3d.load_state_dict(reconstructed_dict)\n",
            "        reconstructed_tensor = reconstruct_image(mlp3d)\n",
            "\n",
            "        axes[i][j].imshow(reconstructed_tensor, cmap='gray', aspect='auto')\n",
            "\n",
            "plt.show()"
         ]
      },
      {
         "cell_type": "code",
         "execution_count": 22,
         "metadata": {},
         "outputs": [
            {
               "name": "stdout",
               "output_type": "stream",
               "text": [
                  "0.703125\n",
                  "1.2872538566589355\n"
               ]
            }
         ],
         "source": [
            "from training.mnist_classifier_score import compute_mnist_score\n",
            "acc, loss= compute_mnist_score(model, vq, \"cuda\", token_dict)\n",
            "\n",
            "print(acc)\n",
            "print(loss)\n"
         ]
      },
      {
         "cell_type": "code",
         "execution_count": null,
         "metadata": {},
         "outputs": [
            {
               "data": {
                  "text/plain": [
                     "9"
                  ]
               },
               "execution_count": 15,
               "metadata": {},
               "output_type": "execute_result"
            }
         ],
         "source": [
            "from random import randrange\n",
            "\n",
            "randrange(10)"
         ]
      },
      {
         "cell_type": "code",
         "execution_count": 5,
         "metadata": {},
         "outputs": [
            {
               "name": "stdout",
               "output_type": "stream",
               "text": [
                  "number of parameters: 5.62M\n",
                  "{'1': {'1': {'acc': 0.65625, 'loss': 1.4447228908538818}}}\n"
               ]
            }
         ],
         "source": [
            "import optimize_metrics\n",
            "\n",
            "optimize_metrics.main()"
         ]
      },
      {
         "cell_type": "code",
         "execution_count": 6,
         "metadata": {},
         "outputs": [
            {
               "data": {
                  "text/plain": [
                     "{'1': {'1': {'acc': 0.65625, 'loss': 1.4447228908538818}}}"
                  ]
               },
               "execution_count": 6,
               "metadata": {},
               "output_type": "execute_result"
            }
         ],
         "source": []
      },
      {
         "cell_type": "code",
         "execution_count": null,
         "metadata": {},
         "outputs": [],
         "source": []
      }
   ],
   "metadata": {
      "kernelspec": {
         "display_name": ".venv",
         "language": "python",
         "name": "python3"
      },
      "language_info": {
         "codemirror_mode": {
            "name": "ipython",
            "version": 3
         },
         "file_extension": ".py",
         "mimetype": "text/x-python",
         "name": "python",
         "nbconvert_exporter": "python",
         "pygments_lexer": "ipython3",
         "version": "3.10.14"
      }
   },
   "nbformat": 4,
   "nbformat_minor": 2
}
