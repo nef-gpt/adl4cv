{
   "cells": [
      {
         "cell_type": "code",
         "execution_count": 1,
         "metadata": {},
         "outputs": [],
         "source": [
            "# Enable autoreload of module\n",
            "%load_ext autoreload\n",
            "%autoreload 2"
         ]
      },
      {
         "cell_type": "code",
         "execution_count": 2,
         "metadata": {},
         "outputs": [
            {
               "name": "stderr",
               "output_type": "stream",
               "text": [
                  "/home/luca/.cache/pypoetry/virtualenvs/adl4cv-OvNqwVNf-py3.10/lib/python3.10/site-packages/tqdm/auto.py:21: TqdmWarning: IProgress not found. Please update jupyter and ipywidgets. See https://ipywidgets.readthedocs.io/en/stable/user_install.html\n",
                  "  from .autonotebook import tqdm as notebook_tqdm\n",
                  "Failed to detect the name of this notebook, you can set it manually with the WANDB_NOTEBOOK_NAME environment variable to enable code saving.\n",
                  "\u001b[34m\u001b[1mwandb\u001b[0m: Currently logged in as: \u001b[33mluca-fanselau\u001b[0m (\u001b[33madl-for-cv\u001b[0m). Use \u001b[1m`wandb login --relogin`\u001b[0m to force relogin\n"
               ]
            }
         ],
         "source": [
            "import torch\n",
            "from vector_quantize_pytorch import VectorQuantize\n",
            "import os\n",
            "from data.neural_field_datasets import MnistNeFDataset, TokenTransform\n",
            "from training import training_nano_gpt\n",
            "from networks.nano_gpt import GPTConfig\n"
         ]
      },
      {
         "cell_type": "code",
         "execution_count": 3,
         "metadata": {},
         "outputs": [
            {
               "data": {
                  "text/plain": [
                     "True"
                  ]
               },
               "execution_count": 3,
               "metadata": {},
               "output_type": "execute_result"
            }
         ],
         "source": [
            "torch.cuda.is_available()"
         ]
      },
      {
         "cell_type": "code",
         "execution_count": 4,
         "metadata": {},
         "outputs": [],
         "source": [
            "\n",
            "\n",
            "# Load tokenized dataset\n",
            "dir_path = os.path.dirname(os.path.abspath(os.getcwd()))\n",
            "data_root_ours = os.path.join(dir_path, \"adl4cv\", \"datasets\", \"mnist-nerfs\")\n",
            "\n",
            "kwargs = {\n",
            "\"type\": \"pretrained\",\n",
            "\"fixed_label\": 5,\n",
            "}\n",
            "\n",
            "dir_path = os.path.dirname(os.path.abspath(os.getcwd()))\n",
            "data_root = os.path.join(dir_path, \"adl4cv\")\n",
            "\n",
            "# load used vector quantizer\n",
            "vq_path = os.path.join(data_root, \"models\", \"vqs\", \"vq_mnist.pt\")\n",
            "vq_dicts = torch.load(vq_path)\n",
            "# state_dict and vq_config are used to save the model\n",
            "vq_config = vq_dicts[\"vq_config\"]\n",
            "vq = VectorQuantize(**vq_config)\n",
            "\n",
            "\n",
            "data_root = os.path.join(dir_path, \"adl4cv\")\n",
            "\n",
            "dataset= MnistNeFDataset(os.path.join(data_root, \"datasets\", \"mnist-nerfs\"), transform=TokenTransform(vq), **kwargs)\n",
            "\n"
         ]
      },
      {
         "cell_type": "code",
         "execution_count": 5,
         "metadata": {},
         "outputs": [
            {
               "data": {
                  "text/plain": [
                     "1013"
                  ]
               },
               "execution_count": 5,
               "metadata": {},
               "output_type": "execute_result"
            }
         ],
         "source": [
            "indices = []\n",
            "for i in range(1000):\n",
            "   indices.append(dataset[i][0].max().item())\n",
            "\n",
            "max(indices)"
         ]
      },
      {
         "cell_type": "code",
         "execution_count": 9,
         "metadata": {},
         "outputs": [],
         "source": [
            "# Config Training\n",
            "config = training_nano_gpt.Config()\n",
            "config.learning_rate=2.5e-3\n",
            "config.max_iters = 20000\n",
            "config.weight_decay=0\n",
            "config.decay_lr=True\n",
            "config.lr_decay_iters=config.max_iters\n",
            "config.warmup_iters=0.1*config.max_iters\n",
            "config.batch_size = 16\n",
            "config.init_from = \"scratch\"\n",
            "config.out_dir =\"models/token_transformer\"\n",
            "config.detailed_folder = \"training_sample_5\"\n",
            "config.eval_interval = 250\n",
            "\n",
            "# Config Transforemer\n",
            "factor = 2\n",
            "model_config = GPTConfig(n_embd=144, block_size=len(dataset[0][0]), n_head=12, n_layer=12)"
         ]
      },
      {
         "cell_type": "code",
         "execution_count": 10,
         "metadata": {},
         "outputs": [],
         "source": [
            "\n",
            "# Assume these configurations are defined somewhere in your code.\n",
            "n = 512\n",
            "\n",
            "def get_batch(split: str):\n",
            "    batch_size = config.batch_size\n",
            "    \n",
            "    # Generate random indices for batch selection\n",
            "    indices = torch.randint(0, n, (batch_size,))\n",
            "    \n",
            "    # Initialize lists to hold the sequences and labels\n",
            "    samples = []\n",
            "    labels = []\n",
            "\n",
            "    # Collect samples and labels\n",
            "    for idx in indices:\n",
            "        sample, label = dataset[idx]\n",
            "        sos_token = torch.Tensor([0]).long()  # Start of sequence token\n",
            "        sample = torch.cat((sos_token, sample), dim=0)\n",
            "        samples.append(sample)\n",
            "        labels.append(label)\n",
            "\n",
            "    # Prepare the sequences for model input\n",
            "    max_len = samples[0].size(0)\n",
            "    x = torch.zeros((batch_size, max_len - 1), dtype=torch.long)\n",
            "    y = torch.zeros((batch_size, max_len - 1), dtype=torch.long)\n",
            "    \n",
            "    for i, sample in enumerate(samples):\n",
            "        end_index = sample.size(0) - 1\n",
            "        x[i, :end_index] = sample[:-1]  # Exclude the last token for x\n",
            "        y[i, :end_index] = sample[1:]   # Exclude the first token for y\n",
            "\n",
            "    # Ensure x and y are the correct shape (batch_size, block_size) if needed:\n",
            "    # Here, we truncate to `block_size` if samples are longer than `block_size`.\n",
            "    x = x[:, :model_config.block_size]\n",
            "    y = y[:, :model_config.block_size]\n",
            "\n",
            "    # x and y have to be\n",
            "    x = x.to(config.device)\n",
            "    y = y.to(config.device)\n",
            "\n",
            "    return x, y"
         ]
      },
      {
         "cell_type": "code",
         "execution_count": 12,
         "metadata": {},
         "outputs": [
            {
               "name": "stdout",
               "output_type": "stream",
               "text": [
                  "Initializing a new model from scratch\n",
                  "number of parameters: 3.16M\n",
                  "num decayed parameter tensors: 50, with 3,218,832 parameters\n",
                  "num non-decayed parameter tensors: 98, with 22,752 parameters\n",
                  "using fused AdamW: True\n"
               ]
            },
            {
               "data": {
                  "text/html": [
                     "Finishing last run (ID:jxu0e4bl) before initializing another..."
                  ],
                  "text/plain": [
                     "<IPython.core.display.HTML object>"
                  ]
               },
               "metadata": {},
               "output_type": "display_data"
            },
            {
               "data": {
                  "text/html": [
                     "<style>\n",
                     "    table.wandb td:nth-child(1) { padding: 0 10px; text-align: left ; width: auto;} td:nth-child(2) {text-align: left ; width: 100%}\n",
                     "    .wandb-row { display: flex; flex-direction: row; flex-wrap: wrap; justify-content: flex-start; width: 100% }\n",
                     "    .wandb-col { display: flex; flex-direction: column; flex-basis: 100%; flex: 1; padding: 10px; }\n",
                     "    </style>\n",
                     "<div class=\"wandb-row\"><div class=\"wandb-col\"><h3>Run history:</h3><br/><table class=\"wandb\"><tr><td>iter</td><td>▁█</td></tr><tr><td>lr</td><td>▁█</td></tr><tr><td>mfu</td><td>▁▁</td></tr><tr><td>train/loss</td><td>█▁</td></tr><tr><td>val/loss</td><td>█▁</td></tr></table><br/></div><div class=\"wandb-col\"><h3>Run summary:</h3><br/><table class=\"wandb\"><tr><td>iter</td><td>250</td></tr><tr><td>lr</td><td>0.00031</td></tr><tr><td>mfu</td><td>-100.0</td></tr><tr><td>train/loss</td><td>4.276</td></tr><tr><td>val/loss</td><td>4.27203</td></tr></table><br/></div></div>"
                  ],
                  "text/plain": [
                     "<IPython.core.display.HTML object>"
                  ]
               },
               "metadata": {},
               "output_type": "display_data"
            },
            {
               "data": {
                  "text/html": [
                     " View run <strong style=\"color:#cdcd00\">run-2024-06-07-23-55-06</strong> at: <a href='https://wandb.ai/adl-for-cv/naive_token_transformer/runs/jxu0e4bl' target=\"_blank\">https://wandb.ai/adl-for-cv/naive_token_transformer/runs/jxu0e4bl</a><br/> View project at: <a href='https://wandb.ai/adl-for-cv/naive_token_transformer' target=\"_blank\">https://wandb.ai/adl-for-cv/naive_token_transformer</a><br/>Synced 5 W&B file(s), 0 media file(s), 0 artifact file(s) and 0 other file(s)"
                  ],
                  "text/plain": [
                     "<IPython.core.display.HTML object>"
                  ]
               },
               "metadata": {},
               "output_type": "display_data"
            },
            {
               "data": {
                  "text/html": [
                     "Find logs at: <code>./wandb/run-20240607_235631-jxu0e4bl/logs</code>"
                  ],
                  "text/plain": [
                     "<IPython.core.display.HTML object>"
                  ]
               },
               "metadata": {},
               "output_type": "display_data"
            },
            {
               "data": {
                  "text/html": [
                     "Successfully finished last run (ID:jxu0e4bl). Initializing new run:<br/>"
                  ],
                  "text/plain": [
                     "<IPython.core.display.HTML object>"
                  ]
               },
               "metadata": {},
               "output_type": "display_data"
            },
            {
               "data": {
                  "text/html": [
                     "wandb version 0.17.1 is available!  To upgrade, please run:\n",
                     " $ pip install wandb --upgrade"
                  ],
                  "text/plain": [
                     "<IPython.core.display.HTML object>"
                  ]
               },
               "metadata": {},
               "output_type": "display_data"
            },
            {
               "data": {
                  "text/html": [
                     "Tracking run with wandb version 0.16.6"
                  ],
                  "text/plain": [
                     "<IPython.core.display.HTML object>"
                  ]
               },
               "metadata": {},
               "output_type": "display_data"
            },
            {
               "data": {
                  "text/html": [
                     "Run data is saved locally in <code>/home/luca/uni/master/adl4cv/wandb/run-20240607_235710-fvlhdh6x</code>"
                  ],
                  "text/plain": [
                     "<IPython.core.display.HTML object>"
                  ]
               },
               "metadata": {},
               "output_type": "display_data"
            },
            {
               "data": {
                  "text/html": [
                     "Syncing run <strong><a href='https://wandb.ai/adl-for-cv/naive_token_transformer/runs/fvlhdh6x' target=\"_blank\">run-2024-06-07-23-55-06</a></strong> to <a href='https://wandb.ai/adl-for-cv/naive_token_transformer' target=\"_blank\">Weights & Biases</a> (<a href='https://wandb.me/run' target=\"_blank\">docs</a>)<br/>"
                  ],
                  "text/plain": [
                     "<IPython.core.display.HTML object>"
                  ]
               },
               "metadata": {},
               "output_type": "display_data"
            },
            {
               "data": {
                  "text/html": [
                     " View project at <a href='https://wandb.ai/adl-for-cv/naive_token_transformer' target=\"_blank\">https://wandb.ai/adl-for-cv/naive_token_transformer</a>"
                  ],
                  "text/plain": [
                     "<IPython.core.display.HTML object>"
                  ]
               },
               "metadata": {},
               "output_type": "display_data"
            },
            {
               "data": {
                  "text/html": [
                     " View run at <a href='https://wandb.ai/adl-for-cv/naive_token_transformer/runs/fvlhdh6x' target=\"_blank\">https://wandb.ai/adl-for-cv/naive_token_transformer/runs/fvlhdh6x</a>"
                  ],
                  "text/plain": [
                     "<IPython.core.display.HTML object>"
                  ]
               },
               "metadata": {},
               "output_type": "display_data"
            },
            {
               "name": "stdout",
               "output_type": "stream",
               "text": [
                  "step 0: train loss 6.9567, val loss 6.9560\n",
                  "step 250: train loss 4.2789, val loss 4.2897\n",
                  "saving checkpoint to models/token_transformer\n",
                  "step 500: train loss 3.7219, val loss 3.7045\n",
                  "saving checkpoint to models/token_transformer\n",
                  "step 750: train loss 3.6472, val loss 3.6440\n",
                  "step 1000: train loss 3.6109, val loss 3.6001\n",
                  "step 1250: train loss 3.5422, val loss 3.5509\n",
                  "step 1500: train loss 3.4550, val loss 3.4494\n",
                  "saving checkpoint to models/token_transformer\n",
                  "step 1750: train loss 3.3381, val loss 3.3154\n",
                  "step 2000: train loss 3.1719, val loss 3.1820\n",
                  "saving checkpoint to models/token_transformer\n",
                  "step 2250: train loss 2.9312, val loss 2.9646\n",
                  "saving checkpoint to models/token_transformer\n",
                  "step 2500: train loss 2.7539, val loss 2.7329\n",
                  "saving checkpoint to models/token_transformer\n",
                  "step 2750: train loss 2.5414, val loss 2.5886\n",
                  "saving checkpoint to models/token_transformer\n",
                  "step 3000: train loss 2.2674, val loss 2.3274\n",
                  "saving checkpoint to models/token_transformer\n",
                  "step 3250: train loss 2.1588, val loss 2.1267\n",
                  "saving checkpoint to models/token_transformer\n",
                  "step 3500: train loss 1.8853, val loss 1.9523\n",
                  "saving checkpoint to models/token_transformer\n",
                  "step 3750: train loss 1.6360, val loss 1.7117\n",
                  "saving checkpoint to models/token_transformer\n",
                  "step 4000: train loss 1.5026, val loss 1.4863\n",
                  "saving checkpoint to models/token_transformer\n",
                  "step 4250: train loss 1.3484, val loss 1.2818\n",
                  "saving checkpoint to models/token_transformer\n",
                  "step 4500: train loss 1.2049, val loss 1.2046\n",
                  "saving checkpoint to models/token_transformer\n",
                  "step 4750: train loss 1.0465, val loss 1.0114\n",
                  "saving checkpoint to models/token_transformer\n",
                  "step 5000: train loss 0.9357, val loss 0.9635\n",
                  "step 5250: train loss 0.8422, val loss 0.8299\n",
                  "saving checkpoint to models/token_transformer\n",
                  "step 5500: train loss 0.7883, val loss 0.7804\n",
                  "saving checkpoint to models/token_transformer\n",
                  "step 5750: train loss 0.6740, val loss 0.7182\n",
                  "saving checkpoint to models/token_transformer\n",
                  "step 6000: train loss 0.6321, val loss 0.6298\n",
                  "saving checkpoint to models/token_transformer\n",
                  "step 6250: train loss 0.5049, val loss 0.5565\n",
                  "saving checkpoint to models/token_transformer\n",
                  "step 6500: train loss 0.4983, val loss 0.5065\n",
                  "saving checkpoint to models/token_transformer\n",
                  "step 6750: train loss 0.4597, val loss 0.4485\n",
                  "saving checkpoint to models/token_transformer\n",
                  "step 7000: train loss 0.4404, val loss 0.4079\n",
                  "saving checkpoint to models/token_transformer\n",
                  "step 7250: train loss 0.3842, val loss 0.4068\n",
                  "step 7500: train loss 0.3628, val loss 0.3657\n",
                  "saving checkpoint to models/token_transformer\n",
                  "step 7750: train loss 0.3441, val loss 0.3393\n",
                  "saving checkpoint to models/token_transformer\n",
                  "step 8000: train loss 0.3479, val loss 0.3141\n",
                  "saving checkpoint to models/token_transformer\n",
                  "step 8250: train loss 0.3022, val loss 0.2675\n",
                  "saving checkpoint to models/token_transformer\n",
                  "step 8500: train loss 0.2594, val loss 0.2742\n",
                  "step 8750: train loss 0.2302, val loss 0.2480\n",
                  "saving checkpoint to models/token_transformer\n",
                  "step 9000: train loss 0.2339, val loss 0.2262\n",
                  "saving checkpoint to models/token_transformer\n",
                  "step 9250: train loss 0.1979, val loss 0.2284\n"
               ]
            }
         ],
         "source": [
            "# Prepeare model parameters and train\n",
            "training_nano_gpt.train(get_batch, config, model_config)"
         ]
      },
      {
         "cell_type": "code",
         "execution_count": null,
         "metadata": {},
         "outputs": [
            {
               "name": "stdout",
               "output_type": "stream",
               "text": [
                  "number of parameters: 1.67M\n"
               ]
            }
         ],
         "source": [
            "import matplotlib.pyplot as plt\n",
            "import torch\n",
            "from animation.util import backtransform_weights\n",
            "from data.neural_field_datasets import MinMaxTransform  \n",
            "from networks.nano_gpt import GPT\n",
            "from utils import get_default_device\n",
            "\n",
            "# Assuming the following classes and functions are defined elsewhere:\n",
            "# - INR\n",
            "# - dataset_no_transform\n",
            "# - ae_trained\n",
            "# - dataset_flatten\n",
            "\n",
            "\n",
            "\n",
            "# Configuration\n",
            "idx = 3\n",
            "\n",
            "device = get_default_device()\n",
            "\n",
            "model_dict = torch.load(\"./models/ckpt.pt\")\n",
            "model = GPT(model_dict[\"model_args\"])\n",
            "model.load_state_dict(model_dict[\"model\"])\n",
            "model.to(device=device)\n",
            "\n",
            "\n",
            "sample = dataset[idx][0]\n",
            "X, Y = get_batch(\"\")\n",
            "X, Y = (X[0].unsqueeze(0), Y[0].unsqueeze(0))\n",
            "# autoregressive process\n",
            "seq = torch.zeros((1, 594)).long().to(device=device)\n",
            "X = X.to(device=torch.device(\"cuda\"))\n",
            "seq[0][0] = X[0][0]\n",
            "\n",
            "for i in range(0, model_config.block_size):\n",
            "    pred, _loss = model(seq[:, :-1], Y)\n",
            "    seq[0][i + 1] = pred[0][i].argmax()\n",
            "\n"
         ]
      },
      {
         "cell_type": "code",
         "execution_count": null,
         "metadata": {},
         "outputs": [],
         "source": [
            "pred, _ = model(X, Y)\n",
            "model_weights_test = vq.get_codes_from_indices((pred.argmax(dim=-1).to(\"cpu\")-1))"
         ]
      },
      {
         "cell_type": "code",
         "execution_count": null,
         "metadata": {},
         "outputs": [
            {
               "data": {
                  "text/plain": [
                     "torch.Size([1, 593, 1])"
                  ]
               },
               "execution_count": 17,
               "metadata": {},
               "output_type": "execute_result"
            }
         ],
         "source": [
            "model_weights_test.size()"
         ]
      },
      {
         "cell_type": "code",
         "execution_count": null,
         "metadata": {},
         "outputs": [
            {
               "data": {
                  "image/png": "[encoded data removed]",
                  "text/plain": [
                     "<Figure size 2000x1000 with 9 Axes>"
                  ]
               },
               "metadata": {},
               "output_type": "display_data"
            }
         ],
         "source": [
            "from animation.util import backtransform_weights, reconstruct_image\n",
            "from networks.mlp_models import MLP3D\n",
            "\n",
            "ij_len = 3\n",
            "# Plotting the tensors as heatmaps in grayscale\n",
            "fig, axes = plt.subplots(ij_len, ij_len, figsize=(20, 10))\n",
            "\n",
            "SOS = torch.Tensor([[0]]).long().to(device)\n",
            "\n",
            "for i in range(ij_len):\n",
            "    for j in range(ij_len):\n",
            "\n",
            "        model.eval()\n",
            "        novel_tokens = model.generate(SOS, 593, temperature=1.1, top_k=3)[:, 1:].unsqueeze(-1).to(\"cpu\")\n",
            "        novel_weights= vq.get_codes_from_indices((novel_tokens-1))\n",
            "\n",
            "        dataset_no_transform = MnistNeFDataset(data_root_ours, **kwargs)\n",
            "        original_dict = dataset_no_transform[0][0]\n",
            "\n",
            "        reconstructed_dict = backtransform_weights(novel_weights, original_dict[\"state_dict\"])\n",
            "\n",
            "        mlp3d = MLP3D(**original_dict[\"model_config\"])\n",
            "        mlp3d.load_state_dict(reconstructed_dict)\n",
            "        reconstructed_tensor = reconstruct_image(mlp3d)\n",
            "\n",
            "        axes[i][j].imshow(reconstructed_tensor, cmap='gray', aspect='auto')\n",
            "\n",
            "plt.show()"
         ]
      },
      {
         "cell_type": "code",
         "execution_count": null,
         "metadata": {},
         "outputs": [],
         "source": [
            "pred, _ = model(X, Y)"
         ]
      },
      {
         "cell_type": "code",
         "execution_count": null,
         "metadata": {},
         "outputs": [
            {
               "data": {
                  "text/plain": [
                     "torch.Size([1, 593, 1024])"
                  ]
               },
               "execution_count": 57,
               "metadata": {},
               "output_type": "execute_result"
            }
         ],
         "source": [
            "pred.size()"
         ]
      },
      {
         "cell_type": "code",
         "execution_count": null,
         "metadata": {},
         "outputs": [
            {
               "data": {
                  "text/plain": [
                     "tensor(587, device='cuda:0')"
                  ]
               },
               "execution_count": 81,
               "metadata": {},
               "output_type": "execute_result"
            }
         ],
         "source": [
            "torch.sum((pred.argmax(dim=-1)==Y).int())"
         ]
      }
   ],
   "metadata": {
      "kernelspec": {
         "display_name": ".venv",
         "language": "python",
         "name": "python3"
      },
      "language_info": {
         "codemirror_mode": {
            "name": "ipython",
            "version": 3
         },
         "file_extension": ".py",
         "mimetype": "text/x-python",
         "name": "python",
         "nbconvert_exporter": "python",
         "pygments_lexer": "ipython3",
         "version": "3.10.14"
      }
   },
   "nbformat": 4,
   "nbformat_minor": 2
}
