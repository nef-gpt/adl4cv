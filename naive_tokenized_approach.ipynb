{
   "cells": [
      {
         "cell_type": "code",
         "execution_count": 1,
         "metadata": {},
         "outputs": [],
         "source": [
            "# Enable autoreload of module\n",
            "%load_ext autoreload\n",
            "%autoreload 2"
         ]
      },
      {
         "cell_type": "code",
         "execution_count": 2,
         "metadata": {},
         "outputs": [
            {
               "name": "stderr",
               "output_type": "stream",
               "text": [
                  "/home/luca/.cache/pypoetry/virtualenvs/adl4cv-OvNqwVNf-py3.10/lib/python3.10/site-packages/tqdm/auto.py:21: TqdmWarning: IProgress not found. Please update jupyter and ipywidgets. See https://ipywidgets.readthedocs.io/en/stable/user_install.html\n",
                  "  from .autonotebook import tqdm as notebook_tqdm\n",
                  "/home/luca/.cache/pypoetry/virtualenvs/adl4cv-OvNqwVNf-py3.10/lib/python3.10/site-packages/torch/_utils.py:831: UserWarning: TypedStorage is deprecated. It will be removed in the future and UntypedStorage will be the only storage class. This should only matter to you if you are using storages directly.  To access UntypedStorage directly, use tensor.untyped_storage() instead of tensor.storage()\n",
                  "  return self.fget.__get__(instance, owner)()\n",
                  "Failed to detect the name of this notebook, you can set it manually with the WANDB_NOTEBOOK_NAME environment variable to enable code saving.\n",
                  "\u001b[34m\u001b[1mwandb\u001b[0m: Currently logged in as: \u001b[33mluca-fanselau\u001b[0m (\u001b[33madl-for-cv\u001b[0m). Use \u001b[1m`wandb login --relogin`\u001b[0m to force relogin\n"
               ]
            },
            {
               "data": {
                  "text/plain": [
                     "True"
                  ]
               },
               "execution_count": 2,
               "metadata": {},
               "output_type": "execute_result"
            }
         ],
         "source": [
            "import torch\n",
            "from vector_quantize_pytorch import VectorQuantize\n",
            "import os\n",
            "from data.neural_field_datasets import MnistNeFDataset, TokenTransform\n",
            "from training import training_nano_gpt\n",
            "\n",
            "from networks.nano_gpt import GPTConfig\n",
            "\n",
            "torch.cuda.is_available()"
         ]
      },
      {
         "cell_type": "code",
         "execution_count": 3,
         "metadata": {},
         "outputs": [
            {
               "data": {
                  "text/plain": [
                     "<All keys matched successfully>"
                  ]
               },
               "execution_count": 3,
               "metadata": {},
               "output_type": "execute_result"
            }
         ],
         "source": [
            "kwargs = {\n",
            "\"type\": \"pretrained\",\n",
            "\"fixed_label\": None,\n",
            "}\n",
            "\n",
            "dir_path = os.path.dirname(os.path.abspath(os.getcwd()))\n",
            "data_root = os.path.join(dir_path, \"adl4cv\")\n",
            "\n",
            "# load used vector quantizer\n",
            "vq_dicts = torch.load(os.path.join(data_root, \"models\", \"vqs\", \"vq_mnist_with_all_5_conditioned_n_501.pt\"))\n",
            "vq = VectorQuantize(**vq_dicts[\"vq_config\"])\n",
            "vq.load_state_dict(vq_dicts[\"state_dict\"])"
         ]
      },
      {
         "cell_type": "code",
         "execution_count": 4,
         "metadata": {},
         "outputs": [
            {
               "data": {
                  "text/plain": [
                     "60000"
                  ]
               },
               "execution_count": 4,
               "metadata": {},
               "output_type": "execute_result"
            }
         ],
         "source": [
            "dataset = MnistNeFDataset(os.path.join(data_root, \"datasets\", \"mnist-nerfs\"), transform=TokenTransform(vq), **kwargs)\n",
            "len(dataset)"
         ]
      },
      {
         "cell_type": "code",
         "execution_count": 5,
         "metadata": {},
         "outputs": [],
         "source": [
            "# Config Training\n",
            "config = training_nano_gpt.Config()\n",
            "config.learning_rate=3e-3\n",
            "config.max_iters = 30000\n",
            "config.weight_decay=0.00\n",
            "config.decay_lr=True\n",
            "config.lr_decay_iters=config.max_iters\n",
            "config.warmup_iters=0.05*config.max_iters\n",
            "config.batch_size = 64\n",
            "config.gradient_accumulation_steps = 1\n",
            "config.init_from = \"scratch\"\n",
            "config.out_dir =\"models/token_transformer\"\n",
            "config.detailed_folder = \"training_sample_5\"\n",
            "config.eval_interval = 250\n",
            "config.metric_interval = 250\n",
            "\n",
            "model_config = GPTConfig(n_embd=180, block_size=len(dataset[0][0]), n_head=12, n_layer=12, vocab_size=vq_dicts[\"vq_config\"][\"codebook_size\"] + 11, dropout=0.0)\n",
            "\n",
            "loaded = torch.load(\"./models/token_transformer/N_ALL_5M_LARGE_GOOD.pth\")\n",
            "model_config = loaded[\"model_args\"]\n",
            "config = loaded[\"config\"]"
         ]
      },
      {
         "cell_type": "code",
         "execution_count": 6,
         "metadata": {},
         "outputs": [
            {
               "data": {
                  "text/plain": [
                     "2"
                  ]
               },
               "execution_count": 6,
               "metadata": {},
               "output_type": "execute_result"
            }
         ],
         "source": [
            "182%12"
         ]
      },
      {
         "cell_type": "code",
         "execution_count": 7,
         "metadata": {},
         "outputs": [],
         "source": [
            "#early_stopping = training_nano_gpt.EarlyStopper(20)"
         ]
      },
      {
         "cell_type": "code",
         "execution_count": 8,
         "metadata": {},
         "outputs": [
            {
               "data": {
                  "text/plain": [
                     "'model_config = GPTConfig(\\n    n_embd=120, \\n    block_size=len(dataset[0][0]), \\n    n_head=12, n_layer=6, \\n    vocab_size=vq_dicts[\"vq_config\"][\"codebook_size\"] + 1,\\n    dropout=0.0\\n    )'"
                  ]
               },
               "execution_count": 8,
               "metadata": {},
               "output_type": "execute_result"
            }
         ],
         "source": [
            "\"\"\"model_config = GPTConfig(\n",
            "    n_embd=120, \n",
            "    block_size=len(dataset[0][0]), \n",
            "    n_head=12, n_layer=6, \n",
            "    vocab_size=vq_dicts[\"vq_config\"][\"codebook_size\"] + 1,\n",
            "    dropout=0.0\n",
            "    )\"\"\""
         ]
      },
      {
         "cell_type": "code",
         "execution_count": 9,
         "metadata": {},
         "outputs": [],
         "source": [
            "cb_size = vq_dicts[\"vq_config\"][\"codebook_size\"]\n",
            "token_dict = {\n",
            "    \"SOS\": cb_size + 0,\n",
            "    \"0\": cb_size + 10,\n",
            "    \"1\": cb_size + 9,\n",
            "    \"2\": cb_size + 8,\n",
            "    \"3\": cb_size + 7,\n",
            "    \"4\": cb_size + 6,\n",
            "    \"5\": cb_size + 5,\n",
            "    \"6\": cb_size + 4,\n",
            "    \"7\": cb_size + 3,\n",
            "    \"8\": cb_size + 2,\n",
            "    \"9\": cb_size + 1\n",
            "}\n"
         ]
      },
      {
         "cell_type": "code",
         "execution_count": 10,
         "metadata": {},
         "outputs": [
            {
               "data": {
                  "text/plain": [
                     "({'SOS': 245,\n",
                     "  '0': 255,\n",
                     "  '1': 254,\n",
                     "  '2': 253,\n",
                     "  '3': 252,\n",
                     "  '4': 251,\n",
                     "  '5': 250,\n",
                     "  '6': 249,\n",
                     "  '7': 248,\n",
                     "  '8': 247,\n",
                     "  '9': 246},\n",
                     " 245)"
                  ]
               },
               "execution_count": 10,
               "metadata": {},
               "output_type": "execute_result"
            }
         ],
         "source": [
            "token_dict, cb_size"
         ]
      },
      {
         "cell_type": "code",
         "execution_count": 11,
         "metadata": {},
         "outputs": [],
         "source": [
            "# Where to put?\n",
            "# Maybe adjust dataset to be able to work with splitting data and then rewrite TokenTransform \n",
            "# to do the job combined with pytorch dataloader (get_batch == __call__ of Dataloader)\n",
            "\n",
            "def create_split_indices(n, train_ratio=0.9):\n",
            "    # Generate a random permutation of indices from 0 to n-1\n",
            "    shuffled_indices = torch.randperm(n)\n",
            "    # Determine the cut-off for training data\n",
            "    train_size = int(train_ratio * n)\n",
            "    # Split indices into training and validation sets\n",
            "    train_indices = shuffled_indices[:train_size]\n",
            "    val_indices = shuffled_indices[train_size:]\n",
            "    return train_indices, val_indices\n",
            "\n",
            "train_indices, val_indices = create_split_indices(len(dataset))\n",
            "\n",
            "def get_batch_lambda(config, dataset, model_config, split):\n",
            "    batch_size = config.batch_size\n",
            "    \n",
            "\n",
            "    # Select indices based on the split\n",
            "    if split == 'train':\n",
            "        # Randomly select batch_size indices from the train_indices\n",
            "        indices = train_indices[torch.randint(0, len(train_indices), (batch_size,))]\n",
            "    elif split == 'val':\n",
            "        # Randomly select batch_size indices from the val_indices\n",
            "        indices = val_indices[torch.randint(0, len(val_indices), (batch_size,))]\n",
            "    \n",
            "    \n",
            "    # Initialize lists to hold the sequences and labels\n",
            "    samples = []\n",
            "    labels = []\n",
            "\n",
            "    # Collect samples and labels\n",
            "    for idx in indices:\n",
            "        sample, label = dataset[idx]\n",
            "        start_tokens = torch.Tensor([token_dict[\"SOS\"], token_dict[str(label)]]).long()  # Start of sequence token\n",
            "        sample = torch.cat((start_tokens, sample), dim=0)\n",
            "        #start_tokens = torch.Tensor([0]).long()  # Start of sequence token\n",
            "        #sample = torch.cat((start_tokens, sample + 1), dim=0)\n",
            "        samples.append(sample)\n",
            "        labels.append(label)\n",
            "\n",
            "    # Prepare the sequences for model input\n",
            "    max_len = samples[0].size(0)\n",
            "    x = torch.zeros((batch_size, max_len - 1), dtype=torch.long)\n",
            "    y = torch.zeros((batch_size, max_len - 1), dtype=torch.long)\n",
            "    \n",
            "    for i, sample in enumerate(samples):\n",
            "        end_index = sample.size(0) - 1\n",
            "        x[i, :end_index] = sample[:-1]  # Exclude the last token for x\n",
            "        y[i, :end_index] = sample[1:]   # Exclude the first token for y\n",
            "\n",
            "    # Ensure x and y are the correct shape (batch_size, block_size) if needed:\n",
            "    # Here, we truncate to `block_size` if samples are longer than `block_size`.\n",
            "    x = x[:, :model_config.block_size]\n",
            "    y = y[:, :model_config.block_size]\n",
            "\n",
            "    # x and y have to be\n",
            "    x = x.to(config.device)\n",
            "    y = y.to(config.device)\n",
            "\n",
            "    return x, y\n",
            "\n",
            "create_get_batch = lambda config, dataset, model_config: lambda split: get_batch_lambda(config, dataset, model_config, split)\n",
            "get_batch = create_get_batch(config, dataset, model_config)"
         ]
      },
      {
         "cell_type": "code",
         "execution_count": 12,
         "metadata": {},
         "outputs": [
            {
               "data": {
                  "text/plain": [
                     "30294000"
                  ]
               },
               "execution_count": 12,
               "metadata": {},
               "output_type": "execute_result"
            }
         ],
         "source": [
            "len(train_indices)*dataset[0][0].shape[0]"
         ]
      },
      {
         "cell_type": "code",
         "execution_count": 26,
         "metadata": {},
         "outputs": [
            {
               "name": "stdout",
               "output_type": "stream",
               "text": [
                  "Initializing a new model from scratch\n",
                  "number of parameters: 5.62M\n",
                  "num decayed parameter tensors: 34, with 5,725,680 parameters\n",
                  "num non-decayed parameter tensors: 66, with 25,440 parameters\n",
                  "using fused AdamW: True\n"
               ]
            },
            {
               "data": {
                  "text/html": [
                     "Finishing last run (ID:gzewyzun) before initializing another..."
                  ],
                  "text/plain": [
                     "<IPython.core.display.HTML object>"
                  ]
               },
               "metadata": {},
               "output_type": "display_data"
            },
            {
               "data": {
                  "text/html": [
                     " View run <strong style=\"color:#cdcd00\">run-2024-06-22-00-23-47</strong> at: <a href='https://wandb.ai/adl-for-cv/naive_token_transformer/runs/gzewyzun' target=\"_blank\">https://wandb.ai/adl-for-cv/naive_token_transformer/runs/gzewyzun</a><br/> View project at: <a href='https://wandb.ai/adl-for-cv/naive_token_transformer' target=\"_blank\">https://wandb.ai/adl-for-cv/naive_token_transformer</a><br/>Synced 5 W&B file(s), 0 media file(s), 0 artifact file(s) and 0 other file(s)"
                  ],
                  "text/plain": [
                     "<IPython.core.display.HTML object>"
                  ]
               },
               "metadata": {},
               "output_type": "display_data"
            },
            {
               "data": {
                  "text/html": [
                     "Find logs at: <code>./wandb/run-20240622_002348-gzewyzun/logs</code>"
                  ],
                  "text/plain": [
                     "<IPython.core.display.HTML object>"
                  ]
               },
               "metadata": {},
               "output_type": "display_data"
            },
            {
               "data": {
                  "text/html": [
                     "Successfully finished last run (ID:gzewyzun). Initializing new run:<br/>"
                  ],
                  "text/plain": [
                     "<IPython.core.display.HTML object>"
                  ]
               },
               "metadata": {},
               "output_type": "display_data"
            },
            {
               "data": {
                  "text/html": [
                     "wandb version 0.17.2 is available!  To upgrade, please run:\n",
                     " $ pip install wandb --upgrade"
                  ],
                  "text/plain": [
                     "<IPython.core.display.HTML object>"
                  ]
               },
               "metadata": {},
               "output_type": "display_data"
            },
            {
               "data": {
                  "text/html": [
                     "Tracking run with wandb version 0.16.6"
                  ],
                  "text/plain": [
                     "<IPython.core.display.HTML object>"
                  ]
               },
               "metadata": {},
               "output_type": "display_data"
            },
            {
               "data": {
                  "text/html": [
                     "Run data is saved locally in <code>/home/luca/uni/master/adl4cv/wandb/run-20240622_002448-01ubqxty</code>"
                  ],
                  "text/plain": [
                     "<IPython.core.display.HTML object>"
                  ]
               },
               "metadata": {},
               "output_type": "display_data"
            },
            {
               "data": {
                  "text/html": [
                     "Syncing run <strong><a href='https://wandb.ai/adl-for-cv/naive_token_transformer/runs/01ubqxty' target=\"_blank\">run-2024-06-22-00-23-47</a></strong> to <a href='https://wandb.ai/adl-for-cv/naive_token_transformer' target=\"_blank\">Weights & Biases</a> (<a href='https://wandb.me/run' target=\"_blank\">docs</a>)<br/>"
                  ],
                  "text/plain": [
                     "<IPython.core.display.HTML object>"
                  ]
               },
               "metadata": {},
               "output_type": "display_data"
            },
            {
               "data": {
                  "text/html": [
                     " View project at <a href='https://wandb.ai/adl-for-cv/naive_token_transformer' target=\"_blank\">https://wandb.ai/adl-for-cv/naive_token_transformer</a>"
                  ],
                  "text/plain": [
                     "<IPython.core.display.HTML object>"
                  ]
               },
               "metadata": {},
               "output_type": "display_data"
            },
            {
               "data": {
                  "text/html": [
                     " View run at <a href='https://wandb.ai/adl-for-cv/naive_token_transformer/runs/01ubqxty' target=\"_blank\">https://wandb.ai/adl-for-cv/naive_token_transformer/runs/01ubqxty</a>"
                  ],
                  "text/plain": [
                     "<IPython.core.display.HTML object>"
                  ]
               },
               "metadata": {},
               "output_type": "display_data"
            },
            {
               "name": "stdout",
               "output_type": "stream",
               "text": [
                  "step 0: mnist classifier loss: 4.148148059844971, mnist accuracy: 0.09375\n",
                  "step 0: train loss 5.6732, val loss 5.6733\n",
                  "step 250: mnist classifier loss: 3.7687907218933105, mnist accuracy: 0.1875\n",
                  "step 250: train loss 3.6009, val loss 3.5888\n",
                  "saving checkpoint to models/token_transformer\n",
                  "step 500: mnist classifier loss: 4.303024768829346, mnist accuracy: 0.09375\n",
                  "step 500: train loss 3.5206, val loss 3.5355\n",
                  "saving checkpoint to models/token_transformer\n",
                  "step 750: mnist classifier loss: 4.295627593994141, mnist accuracy: 0.109375\n",
                  "step 750: train loss 3.4429, val loss 3.4496\n",
                  "saving checkpoint to models/token_transformer\n",
                  "step 1000: mnist classifier loss: 3.656226396560669, mnist accuracy: 0.25\n",
                  "step 1000: train loss 3.3417, val loss 3.3356\n",
                  "saving checkpoint to models/token_transformer\n",
                  "step 1250: mnist classifier loss: 3.9164624214172363, mnist accuracy: 0.15625\n",
                  "step 1250: train loss 3.1918, val loss 3.1861\n",
                  "saving checkpoint to models/token_transformer\n",
                  "step 1500: mnist classifier loss: 3.4543380737304688, mnist accuracy: 0.25\n",
                  "step 1500: train loss 3.0275, val loss 3.0085\n",
                  "saving checkpoint to models/token_transformer\n",
                  "step 1750: mnist classifier loss: 3.1729729175567627, mnist accuracy: 0.265625\n",
                  "step 1750: train loss 2.8847, val loss 2.9091\n",
                  "saving checkpoint to models/token_transformer\n",
                  "step 2000: mnist classifier loss: 3.203535556793213, mnist accuracy: 0.296875\n",
                  "step 2000: train loss 2.8185, val loss 2.8098\n",
                  "saving checkpoint to models/token_transformer\n",
                  "step 2250: mnist classifier loss: 2.7375705242156982, mnist accuracy: 0.359375\n",
                  "step 2250: train loss 2.7262, val loss 2.7237\n",
                  "saving checkpoint to models/token_transformer\n",
                  "step 2500: mnist classifier loss: 2.763983964920044, mnist accuracy: 0.40625\n",
                  "step 2500: train loss 2.6599, val loss 2.6737\n",
                  "saving checkpoint to models/token_transformer\n",
                  "step 2750: mnist classifier loss: 2.650320291519165, mnist accuracy: 0.34375\n",
                  "step 2750: train loss 2.6438, val loss 2.6528\n",
                  "saving checkpoint to models/token_transformer\n",
                  "step 3000: mnist classifier loss: 3.2069480419158936, mnist accuracy: 0.296875\n",
                  "step 3000: train loss 2.6192, val loss 2.6126\n",
                  "saving checkpoint to models/token_transformer\n",
                  "step 3250: mnist classifier loss: 2.8839385509490967, mnist accuracy: 0.34375\n",
                  "step 3250: train loss 2.5748, val loss 2.5932\n",
                  "saving checkpoint to models/token_transformer\n",
                  "step 3500: mnist classifier loss: 2.4475526809692383, mnist accuracy: 0.40625\n",
                  "step 3500: train loss 2.5465, val loss 2.5525\n",
                  "saving checkpoint to models/token_transformer\n",
                  "step 3750: mnist classifier loss: 2.722465991973877, mnist accuracy: 0.34375\n",
                  "step 3750: train loss 2.5150, val loss 2.5406\n",
                  "saving checkpoint to models/token_transformer\n",
                  "step 4000: mnist classifier loss: 2.3997201919555664, mnist accuracy: 0.40625\n",
                  "step 4000: train loss 2.5363, val loss 2.5471\n",
                  "step 4250: mnist classifier loss: 2.252192258834839, mnist accuracy: 0.515625\n",
                  "step 4250: train loss 2.5143, val loss 2.5144\n",
                  "saving checkpoint to models/token_transformer\n",
                  "step 4500: mnist classifier loss: 2.2157859802246094, mnist accuracy: 0.484375\n",
                  "step 4500: train loss 2.4876, val loss 2.4972\n",
                  "saving checkpoint to models/token_transformer\n",
                  "step 4750: mnist classifier loss: 2.0937392711639404, mnist accuracy: 0.5\n",
                  "step 4750: train loss 2.4586, val loss 2.5048\n",
                  "step 5000: mnist classifier loss: 1.912968397140503, mnist accuracy: 0.484375\n",
                  "step 5000: train loss 2.4895, val loss 2.4763\n",
                  "saving checkpoint to models/token_transformer\n",
                  "step 5250: mnist classifier loss: 1.6256603002548218, mnist accuracy: 0.5\n",
                  "step 5250: train loss 2.4572, val loss 2.4725\n",
                  "saving checkpoint to models/token_transformer\n",
                  "step 5500: mnist classifier loss: 1.9345241785049438, mnist accuracy: 0.546875\n",
                  "step 5500: train loss 2.4512, val loss 2.4745\n",
                  "step 5750: mnist classifier loss: 1.8475745916366577, mnist accuracy: 0.515625\n",
                  "step 5750: train loss 2.4581, val loss 2.4774\n",
                  "step 6000: mnist classifier loss: 1.7666765451431274, mnist accuracy: 0.578125\n",
                  "step 6000: train loss 2.4377, val loss 2.4642\n",
                  "saving checkpoint to models/token_transformer\n",
                  "step 6250: mnist classifier loss: 1.984254240989685, mnist accuracy: 0.453125\n",
                  "step 6250: train loss 2.4526, val loss 2.4652\n",
                  "step 6500: mnist classifier loss: 2.0001540184020996, mnist accuracy: 0.546875\n",
                  "step 6500: train loss 2.4134, val loss 2.4579\n",
                  "saving checkpoint to models/token_transformer\n",
                  "step 6750: mnist classifier loss: 2.0856313705444336, mnist accuracy: 0.515625\n",
                  "step 6750: train loss 2.4252, val loss 2.4233\n",
                  "saving checkpoint to models/token_transformer\n",
                  "step 7000: mnist classifier loss: 1.4054621458053589, mnist accuracy: 0.609375\n",
                  "step 7000: train loss 2.4201, val loss 2.4363\n",
                  "step 7250: mnist classifier loss: 2.064077615737915, mnist accuracy: 0.546875\n",
                  "step 7250: train loss 2.4193, val loss 2.4397\n",
                  "step 7500: mnist classifier loss: 1.748969316482544, mnist accuracy: 0.5\n",
                  "step 7500: train loss 2.3947, val loss 2.4318\n",
                  "step 7750: mnist classifier loss: 1.356325626373291, mnist accuracy: 0.640625\n",
                  "step 7750: train loss 2.3902, val loss 2.4272\n",
                  "step 8000: mnist classifier loss: 1.2881869077682495, mnist accuracy: 0.6875\n",
                  "step 8000: train loss 2.3742, val loss 2.4225\n",
                  "saving checkpoint to models/token_transformer\n",
                  "step 8250: mnist classifier loss: 2.0098443031311035, mnist accuracy: 0.5625\n",
                  "step 8250: train loss 2.3897, val loss 2.4089\n",
                  "saving checkpoint to models/token_transformer\n",
                  "step 8500: mnist classifier loss: 2.2145273685455322, mnist accuracy: 0.46875\n",
                  "step 8500: train loss 2.3740, val loss 2.4179\n",
                  "step 8750: mnist classifier loss: 1.6367019414901733, mnist accuracy: 0.53125\n",
                  "step 8750: train loss 2.3804, val loss 2.4161\n",
                  "step 9000: mnist classifier loss: 1.6499300003051758, mnist accuracy: 0.546875\n",
                  "step 9000: train loss 2.3666, val loss 2.4004\n",
                  "saving checkpoint to models/token_transformer\n",
                  "step 9250: mnist classifier loss: 1.6150082349777222, mnist accuracy: 0.59375\n",
                  "step 9250: train loss 2.3581, val loss 2.3958\n",
                  "saving checkpoint to models/token_transformer\n",
                  "step 9500: mnist classifier loss: 1.6619409322738647, mnist accuracy: 0.53125\n",
                  "step 9500: train loss 2.3594, val loss 2.3812\n",
                  "saving checkpoint to models/token_transformer\n",
                  "step 9750: mnist classifier loss: 2.139007568359375, mnist accuracy: 0.515625\n",
                  "step 9750: train loss 2.3345, val loss 2.3982\n",
                  "step 10000: mnist classifier loss: 2.102252244949341, mnist accuracy: 0.4375\n",
                  "step 10000: train loss 2.3398, val loss 2.3714\n",
                  "saving checkpoint to models/token_transformer\n",
                  "step 10250: mnist classifier loss: 1.644403100013733, mnist accuracy: 0.53125\n",
                  "step 10250: train loss 2.3463, val loss 2.3781\n",
                  "step 10500: mnist classifier loss: 1.9710164070129395, mnist accuracy: 0.453125\n",
                  "step 10500: train loss 2.3165, val loss 2.3807\n",
                  "step 10750: mnist classifier loss: 1.8091703653335571, mnist accuracy: 0.515625\n",
                  "step 10750: train loss 2.3283, val loss 2.3754\n",
                  "step 11000: mnist classifier loss: 1.6036808490753174, mnist accuracy: 0.578125\n",
                  "step 11000: train loss 2.3226, val loss 2.3702\n",
                  "saving checkpoint to models/token_transformer\n",
                  "step 11250: mnist classifier loss: 1.5894687175750732, mnist accuracy: 0.578125\n",
                  "step 11250: train loss 2.3032, val loss 2.3525\n",
                  "saving checkpoint to models/token_transformer\n",
                  "step 11500: mnist classifier loss: 1.8730629682540894, mnist accuracy: 0.5625\n",
                  "step 11500: train loss 2.2987, val loss 2.3519\n",
                  "saving checkpoint to models/token_transformer\n",
                  "step 11750: mnist classifier loss: 1.7420319318771362, mnist accuracy: 0.546875\n",
                  "step 11750: train loss 2.3062, val loss 2.3586\n",
                  "step 12000: mnist classifier loss: 1.2019867897033691, mnist accuracy: 0.671875\n",
                  "step 12000: train loss 2.2959, val loss 2.3559\n",
                  "step 12250: mnist classifier loss: 1.483982801437378, mnist accuracy: 0.578125\n",
                  "step 12250: train loss 2.2943, val loss 2.3346\n",
                  "saving checkpoint to models/token_transformer\n",
                  "step 12500: mnist classifier loss: 1.6787465810775757, mnist accuracy: 0.5\n",
                  "step 12500: train loss 2.2769, val loss 2.3392\n",
                  "step 12750: mnist classifier loss: 1.6004465818405151, mnist accuracy: 0.5625\n",
                  "step 12750: train loss 2.2732, val loss 2.3570\n",
                  "step 13000: mnist classifier loss: 1.512274980545044, mnist accuracy: 0.625\n",
                  "step 13000: train loss 2.2687, val loss 2.3454\n",
                  "step 13250: mnist classifier loss: 1.0652048587799072, mnist accuracy: 0.65625\n",
                  "step 13250: train loss 2.2716, val loss 2.3248\n",
                  "saving checkpoint to models/token_transformer\n",
                  "step 13500: mnist classifier loss: 1.4087601900100708, mnist accuracy: 0.625\n",
                  "step 13500: train loss 2.2565, val loss 2.3272\n",
                  "step 13750: mnist classifier loss: 1.3800263404846191, mnist accuracy: 0.65625\n",
                  "step 13750: train loss 2.2603, val loss 2.3208\n",
                  "saving checkpoint to models/token_transformer\n",
                  "step 14000: mnist classifier loss: 1.3900257349014282, mnist accuracy: 0.640625\n",
                  "step 14000: train loss 2.2445, val loss 2.3046\n",
                  "saving checkpoint to models/token_transformer\n",
                  "step 14250: mnist classifier loss: 1.4430567026138306, mnist accuracy: 0.5625\n",
                  "step 14250: train loss 2.2484, val loss 2.3416\n",
                  "step 14500: mnist classifier loss: 1.2739278078079224, mnist accuracy: 0.671875\n",
                  "step 14500: train loss 2.2345, val loss 2.3282\n",
                  "step 14750: mnist classifier loss: 1.2512106895446777, mnist accuracy: 0.609375\n",
                  "step 14750: train loss 2.2183, val loss 2.3323\n",
                  "step 15000: mnist classifier loss: 1.63127863407135, mnist accuracy: 0.59375\n",
                  "step 15000: train loss 2.2280, val loss 2.3188\n",
                  "step 15250: mnist classifier loss: 1.3286024332046509, mnist accuracy: 0.59375\n",
                  "step 15250: train loss 2.2217, val loss 2.3037\n",
                  "saving checkpoint to models/token_transformer\n",
                  "step 15500: mnist classifier loss: 1.050424337387085, mnist accuracy: 0.671875\n",
                  "step 15500: train loss 2.2079, val loss 2.3037\n",
                  "saving checkpoint to models/token_transformer\n",
                  "step 15750: mnist classifier loss: 1.158934235572815, mnist accuracy: 0.71875\n",
                  "step 15750: train loss 2.2073, val loss 2.3166\n",
                  "step 16000: mnist classifier loss: 1.2369084358215332, mnist accuracy: 0.640625\n",
                  "step 16000: train loss 2.1996, val loss 2.3062\n",
                  "step 16250: mnist classifier loss: 1.6773791313171387, mnist accuracy: 0.5625\n",
                  "step 16250: train loss 2.2193, val loss 2.3032\n",
                  "saving checkpoint to models/token_transformer\n",
                  "step 16500: mnist classifier loss: 1.0296046733856201, mnist accuracy: 0.6875\n",
                  "step 16500: train loss 2.1689, val loss 2.3010\n",
                  "saving checkpoint to models/token_transformer\n",
                  "step 16750: mnist classifier loss: 1.32686448097229, mnist accuracy: 0.640625\n",
                  "step 16750: train loss 2.1793, val loss 2.2804\n",
                  "saving checkpoint to models/token_transformer\n",
                  "step 17000: mnist classifier loss: 1.564943790435791, mnist accuracy: 0.59375\n",
                  "step 17000: train loss 2.1900, val loss 2.2950\n",
                  "step 17250: mnist classifier loss: 1.0369778871536255, mnist accuracy: 0.6875\n",
                  "step 17250: train loss 2.1700, val loss 2.3022\n",
                  "step 17500: mnist classifier loss: 1.1634373664855957, mnist accuracy: 0.703125\n",
                  "step 17500: train loss 2.1736, val loss 2.3077\n",
                  "step 17750: mnist classifier loss: 1.1435848474502563, mnist accuracy: 0.671875\n",
                  "step 17750: train loss 2.1852, val loss 2.2914\n",
                  "step 18000: mnist classifier loss: 1.038824439048767, mnist accuracy: 0.671875\n",
                  "step 18000: train loss 2.1480, val loss 2.3005\n",
                  "step 18250: mnist classifier loss: 1.259472370147705, mnist accuracy: 0.65625\n",
                  "step 18250: train loss 2.1596, val loss 2.3155\n",
                  "step 18500: mnist classifier loss: 1.422720193862915, mnist accuracy: 0.625\n",
                  "step 18500: train loss 2.1522, val loss 2.3157\n",
                  "step 18750: mnist classifier loss: 1.1166592836380005, mnist accuracy: 0.65625\n",
                  "step 18750: train loss 2.1493, val loss 2.2974\n",
                  "step 19000: mnist classifier loss: 1.3174738883972168, mnist accuracy: 0.625\n",
                  "step 19000: train loss 2.1606, val loss 2.2823\n",
                  "step 19250: mnist classifier loss: 1.2074623107910156, mnist accuracy: 0.671875\n",
                  "step 19250: train loss 2.1616, val loss 2.2823\n",
                  "step 19500: mnist classifier loss: 1.0495144128799438, mnist accuracy: 0.703125\n",
                  "step 19500: train loss 2.1521, val loss 2.2965\n",
                  "step 19750: mnist classifier loss: 0.9958219528198242, mnist accuracy: 0.6875\n",
                  "step 19750: train loss 2.1692, val loss 2.2753\n",
                  "saving checkpoint to models/token_transformer\n",
                  "step 20000: mnist classifier loss: 0.9311839938163757, mnist accuracy: 0.71875\n",
                  "step 20000: train loss 2.1506, val loss 2.2967\n",
                  "step 20250: mnist classifier loss: 1.3922044038772583, mnist accuracy: 0.65625\n",
                  "step 20250: train loss 2.1375, val loss 2.2982\n",
                  "step 20500: mnist classifier loss: 1.0218688249588013, mnist accuracy: 0.71875\n",
                  "step 20500: train loss 2.1586, val loss 2.3010\n",
                  "step 20750: mnist classifier loss: 1.1628007888793945, mnist accuracy: 0.640625\n",
                  "step 20750: train loss 2.1523, val loss 2.2805\n",
                  "step 21000: mnist classifier loss: 1.2448537349700928, mnist accuracy: 0.625\n",
                  "step 21000: train loss 2.1597, val loss 2.2899\n",
                  "step 21250: mnist classifier loss: 0.923713207244873, mnist accuracy: 0.75\n",
                  "step 21250: train loss 2.1528, val loss 2.2935\n",
                  "step 21500: mnist classifier loss: 1.240504264831543, mnist accuracy: 0.6875\n",
                  "step 21500: train loss 2.1613, val loss 2.3120\n",
                  "step 21750: mnist classifier loss: 1.4138514995574951, mnist accuracy: 0.5625\n",
                  "step 21750: train loss 2.1421, val loss 2.2951\n",
                  "step 22000: mnist classifier loss: 1.2583998441696167, mnist accuracy: 0.65625\n",
                  "step 22000: train loss 2.1579, val loss 2.2960\n",
                  "step 22250: mnist classifier loss: 1.3027725219726562, mnist accuracy: 0.671875\n",
                  "step 22250: train loss 2.1445, val loss 2.2930\n",
                  "step 22500: mnist classifier loss: 1.511387825012207, mnist accuracy: 0.5625\n",
                  "step 22500: train loss 2.1516, val loss 2.3138\n",
                  "step 22750: mnist classifier loss: 1.0214956998825073, mnist accuracy: 0.65625\n",
                  "step 22750: train loss 2.1258, val loss 2.2777\n",
                  "step 23000: mnist classifier loss: 1.008334755897522, mnist accuracy: 0.75\n",
                  "step 23000: train loss 2.1441, val loss 2.3018\n",
                  "step 23250: mnist classifier loss: 1.1217797994613647, mnist accuracy: 0.640625\n",
                  "step 23250: train loss 2.1522, val loss 2.2900\n",
                  "step 23500: mnist classifier loss: 1.1425755023956299, mnist accuracy: 0.703125\n",
                  "step 23500: train loss 2.1309, val loss 2.2907\n",
                  "step 23750: mnist classifier loss: 1.2384250164031982, mnist accuracy: 0.671875\n",
                  "step 23750: train loss 2.1565, val loss 2.2733\n",
                  "saving checkpoint to models/token_transformer\n",
                  "step 24000: mnist classifier loss: 0.9368175864219666, mnist accuracy: 0.734375\n",
                  "step 24000: train loss 2.1393, val loss 2.3017\n",
                  "step 24250: mnist classifier loss: 1.029770016670227, mnist accuracy: 0.75\n",
                  "step 24250: train loss 2.1668, val loss 2.3069\n",
                  "step 24500: mnist classifier loss: 0.8510778546333313, mnist accuracy: 0.78125\n",
                  "step 24500: train loss 2.1491, val loss 2.2918\n",
                  "step 24750: mnist classifier loss: 1.1887198686599731, mnist accuracy: 0.65625\n",
                  "step 24750: train loss 2.1587, val loss 2.2824\n",
                  "step 25000: mnist classifier loss: 1.1917744874954224, mnist accuracy: 0.640625\n",
                  "step 25000: train loss 2.1484, val loss 2.2858\n",
                  "step 25250: mnist classifier loss: 0.7907828688621521, mnist accuracy: 0.796875\n",
                  "step 25250: train loss 2.1293, val loss 2.3076\n",
                  "step 25500: mnist classifier loss: 0.8867863416671753, mnist accuracy: 0.65625\n",
                  "step 25500: train loss 2.1448, val loss 2.3022\n",
                  "step 25750: mnist classifier loss: 0.9060347676277161, mnist accuracy: 0.71875\n",
                  "step 25750: train loss 2.1321, val loss 2.3353\n",
                  "step 26000: mnist classifier loss: 1.1991114616394043, mnist accuracy: 0.703125\n",
                  "step 26000: train loss 2.1486, val loss 2.2839\n",
                  "step 26250: mnist classifier loss: 1.4097777605056763, mnist accuracy: 0.640625\n",
                  "step 26250: train loss 2.1514, val loss 2.3149\n",
                  "step 26500: mnist classifier loss: 0.8610833287239075, mnist accuracy: 0.765625\n",
                  "step 26500: train loss 2.1514, val loss 2.2970\n",
                  "step 26750: mnist classifier loss: 0.7250838875770569, mnist accuracy: 0.765625\n",
                  "step 26750: train loss 2.1436, val loss 2.2807\n",
                  "step 27000: mnist classifier loss: 1.2197351455688477, mnist accuracy: 0.703125\n",
                  "step 27000: train loss 2.1349, val loss 2.2737\n",
                  "step 27250: mnist classifier loss: 0.9925397634506226, mnist accuracy: 0.71875\n",
                  "step 27250: train loss 2.1372, val loss 2.3072\n",
                  "step 27500: mnist classifier loss: 0.9869872331619263, mnist accuracy: 0.71875\n",
                  "step 27500: train loss 2.1570, val loss 2.2768\n",
                  "step 27750: mnist classifier loss: 1.0196560621261597, mnist accuracy: 0.71875\n",
                  "step 27750: train loss 2.1443, val loss 2.2970\n",
                  "step 28000: mnist classifier loss: 1.219185471534729, mnist accuracy: 0.75\n",
                  "step 28000: train loss 2.1487, val loss 2.2927\n",
                  "step 28250: mnist classifier loss: 1.4860122203826904, mnist accuracy: 0.578125\n",
                  "step 28250: train loss 2.1285, val loss 2.3179\n",
                  "step 28500: mnist classifier loss: 1.1845704317092896, mnist accuracy: 0.671875\n",
                  "step 28500: train loss 2.1386, val loss 2.3184\n",
                  "step 28750: mnist classifier loss: 1.2886568307876587, mnist accuracy: 0.640625\n",
                  "step 28750: train loss 2.1479, val loss 2.2689\n",
                  "saving checkpoint to models/token_transformer\n",
                  "step 29000: mnist classifier loss: 1.3971658945083618, mnist accuracy: 0.578125\n",
                  "step 29000: train loss 2.1364, val loss 2.2922\n",
                  "step 29250: mnist classifier loss: 1.2506674528121948, mnist accuracy: 0.703125\n",
                  "step 29250: train loss 2.1322, val loss 2.3141\n",
                  "step 29500: mnist classifier loss: 0.9431710839271545, mnist accuracy: 0.765625\n",
                  "step 29500: train loss 2.1437, val loss 2.2770\n",
                  "step 29750: mnist classifier loss: 1.3859667778015137, mnist accuracy: 0.59375\n",
                  "step 29750: train loss 2.1348, val loss 2.2961\n",
                  "step 30000: mnist classifier loss: 0.8185750842094421, mnist accuracy: 0.796875\n",
                  "step 30000: train loss 2.1392, val loss 2.3085\n",
                  "step 30250: mnist classifier loss: 1.031673550605774, mnist accuracy: 0.703125\n",
                  "step 30250: train loss 2.1418, val loss 2.3140\n",
                  "step 30500: mnist classifier loss: 1.3725991249084473, mnist accuracy: 0.65625\n",
                  "step 30500: train loss 2.1147, val loss 2.2872\n",
                  "step 30750: mnist classifier loss: 1.1826173067092896, mnist accuracy: 0.625\n",
                  "step 30750: train loss 2.1492, val loss 2.2917\n",
                  "step 31000: mnist classifier loss: 1.0610381364822388, mnist accuracy: 0.703125\n",
                  "step 31000: train loss 2.1470, val loss 2.2930\n",
                  "step 31250: mnist classifier loss: 1.5270583629608154, mnist accuracy: 0.625\n",
                  "step 31250: train loss 2.1345, val loss 2.2828\n",
                  "step 31500: mnist classifier loss: 1.2480559349060059, mnist accuracy: 0.640625\n",
                  "step 31500: train loss 2.1349, val loss 2.2916\n",
                  "step 31750: mnist classifier loss: 1.328740119934082, mnist accuracy: 0.671875\n",
                  "step 31750: train loss 2.1309, val loss 2.3034\n",
                  "step 32000: mnist classifier loss: 1.1624081134796143, mnist accuracy: 0.703125\n",
                  "step 32000: train loss 2.1394, val loss 2.3054\n",
                  "step 32250: mnist classifier loss: 0.9886049032211304, mnist accuracy: 0.671875\n",
                  "step 32250: train loss 2.1450, val loss 2.2886\n",
                  "step 32500: mnist classifier loss: 1.501177191734314, mnist accuracy: 0.59375\n",
                  "step 32500: train loss 2.1529, val loss 2.2792\n",
                  "step 32750: mnist classifier loss: 1.5726425647735596, mnist accuracy: 0.625\n",
                  "step 32750: train loss 2.1466, val loss 2.3216\n",
                  "step 33000: mnist classifier loss: 1.2652826309204102, mnist accuracy: 0.734375\n",
                  "step 33000: train loss 2.1407, val loss 2.3069\n",
                  "step 33250: mnist classifier loss: 1.1195091009140015, mnist accuracy: 0.65625\n",
                  "step 33250: train loss 2.1540, val loss 2.2904\n",
                  "step 33500: mnist classifier loss: 1.0574067831039429, mnist accuracy: 0.75\n",
                  "step 33500: train loss 2.1321, val loss 2.3120\n",
                  "step 33750: mnist classifier loss: 1.0218974351882935, mnist accuracy: 0.703125\n",
                  "step 33750: train loss 2.1399, val loss 2.3322\n",
                  "step 34000: mnist classifier loss: 1.15639328956604, mnist accuracy: 0.6875\n",
                  "step 34000: train loss 2.1489, val loss 2.3198\n",
                  "step 34250: mnist classifier loss: 1.3076508045196533, mnist accuracy: 0.609375\n",
                  "step 34250: train loss 2.1466, val loss 2.2883\n",
                  "step 34500: mnist classifier loss: 0.9929695725440979, mnist accuracy: 0.734375\n",
                  "step 34500: train loss 2.1267, val loss 2.3108\n",
                  "step 34750: mnist classifier loss: 1.1557936668395996, mnist accuracy: 0.6875\n",
                  "step 34750: train loss 2.1287, val loss 2.2942\n",
                  "step 35000: mnist classifier loss: 1.0706206560134888, mnist accuracy: 0.734375\n",
                  "step 35000: train loss 2.1182, val loss 2.2998\n",
                  "step 35250: mnist classifier loss: 0.8279260396957397, mnist accuracy: 0.78125\n",
                  "step 35250: train loss 2.1434, val loss 2.3061\n",
                  "step 35500: mnist classifier loss: 1.1900362968444824, mnist accuracy: 0.671875\n",
                  "step 35500: train loss 2.1216, val loss 2.3038\n",
                  "step 35750: mnist classifier loss: 0.9014370441436768, mnist accuracy: 0.6875\n",
                  "step 35750: train loss 2.1361, val loss 2.3054\n",
                  "step 36000: mnist classifier loss: 1.0638437271118164, mnist accuracy: 0.703125\n",
                  "step 36000: train loss 2.1159, val loss 2.3105\n",
                  "step 36250: mnist classifier loss: 1.1161469221115112, mnist accuracy: 0.703125\n",
                  "step 36250: train loss 2.1327, val loss 2.3067\n",
                  "step 36500: mnist classifier loss: 1.1263854503631592, mnist accuracy: 0.6875\n",
                  "step 36500: train loss 2.1390, val loss 2.3071\n",
                  "step 36750: mnist classifier loss: 1.22869074344635, mnist accuracy: 0.671875\n",
                  "step 36750: train loss 2.1238, val loss 2.3275\n",
                  "step 37000: mnist classifier loss: 1.066611647605896, mnist accuracy: 0.703125\n",
                  "step 37000: train loss 2.1359, val loss 2.2965\n",
                  "step 37250: mnist classifier loss: 0.9019394516944885, mnist accuracy: 0.734375\n",
                  "step 37250: train loss 2.1143, val loss 2.3034\n",
                  "step 37500: mnist classifier loss: 1.2114967107772827, mnist accuracy: 0.703125\n",
                  "step 37500: train loss 2.1316, val loss 2.3065\n",
                  "step 37750: mnist classifier loss: 0.998195230960846, mnist accuracy: 0.71875\n",
                  "step 37750: train loss 2.1333, val loss 2.2942\n",
                  "step 38000: mnist classifier loss: 1.1348153352737427, mnist accuracy: 0.671875\n",
                  "step 38000: train loss 2.1319, val loss 2.2965\n",
                  "step 38250: mnist classifier loss: 1.0695886611938477, mnist accuracy: 0.734375\n",
                  "step 38250: train loss 2.1306, val loss 2.3077\n",
                  "step 38500: mnist classifier loss: 1.3097124099731445, mnist accuracy: 0.625\n",
                  "step 38500: train loss 2.1417, val loss 2.3130\n",
                  "step 38750: mnist classifier loss: 1.507566213607788, mnist accuracy: 0.609375\n",
                  "step 38750: train loss 2.1591, val loss 2.3185\n",
                  "step 39000: mnist classifier loss: 0.9986258149147034, mnist accuracy: 0.71875\n",
                  "step 39000: train loss 2.1231, val loss 2.3129\n",
                  "step 39250: mnist classifier loss: 1.140053153038025, mnist accuracy: 0.671875\n",
                  "step 39250: train loss 2.1428, val loss 2.3082\n",
                  "step 39500: mnist classifier loss: 0.8552961945533752, mnist accuracy: 0.71875\n",
                  "step 39500: train loss 2.1585, val loss 2.3123\n",
                  "step 39750: mnist classifier loss: 1.1332545280456543, mnist accuracy: 0.640625\n",
                  "step 39750: train loss 2.1247, val loss 2.3189\n",
                  "step 40000: mnist classifier loss: 1.1377906799316406, mnist accuracy: 0.671875\n",
                  "step 40000: train loss 2.1271, val loss 2.3502\n"
               ]
            }
         ],
         "source": [
            "# Prepeare model parameters and train\n",
            "import wandb\n",
            "trained_model = training_nano_gpt.train(get_batch, config, model_config, vq, vq_dicts[\"vq_config\"], token_dict=token_dict)\n"
         ]
      },
      {
         "cell_type": "code",
         "execution_count": 13,
         "metadata": {},
         "outputs": [
            {
               "name": "stdout",
               "output_type": "stream",
               "text": [
                  "dict_keys(['model', 'optimizer', 'model_args', 'iter_num', 'best_val_loss', 'config', 'vq_state_dict', 'vq_config', 'token_dict'])\n",
                  "number of parameters: 5.62M\n"
               ]
            },
            {
               "data": {
                  "text/plain": [
                     "tensor([[False, False, False, False, False, False,  True, False, False,  True,\n",
                     "         False, False, False, False, False, False, False, False,  True, False,\n",
                     "          True, False, False, False,  True,  True,  True, False, False, False,\n",
                     "         False, False, False,  True, False,  True, False,  True,  True, False,\n",
                     "          True, False, False, False, False, False,  True, False, False, False,\n",
                     "         False, False, False, False,  True, False, False, False, False,  True,\n",
                     "         False, False, False, False, False, False, False, False,  True, False,\n",
                     "          True, False, False,  True, False, False, False, False, False, False,\n",
                     "         False, False,  True, False, False, False, False, False,  True,  True,\n",
                     "         False, False, False, False, False,  True,  True, False, False, False,\n",
                     "         False,  True, False,  True, False, False, False, False, False, False,\n",
                     "         False, False, False, False, False,  True, False,  True, False, False,\n",
                     "          True, False, False, False,  True, False, False, False, False, False,\n",
                     "         False, False, False,  True,  True, False,  True, False, False, False,\n",
                     "         False, False, False, False,  True, False, False, False,  True, False,\n",
                     "         False, False, False, False,  True, False, False, False, False, False,\n",
                     "         False,  True, False, False, False, False, False, False, False, False,\n",
                     "         False, False, False, False,  True, False, False, False, False, False,\n",
                     "         False, False, False, False,  True, False, False,  True, False, False,\n",
                     "         False, False,  True,  True,  True,  True,  True,  True,  True,  True,\n",
                     "          True,  True,  True,  True,  True,  True,  True,  True,  True, False,\n",
                     "         False, False, False, False,  True, False, False, False, False,  True,\n",
                     "         False, False, False,  True, False, False, False, False,  True,  True,\n",
                     "          True,  True, False, False, False,  True,  True, False, False, False,\n",
                     "         False, False, False,  True,  True, False, False, False,  True, False,\n",
                     "         False, False,  True, False, False, False, False, False,  True,  True,\n",
                     "          True,  True,  True,  True,  True,  True, False,  True,  True,  True,\n",
                     "          True,  True,  True, False,  True, False, False, False, False, False,\n",
                     "         False, False, False, False, False,  True, False, False, False,  True,\n",
                     "          True,  True,  True,  True,  True,  True,  True,  True,  True,  True,\n",
                     "          True,  True,  True,  True,  True, False, False, False, False, False,\n",
                     "         False, False, False, False, False, False, False,  True, False, False,\n",
                     "         False,  True,  True, False, False, False, False, False, False, False,\n",
                     "          True, False, False,  True, False, False, False, False, False, False,\n",
                     "         False,  True, False, False, False, False, False, False, False,  True,\n",
                     "         False, False, False,  True, False, False, False, False, False, False,\n",
                     "         False, False, False, False, False,  True, False, False, False,  True,\n",
                     "         False,  True, False,  True, False,  True,  True, False,  True,  True,\n",
                     "         False,  True, False, False,  True,  True,  True, False,  True, False,\n",
                     "         False, False, False, False, False,  True,  True,  True, False,  True,\n",
                     "         False,  True,  True,  True, False,  True,  True, False,  True,  True,\n",
                     "          True,  True,  True,  True,  True,  True,  True, False,  True, False,\n",
                     "          True,  True,  True,  True,  True,  True, False, False,  True,  True,\n",
                     "          True,  True, False, False,  True, False, False, False, False, False,\n",
                     "          True, False, False, False, False,  True, False, False, False, False,\n",
                     "         False, False, False, False, False,  True, False, False, False, False,\n",
                     "         False,  True, False, False, False, False, False,  True, False, False,\n",
                     "         False, False,  True, False, False, False, False,  True, False, False,\n",
                     "         False,  True,  True,  True,  True,  True,  True,  True,  True,  True,\n",
                     "          True,  True,  True,  True,  True,  True,  True, False, False, False,\n",
                     "         False,  True, False, False, False,  True, False, False, False,  True,\n",
                     "         False,  True, False, False, False, False, False, False,  True, False,\n",
                     "          True, False, False, False, False,  True, False, False, False,  True,\n",
                     "          True, False, False,  True, False, False,  True,  True,  True, False,\n",
                     "         False, False,  True, False,  True, False,  True, False,  True, False,\n",
                     "          True,  True, False,  True,  True, False, False,  True,  True,  True,\n",
                     "          True]], device='cuda:0')"
                  ]
               },
               "execution_count": 13,
               "metadata": {},
               "output_type": "execute_result"
            }
         ],
         "source": [
            "import matplotlib.pyplot as plt\n",
            "import torch\n",
            "from networks.nano_gpt import GPT\n",
            "from utils import get_default_device\n",
            "\n",
            "model_dict = torch.load(\"./models/token_transformer/proper_tokens.pt\")\n",
            "# Configuration\n",
            "print(model_dict.keys())\n",
            "idx = 3\n",
            "\n",
            "device = get_default_device()\n",
            "model = GPT(model_dict[\"model_args\"])#model_dict\n",
            "model.to(device=device)\n",
            "model.load_state_dict(model_dict[\"model\"])\n",
            "model.eval()\n",
            "\n",
            "vq = VectorQuantize(**model_dict[\"vq_config\"])\n",
            "vq.load_state_dict(model_dict[\"vq_state_dict\"])\n",
            "vq.eval()\n",
            "\n",
            "dataset = MnistNeFDataset(os.path.join(data_root, \"datasets\", \"mnist-nerfs\"), transform=TokenTransform(vq), **kwargs)\n",
            "\n",
            "\n",
            "sample = dataset[0][0]\n",
            "X, Y = get_batch('val')\n",
            "X, Y = (X[0].unsqueeze(0), Y[0].unsqueeze(0))\n",
            "pred, _ = model(X, Y)\n",
            "# Sanity Check\n",
            "# Should be all true except first/second element\n",
            "pred.argmax(dim=-1)==Y\n"
         ]
      },
      {
         "cell_type": "code",
         "execution_count": 24,
         "metadata": {},
         "outputs": [
            {
               "name": "stdout",
               "output_type": "stream",
               "text": [
                  "2\n",
                  "0\n",
                  "0\n",
                  "6\n",
                  "1\n",
                  "9\n",
                  "2\n",
                  "9\n",
                  "4\n"
               ]
            },
            {
               "data": {
                  "image/png": "[encoded data removed]",
                  "text/plain": [
                     "<Figure size 1000x1000 with 9 Axes>"
                  ]
               },
               "metadata": {
                  "needs_background": "light"
               },
               "output_type": "display_data"
            }
         ],
         "source": [
            "from random import randint\n",
            "from animation.util import backtransform_weights, reconstruct_image\n",
            "from networks.mlp_models import MLP3D\n",
            "\n",
            "ij_len = 3\n",
            "# Plotting the tensors as heatmaps in grayscale\n",
            "plt.style.use(\"dark_background\")\n",
            "fig, axes = plt.subplots(ij_len, ij_len, figsize=(10, 10))\n",
            "\n",
            "fig.patch.set_alpha(0)\n",
            "\n",
            "for ax in axes.flat:\n",
            "    ax.patch.set_facecolor(\"none\")\n",
            "    ax.patch.set_alpha(0)\n",
            "\n",
            "\n",
            "kwargs = {\n",
            "\"type\": \"pretrained\",\n",
            "\"fixed_label\": None,\n",
            "}\n",
            "\n",
            "for i in range(ij_len):\n",
            "    for j in range(ij_len):\n",
            "\n",
            "        model.eval()\n",
            "        number = str(randint(0, 9))\n",
            "        novel_tokens = model.generate(torch.Tensor([[token_dict[\"SOS\"], token_dict[number]]]).long().to(device=\"cuda\"), dataset[0][0].shape[0], temperature=1, top_k=None)[:, 1:]\n",
            "\n",
            "        print(number)\n",
            "        novel_tokens = novel_tokens[:, 1:].unsqueeze(-1).to(\"cpu\")\n",
            "                                                                                                                         \n",
            "\n",
            "        max_similarity = 0\n",
            "        \"\"\"\n",
            "        for data in dataset:\n",
            "            similarity = (data[0].to(device)==noxmarty/resnet-tiny-mnist\n",
            "                max_similarity = similarity\n",
            "        \"\"\"\n",
            "        #print(f\"Maximum Similarity of picture (i, j) {(i, j)}: {max_similarity}\")\n",
            "\n",
            "        novel_weights= vq.get_codes_from_indices((novel_tokens))\n",
            "\n",
            "        dataset_no_transform = MnistNeFDataset(os.path.join(data_root, \"datasets\", \"mnist-nerfs\"), **kwargs)\n",
            "        original_dict = dataset_no_transform[0][0]\n",
            "\n",
            "        reconstructed_dict = backtransform_weights(novel_weights, original_dict[\"state_dict\"])\n",
            "\n",
            "        mlp3d = MLP3D(**original_dict[\"model_config\"])\n",
            "        mlp3d.load_state_dict(reconstructed_dict)\n",
            "        reconstructed_tensor = reconstruct_image(mlp3d)\n",
            "\n",
            "        axes[i][j].imshow(reconstructed_tensor, cmap='gray', aspect='auto')\n",
            "        axes[i][j].set_title(number)\n",
            "        axes[i][j].axis(\"off\")\n",
            "\n",
            "fig.patch.set_alpha(0)\n",
            "\n",
            "\n",
            "plt.show()"
         ]
      },
      {
         "cell_type": "code",
         "execution_count": null,
         "metadata": {},
         "outputs": [
            {
               "name": "stdout",
               "output_type": "stream",
               "text": [
                  "0.703125\n",
                  "1.2872538566589355\n"
               ]
            }
         ],
         "source": [
            "from training.mnist_classifier_score import compute_mnist_score\n",
            "acc, loss= compute_mnist_score(model, vq, \"cuda\", token_dict)\n",
            "\n",
            "print(acc)\n",
            "print(loss)\n"
         ]
      },
      {
         "cell_type": "code",
         "execution_count": null,
         "metadata": {},
         "outputs": [],
         "source": [
            "# script to "
         ]
      },
      {
         "cell_type": "code",
         "execution_count": null,
         "metadata": {},
         "outputs": [],
         "source": [
            "from utils.metrics import compute_all_metrics\n",
            "\n",
            "reference =\n",
            "\n",
            "compute_all_metrics()"
         ]
      },
      {
         "cell_type": "code",
         "execution_count": 43,
         "metadata": {},
         "outputs": [],
         "source": [
            "# get the logits of the gpt model generation\n",
            "model.eval()\n",
            "logits_conditioning = model.generate_logits(torch.Tensor([[token_dict[\"SOS\"]]]).long().to(device=\"cuda\"))\n",
            "\n",
            "# do a whole autoregressive proccess and get the logits for the last token\n",
            "novel_tokens = model.generate(torch.Tensor([[token_dict[\"SOS\"]]]).long().to(device=\"cuda\"), dataset[0][0].shape[0] + 1, temperature=0.8, top_k=3)[:, :]\n",
            "logits_last = model.generate_logits(novel_tokens[:, :-1])"
         ]
      },
      {
         "cell_type": "code",
         "execution_count": 44,
         "metadata": {},
         "outputs": [
            {
               "data": {
                  "image/png": "[encoded data removed]",
                  "text/plain": [
                     "<Figure size 1000x500 with 1 Axes>"
                  ]
               },
               "metadata": {},
               "output_type": "display_data"
            }
         ],
         "source": [
            "# barchart of the logits\n",
            "fig, ax = plt.subplots(1, 1, figsize=(10, 5))\n",
            "ax.bar(range(logits_last.shape[-1]), logits_last[0].detach().cpu().numpy())\n",
            "ax.set_title(\"Logits of the conditioning tokens\")\n",
            "plt.show()"
         ]
      },
      {
         "cell_type": "code",
         "execution_count": null,
         "metadata": {},
         "outputs": [],
         "source": [
            "logits"
         ]
      },
      {
         "cell_type": "code",
         "execution_count": null,
         "metadata": {},
         "outputs": [],
         "source": [
            "# store the logits as numpy file\n",
            "import numpy as np\n",
            "np.save(\"logits_conditioning.npy\", logits_conditioning.squeeze(0).detach().cpu().numpy())\n",
            "np.save(\"logits_last.npy\", logits_last.squeeze(0).detach().cpu().numpy())"
         ]
      },
      {
         "cell_type": "code",
         "execution_count": null,
         "metadata": {},
         "outputs": [
            {
               "data": {
                  "text/plain": [
                     "Text(0.5, 1.0, 'Softmax of the logits of the conditioning tokens')"
                  ]
               },
               "execution_count": 35,
               "metadata": {},
               "output_type": "execute_result"
            },
            {
               "data": {
                  "image/png": "[encoded data removed]",
                  "text/plain": [
                     "<Figure size 1000x500 with 1 Axes>"
                  ]
               },
               "metadata": {},
               "output_type": "display_data"
            }
         ],
         "source": [
            "# softmax of the logits conditioning\n",
            "fig, ax = plt.subplots(1, 1, figsize=(10, 5))\n",
            "temperature = 2\n",
            "logits = logits_last / temperature\n",
            "ax.bar(range(logits_last.shape[-1]), torch.softmax(logits[0], dim=-1).detach().cpu().numpy())\n",
            "ax.set_title(\"Softmax of the logits of the conditioning tokens\")"
         ]
      },
      {
         "cell_type": "code",
         "execution_count": null,
         "metadata": {},
         "outputs": [
            {
               "name": "stdout",
               "output_type": "stream",
               "text": [
                  "number of parameters: 5.62M\n",
                  "{'1': {'1': {'acc': 0.65625, 'loss': 1.4447228908538818}}}\n"
               ]
            }
         ],
         "source": [
            "import optimize_metrics\n",
            "\n",
            "optimize_metrics.main()"
         ]
      },
      {
         "cell_type": "code",
         "execution_count": null,
         "metadata": {},
         "outputs": [
            {
               "data": {
                  "text/plain": [
                     "{'1': {'1': {'acc': 0.65625, 'loss': 1.4447228908538818}}}"
                  ]
               },
               "execution_count": 6,
               "metadata": {},
               "output_type": "execute_result"
            }
         ],
         "source": []
      },
      {
         "cell_type": "code",
         "execution_count": null,
         "metadata": {},
         "outputs": [],
         "source": []
      }
   ],
   "metadata": {
      "kernelspec": {
         "display_name": ".venv",
         "language": "python",
         "name": "python3"
      },
      "language_info": {
         "codemirror_mode": {
            "name": "ipython",
            "version": 3
         },
         "file_extension": ".py",
         "mimetype": "text/x-python",
         "name": "python",
         "nbconvert_exporter": "python",
         "pygments_lexer": "ipython3",
         "version": "3.10.14"
      }
   },
   "nbformat": 4,
   "nbformat_minor": 2
}
