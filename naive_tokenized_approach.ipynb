{
   "cells": [
      {
         "cell_type": "code",
         "execution_count": 1,
         "metadata": {},
         "outputs": [],
         "source": [
            "# Enable autoreload of module\n",
            "%load_ext autoreload\n",
            "%autoreload 2"
         ]
      },
      {
         "cell_type": "code",
         "execution_count": 2,
         "metadata": {},
         "outputs": [
            {
               "name": "stderr",
               "output_type": "stream",
               "text": [
                  "/home/luca/.cache/pypoetry/virtualenvs/adl4cv-OvNqwVNf-py3.10/lib/python3.10/site-packages/tqdm/auto.py:21: TqdmWarning: IProgress not found. Please update jupyter and ipywidgets. See https://ipywidgets.readthedocs.io/en/stable/user_install.html\n",
                  "  from .autonotebook import tqdm as notebook_tqdm\n",
                  "/home/luca/.cache/pypoetry/virtualenvs/adl4cv-OvNqwVNf-py3.10/lib/python3.10/site-packages/torch/_utils.py:831: UserWarning: TypedStorage is deprecated. It will be removed in the future and UntypedStorage will be the only storage class. This should only matter to you if you are using storages directly.  To access UntypedStorage directly, use tensor.untyped_storage() instead of tensor.storage()\n",
                  "  return self.fget.__get__(instance, owner)()\n",
                  "Failed to detect the name of this notebook, you can set it manually with the WANDB_NOTEBOOK_NAME environment variable to enable code saving.\n",
                  "\u001b[34m\u001b[1mwandb\u001b[0m: Currently logged in as: \u001b[33mluca-fanselau\u001b[0m (\u001b[33madl-for-cv\u001b[0m). Use \u001b[1m`wandb login --relogin`\u001b[0m to force relogin\n"
               ]
            },
            {
               "data": {
                  "text/plain": [
                     "True"
                  ]
               },
               "execution_count": 2,
               "metadata": {},
               "output_type": "execute_result"
            }
         ],
         "source": [
            "import torch\n",
            "import torchvision\n",
            "from vector_quantize_pytorch import VectorQuantize\n",
            "import os\n",
            "from data.neural_field_datasets import MnistNeFDataset, TokenTransform\n",
            "from training import training_nano_gpt\n",
            "\n",
            "from networks.nano_gpt import GPTConfig\n",
            "\n",
            "torch.cuda.is_available()"
         ]
      },
      {
         "cell_type": "code",
         "execution_count": 3,
         "metadata": {},
         "outputs": [
            {
               "data": {
                  "text/plain": [
                     "<All keys matched successfully>"
                  ]
               },
               "execution_count": 3,
               "metadata": {},
               "output_type": "execute_result"
            }
         ],
         "source": [
            "kwargs = {\n",
            "\"type\": \"pretrained\",\n",
            "\"fixed_label\": None,\n",
            "}\n",
            "\n",
            "dir_path = os.path.dirname(os.path.abspath(os.getcwd()))\n",
            "data_root = os.path.join(dir_path, \"adl4cv\")\n",
            "\n",
            "# load used vector quantizer\n",
            "vq_dicts = torch.load(os.path.join(data_root, \"models\", \"vqs\", \"vq_mnist_with_all_5_conditioned_n_501.pt\"))\n",
            "vq = VectorQuantize(**vq_dicts[\"vq_config\"])\n",
            "vq.load_state_dict(vq_dicts[\"state_dict\"])"
         ]
      },
      {
         "cell_type": "code",
         "execution_count": 4,
         "metadata": {},
         "outputs": [
            {
               "data": {
                  "text/plain": [
                     "60000"
                  ]
               },
               "execution_count": 4,
               "metadata": {},
               "output_type": "execute_result"
            }
         ],
         "source": [
            "dataset = MnistNeFDataset(os.path.join(data_root, \"datasets\", \"mnist-nerfs\"), transform=TokenTransform(vq), **kwargs)\n",
            "len(dataset)"
         ]
      },
      {
         "cell_type": "code",
         "execution_count": 5,
         "metadata": {},
         "outputs": [],
         "source": [
            "# Config Training\n",
            "config = training_nano_gpt.Config()\n",
            "config.learning_rate=9e-4\n",
            "config.max_iters = 30000\n",
            "config.weight_decay=0.00\n",
            "config.decay_lr=True\n",
            "config.lr_decay_iters=config.max_iters\n",
            "config.warmup_iters=0.05*config.max_iters\n",
            "config.batch_size = 256\n",
            "config.gradient_accumulation_steps = 1\n",
            "config.init_from = \"scratch\"\n",
            "config.out_dir =\"models/token_transformer\"\n",
            "config.detailed_folder = \"training_sample_5\"\n",
            "config.eval_interval = 250\n",
            "config.metric_interval = 250\n",
            "\n",
            "# loaded = torch.load(\"./models/token_transformer/N_ALL_5M_LARGE_GOOD.pth\")\n",
            "# model_config = loaded[\"model_args\"]\n",
            "# config = loaded[\"config\"]\n",
            "\n",
            "\n",
            "model_config = GPTConfig(n_embd=300, block_size=128, n_head=12, n_layer=12, vocab_size=vq_dicts[\"vq_config\"][\"codebook_size\"] + 11, dropout=0.0, max_len=len(dataset[0][0]) + 1)\n"
         ]
      },
      {
         "cell_type": "code",
         "execution_count": 6,
         "metadata": {},
         "outputs": [
            {
               "data": {
                  "text/plain": [
                     "0"
                  ]
               },
               "execution_count": 6,
               "metadata": {},
               "output_type": "execute_result"
            }
         ],
         "source": [
            "300%12"
         ]
      },
      {
         "cell_type": "code",
         "execution_count": 7,
         "metadata": {},
         "outputs": [],
         "source": [
            "#early_stopping = training_nano_gpt.EarlyStopper(20)"
         ]
      },
      {
         "cell_type": "code",
         "execution_count": 8,
         "metadata": {},
         "outputs": [
            {
               "data": {
                  "text/plain": [
                     "'model_config = GPTConfig(\\n    n_embd=120, \\n    block_size=len(dataset[0][0]), \\n    n_head=12, n_layer=6, \\n    vocab_size=vq_dicts[\"vq_config\"][\"codebook_size\"] + 1,\\n    dropout=0.0\\n    )'"
                  ]
               },
               "execution_count": 8,
               "metadata": {},
               "output_type": "execute_result"
            }
         ],
         "source": [
            "\"\"\"model_config = GPTConfig(\n",
            "    n_embd=120, \n",
            "    block_size=len(dataset[0][0]), \n",
            "    n_head=12, n_layer=6, \n",
            "    vocab_size=vq_dicts[\"vq_config\"][\"codebook_size\"] + 1,\n",
            "    dropout=0.0\n",
            "    )\"\"\""
         ]
      },
      {
         "cell_type": "code",
         "execution_count": 9,
         "metadata": {},
         "outputs": [],
         "source": [
            "cb_size = vq_dicts[\"vq_config\"][\"codebook_size\"]\n",
            "token_dict = {\n",
            "    \"SOS\": cb_size + 0,\n",
            "    \"0\": cb_size + 10,\n",
            "    \"1\": cb_size + 9,\n",
            "    \"2\": cb_size + 8,\n",
            "    \"3\": cb_size + 7,\n",
            "    \"4\": cb_size + 6,\n",
            "    \"5\": cb_size + 5,\n",
            "    \"6\": cb_size + 4,\n",
            "    \"7\": cb_size + 3,\n",
            "    \"8\": cb_size + 2,\n",
            "    \"9\": cb_size + 1\n",
            "}\n"
         ]
      },
      {
         "cell_type": "code",
         "execution_count": 10,
         "metadata": {},
         "outputs": [
            {
               "data": {
                  "text/plain": [
                     "({'SOS': 245,\n",
                     "  '0': 255,\n",
                     "  '1': 254,\n",
                     "  '2': 253,\n",
                     "  '3': 252,\n",
                     "  '4': 251,\n",
                     "  '5': 250,\n",
                     "  '6': 249,\n",
                     "  '7': 248,\n",
                     "  '8': 247,\n",
                     "  '9': 246},\n",
                     " 245)"
                  ]
               },
               "execution_count": 10,
               "metadata": {},
               "output_type": "execute_result"
            }
         ],
         "source": [
            "token_dict, cb_size"
         ]
      },
      {
         "cell_type": "code",
         "execution_count": 12,
         "metadata": {},
         "outputs": [],
         "source": [
            "# Where to put?\n",
            "# Maybe adjust dataset to be able to work with splitting data and then rewrite TokenTransform \n",
            "# to do the job combined with pytorch dataloader (get_batch == __call__ of Dataloader)\n",
            "\n",
            "def create_split_indices(n, train_ratio=0.9):\n",
            "    # Generate a random permutation of indices from 0 to n-1\n",
            "    shuffled_indices = torch.randperm(n)\n",
            "    # Determine the cut-off for training data\n",
            "    train_size = int(train_ratio * n)\n",
            "    # Split indices into training and validation sets\n",
            "    train_indices = shuffled_indices[:train_size]\n",
            "    val_indices = shuffled_indices[train_size:]\n",
            "    return train_indices, val_indices\n",
            "\n",
            "train_indices, val_indices = create_split_indices(len(dataset))\n",
            "\n",
            "def get_batch_lambda(config, dataset, model_config, split):\n",
            "    batch_size = config.batch_size\n",
            "    \n",
            "\n",
            "    # Select indices based on the split\n",
            "    if split == 'train':\n",
            "        # Randomly select batch_size indices from the train_indices\n",
            "        indices = train_indices[torch.randint(0, len(train_indices), (batch_size,))]\n",
            "    elif split == 'val':\n",
            "        # Randomly select batch_size indices from the val_indices\n",
            "        indices = val_indices[torch.randint(0, len(val_indices), (batch_size,))]\n",
            "    \n",
            "    \n",
            "    # Initialize lists to hold the sequences and labels\n",
            "    samples = []\n",
            "    labels = []\n",
            "\n",
            "    # Collect samples and labels\n",
            "    for idx in indices:\n",
            "        sample, label = dataset[idx]\n",
            "        start_tokens = torch.Tensor([token_dict[\"SOS\"], token_dict[str(label)]]).long()  # Start of sequence token\n",
            "        sample = torch.cat((start_tokens, sample), dim=0)\n",
            "        #start_tokens = torch.Tensor([0]).long()  # Start of sequence token\n",
            "        #sample = torch.cat((start_tokens, sample + 1), dim=0)\n",
            "        samples.append(sample)\n",
            "        labels.append(label)\n",
            "\n",
            "    # Prepare the sequences for model input\n",
            "    max_len = samples[0].size(0)\n",
            "    x = torch.zeros((batch_size, max_len - 1), dtype=torch.long)\n",
            "    y = torch.zeros((batch_size, max_len - 1), dtype=torch.long)\n",
            "    \n",
            "    for i, sample in enumerate(samples):\n",
            "        end_index = sample.size(0) - 1\n",
            "        x[i, :end_index] = sample[:-1]  # Exclude the last token for x\n",
            "        y[i, :end_index] = sample[1:]   # Exclude the first token for y\n",
            "\n",
            "    # Ensure x and y are the correct shape (batch_size, block_size) if needed:\n",
            "    # Here, we truncate to `block_size` if samples are longer than `block_size`.\n",
            "\n",
            "    idx = torch.randint(0, max_len - 1 - model_config.block_size, (batch_size,))\n",
            "\n",
            "    x_cutted = torch.zeros((batch_size, model_config.block_size), dtype=torch.long)\n",
            "    y_cutted = torch.zeros((batch_size,  model_config.block_size), dtype=torch.long)\n",
            "\n",
            "    for i, offset in enumerate(idx):\n",
            "        x_cutted[i, :] = x[i, offset:offset+model_config.block_size]\n",
            "        y_cutted[i, :] = y[i, offset:offset+model_config.block_size]\n",
            "\n",
            "\n",
            "    # x and y have to be\n",
            "    x_cutted = x_cutted.to(config.device)\n",
            "    y_cutted = y_cutted.to(config.device)\n",
            "\n",
            "    return x_cutted, y_cutted, idx\n",
            "\n",
            "create_get_batch = lambda config, dataset, model_config: lambda split: get_batch_lambda(config, dataset, model_config, split)\n",
            "get_batch = create_get_batch(config, dataset, model_config)"
         ]
      },
      {
         "cell_type": "code",
         "execution_count": 26,
         "metadata": {},
         "outputs": [
            {
               "data": {
                  "text/plain": [
                     "30294000"
                  ]
               },
               "execution_count": 26,
               "metadata": {},
               "output_type": "execute_result"
            }
         ],
         "source": [
            "len(train_indices)*dataset[0][0].shape[0]"
         ]
      },
      {
         "cell_type": "code",
         "execution_count": 13,
         "metadata": {},
         "outputs": [
            {
               "name": "stdout",
               "output_type": "stream",
               "text": [
                  "Initializing a new model from scratch\n",
                  "number of parameters: 13.08M\n",
                  "num decayed parameter tensors: 50, with 13,075,200 parameters\n",
                  "num non-decayed parameter tensors: 98, with 47,400 parameters\n",
                  "using fused AdamW: True\n"
               ]
            },
            {
               "data": {
                  "text/html": [
                     "wandb version 0.17.3 is available!  To upgrade, please run:\n",
                     " $ pip install wandb --upgrade"
                  ],
                  "text/plain": [
                     "<IPython.core.display.HTML object>"
                  ]
               },
               "metadata": {},
               "output_type": "display_data"
            },
            {
               "data": {
                  "text/html": [
                     "Tracking run with wandb version 0.16.6"
                  ],
                  "text/plain": [
                     "<IPython.core.display.HTML object>"
                  ]
               },
               "metadata": {},
               "output_type": "display_data"
            },
            {
               "data": {
                  "text/html": [
                     "Run data is saved locally in <code>/home/luca/uni/master/adl4cv/wandb/run-20240625_011853-cpx4fzof</code>"
                  ],
                  "text/plain": [
                     "<IPython.core.display.HTML object>"
                  ]
               },
               "metadata": {},
               "output_type": "display_data"
            },
            {
               "data": {
                  "text/html": [
                     "Syncing run <strong><a href='https://wandb.ai/adl-for-cv/naive_token_transformer/runs/cpx4fzof' target=\"_blank\">run-2024-06-25-01-18-52</a></strong> to <a href='https://wandb.ai/adl-for-cv/naive_token_transformer' target=\"_blank\">Weights & Biases</a> (<a href='https://wandb.me/run' target=\"_blank\">docs</a>)<br/>"
                  ],
                  "text/plain": [
                     "<IPython.core.display.HTML object>"
                  ]
               },
               "metadata": {},
               "output_type": "display_data"
            },
            {
               "data": {
                  "text/html": [
                     " View project at <a href='https://wandb.ai/adl-for-cv/naive_token_transformer' target=\"_blank\">https://wandb.ai/adl-for-cv/naive_token_transformer</a>"
                  ],
                  "text/plain": [
                     "<IPython.core.display.HTML object>"
                  ]
               },
               "metadata": {},
               "output_type": "display_data"
            },
            {
               "data": {
                  "text/html": [
                     " View run at <a href='https://wandb.ai/adl-for-cv/naive_token_transformer/runs/cpx4fzof' target=\"_blank\">https://wandb.ai/adl-for-cv/naive_token_transformer/runs/cpx4fzof</a>"
                  ],
                  "text/plain": [
                     "<IPython.core.display.HTML object>"
                  ]
               },
               "metadata": {},
               "output_type": "display_data"
            },
            {
               "name": "stdout",
               "output_type": "stream",
               "text": [
                  "step 0: train loss 5.6022, val loss 5.6030\n",
                  "step 250: train loss 4.3186, val loss 4.3203\n",
                  "saving checkpoint to models/token_transformer\n",
                  "step 500: train loss 3.6788, val loss 3.6756\n",
                  "saving checkpoint to models/token_transformer\n",
                  "step 750: train loss 3.5345, val loss 3.5434\n",
                  "saving checkpoint to models/token_transformer\n",
                  "step 1000: train loss 3.3679, val loss 3.3729\n",
                  "saving checkpoint to models/token_transformer\n",
                  "step 1250: train loss 3.1976, val loss 3.2049\n",
                  "saving checkpoint to models/token_transformer\n",
                  "step 1500: train loss 3.0795, val loss 3.0915\n",
                  "saving checkpoint to models/token_transformer\n",
                  "step 1750: train loss 2.9918, val loss 3.0010\n",
                  "saving checkpoint to models/token_transformer\n",
                  "step 2000: train loss 2.9338, val loss 2.9499\n",
                  "saving checkpoint to models/token_transformer\n",
                  "step 2250: train loss 2.8845, val loss 2.8940\n",
                  "saving checkpoint to models/token_transformer\n",
                  "step 2500: train loss 2.8557, val loss 2.8597\n",
                  "saving checkpoint to models/token_transformer\n",
                  "step 2750: train loss 2.8279, val loss 2.8407\n",
                  "saving checkpoint to models/token_transformer\n",
                  "step 3000: train loss 2.8111, val loss 2.8209\n",
                  "saving checkpoint to models/token_transformer\n",
                  "step 3250: train loss 2.8026, val loss 2.7918\n",
                  "saving checkpoint to models/token_transformer\n",
                  "step 3500: train loss 2.7775, val loss 2.7786\n",
                  "saving checkpoint to models/token_transformer\n",
                  "step 3750: train loss 2.7556, val loss 2.7757\n",
                  "saving checkpoint to models/token_transformer\n",
                  "step 4000: train loss 2.7493, val loss 2.7683\n",
                  "saving checkpoint to models/token_transformer\n",
                  "step 4250: train loss 2.7345, val loss 2.7409\n",
                  "saving checkpoint to models/token_transformer\n",
                  "step 4500: train loss 2.7339, val loss 2.7351\n",
                  "saving checkpoint to models/token_transformer\n",
                  "step 4750: train loss 2.7236, val loss 2.7300\n",
                  "saving checkpoint to models/token_transformer\n",
                  "step 5000: train loss 2.7112, val loss 2.7420\n",
                  "step 5250: train loss 2.6980, val loss 2.7158\n",
                  "saving checkpoint to models/token_transformer\n",
                  "step 5500: train loss 2.7037, val loss 2.7226\n",
                  "step 5750: train loss 2.6970, val loss 2.7192\n",
                  "step 6000: train loss 2.6920, val loss 2.7063\n",
                  "saving checkpoint to models/token_transformer\n",
                  "step 6250: train loss 2.6779, val loss 2.7032\n",
                  "saving checkpoint to models/token_transformer\n",
                  "step 6500: train loss 2.6841, val loss 2.6938\n",
                  "saving checkpoint to models/token_transformer\n",
                  "step 6750: train loss 2.6871, val loss 2.6878\n",
                  "saving checkpoint to models/token_transformer\n",
                  "step 7000: train loss 2.6706, val loss 2.7012\n",
                  "step 7250: train loss 2.6622, val loss 2.6973\n",
                  "step 7500: train loss 2.6665, val loss 2.6856\n",
                  "saving checkpoint to models/token_transformer\n",
                  "step 7750: train loss 2.6601, val loss 2.6734\n",
                  "saving checkpoint to models/token_transformer\n",
                  "step 8000: train loss 2.6474, val loss 2.6769\n",
                  "step 8250: train loss 2.6469, val loss 2.6745\n",
                  "step 8500: train loss 2.6514, val loss 2.6787\n",
                  "step 8750: train loss 2.6421, val loss 2.6830\n",
                  "step 9000: train loss 2.6427, val loss 2.6638\n",
                  "saving checkpoint to models/token_transformer\n",
                  "step 9250: train loss 2.6441, val loss 2.6743\n",
                  "step 9500: train loss 2.6342, val loss 2.6747\n",
                  "step 9750: train loss 2.6233, val loss 2.6663\n",
                  "step 10000: train loss 2.6191, val loss 2.6595\n",
                  "saving checkpoint to models/token_transformer\n",
                  "step 10250: train loss 2.6215, val loss 2.6679\n",
                  "step 10500: train loss 2.6272, val loss 2.6601\n",
                  "step 10750: train loss 2.6141, val loss 2.6537\n",
                  "saving checkpoint to models/token_transformer\n",
                  "step 11000: train loss 2.6056, val loss 2.6583\n",
                  "step 11250: train loss 2.6191, val loss 2.6573\n",
                  "step 11500: train loss 2.6086, val loss 2.6552\n",
                  "step 11750: train loss 2.6024, val loss 2.6455\n",
                  "saving checkpoint to models/token_transformer\n",
                  "step 12000: train loss 2.6096, val loss 2.6434\n",
                  "saving checkpoint to models/token_transformer\n",
                  "step 12250: train loss 2.5976, val loss 2.6496\n",
                  "step 12500: train loss 2.5937, val loss 2.6453\n",
                  "step 12750: train loss 2.5989, val loss 2.6505\n",
                  "step 13000: train loss 2.5905, val loss 2.6348\n",
                  "saving checkpoint to models/token_transformer\n",
                  "step 13250: train loss 2.5885, val loss 2.6398\n",
                  "step 13500: train loss 2.5746, val loss 2.6357\n",
                  "step 13750: train loss 2.5822, val loss 2.6401\n",
                  "step 14000: train loss 2.5737, val loss 2.6392\n",
                  "step 14250: train loss 2.5733, val loss 2.6347\n",
                  "saving checkpoint to models/token_transformer\n",
                  "step 14500: train loss 2.5613, val loss 2.6374\n",
                  "step 14750: train loss 2.5734, val loss 2.6375\n",
                  "step 15000: train loss 2.5566, val loss 2.6470\n",
                  "step 15250: train loss 2.5582, val loss 2.6456\n",
                  "step 15500: train loss 2.5639, val loss 2.6264\n",
                  "saving checkpoint to models/token_transformer\n",
                  "step 15750: train loss 2.5596, val loss 2.6354\n",
                  "step 16000: train loss 2.5668, val loss 2.6277\n",
                  "step 16250: train loss 2.5553, val loss 2.6357\n",
                  "step 16500: train loss 2.5435, val loss 2.6218\n",
                  "saving checkpoint to models/token_transformer\n",
                  "step 16750: train loss 2.5449, val loss 2.6370\n",
                  "step 17000: train loss 2.5464, val loss 2.6316\n",
                  "step 17250: train loss 2.5318, val loss 2.6272\n",
                  "step 17500: train loss 2.5396, val loss 2.6330\n",
                  "step 17750: train loss 2.5376, val loss 2.6322\n",
                  "step 18000: train loss 2.5344, val loss 2.6270\n",
                  "step 18250: train loss 2.5083, val loss 2.6215\n",
                  "saving checkpoint to models/token_transformer\n",
                  "step 18500: train loss 2.5386, val loss 2.6281\n",
                  "step 18750: train loss 2.5190, val loss 2.6205\n",
                  "saving checkpoint to models/token_transformer\n",
                  "step 19000: train loss 2.5078, val loss 2.6123\n",
                  "saving checkpoint to models/token_transformer\n",
                  "step 19250: train loss 2.5234, val loss 2.6345\n",
                  "step 19500: train loss 2.5070, val loss 2.6258\n",
                  "step 19750: train loss 2.5127, val loss 2.6279\n",
                  "step 20000: train loss 2.4840, val loss 2.6233\n",
                  "step 20250: train loss 2.4918, val loss 2.6258\n",
                  "step 20500: train loss 2.4979, val loss 2.6234\n",
                  "step 20750: train loss 2.4835, val loss 2.6253\n",
                  "step 21000: train loss 2.4954, val loss 2.6258\n",
                  "step 21250: train loss 2.4832, val loss 2.6197\n",
                  "step 21500: train loss 2.4770, val loss 2.6219\n",
                  "step 21750: train loss 2.4792, val loss 2.6275\n",
                  "step 22000: train loss 2.4705, val loss 2.6160\n",
                  "step 22250: train loss 2.4746, val loss 2.6346\n",
                  "step 22500: train loss 2.4758, val loss 2.6135\n",
                  "step 22750: train loss 2.4658, val loss 2.6321\n",
                  "step 23000: train loss 2.4521, val loss 2.6337\n",
                  "step 23250: train loss 2.4556, val loss 2.6361\n",
                  "step 23500: train loss 2.4568, val loss 2.6224\n",
                  "step 23750: train loss 2.4423, val loss 2.6443\n",
                  "step 24000: train loss 2.4444, val loss 2.6402\n",
                  "step 24250: train loss 2.4410, val loss 2.6372\n",
                  "step 24500: train loss 2.4443, val loss 2.6305\n",
                  "step 24750: train loss 2.4388, val loss 2.6403\n",
                  "step 25000: train loss 2.4417, val loss 2.6421\n",
                  "step 25250: train loss 2.4424, val loss 2.6533\n",
                  "step 25500: train loss 2.4310, val loss 2.6373\n",
                  "step 25750: train loss 2.4308, val loss 2.6443\n",
                  "step 26000: train loss 2.4228, val loss 2.6586\n",
                  "step 26250: train loss 2.4289, val loss 2.6598\n",
                  "step 26500: train loss 2.4212, val loss 2.6602\n",
                  "step 26750: train loss 2.4176, val loss 2.6680\n",
                  "step 27000: train loss 2.4126, val loss 2.6524\n",
                  "step 27250: train loss 2.4090, val loss 2.6679\n",
                  "step 27500: train loss 2.4254, val loss 2.6596\n",
                  "step 27750: train loss 2.4152, val loss 2.6519\n",
                  "step 28000: train loss 2.4066, val loss 2.6551\n",
                  "step 28250: train loss 2.4114, val loss 2.6529\n",
                  "step 28500: train loss 2.3912, val loss 2.6639\n",
                  "step 28750: train loss 2.4043, val loss 2.6678\n",
                  "step 29000: train loss 2.3969, val loss 2.6638\n",
                  "step 29250: train loss 2.3972, val loss 2.6806\n",
                  "step 29500: train loss 2.4098, val loss 2.6676\n",
                  "step 29750: train loss 2.3915, val loss 2.6742\n",
                  "step 30000: train loss 2.3863, val loss 2.6708\n"
               ]
            }
         ],
         "source": [
            "# Prepeare model parameters and train\n",
            "import wandb\n",
            "trained_model = training_nano_gpt.train(get_batch, config, model_config, vq, vq_dicts[\"vq_config\"], token_dict=token_dict)\n"
         ]
      },
      {
         "cell_type": "code",
         "execution_count": 13,
         "metadata": {},
         "outputs": [
            {
               "name": "stdout",
               "output_type": "stream",
               "text": [
                  "dict_keys(['model', 'optimizer', 'model_args', 'iter_num', 'best_val_loss', 'config', 'vq_state_dict', 'vq_config', 'token_dict'])\n",
                  "number of parameters: 5.62M\n"
               ]
            },
            {
               "data": {
                  "text/plain": [
                     "tensor([[False, False, False, False, False, False,  True, False, False,  True,\n",
                     "         False, False, False, False, False, False, False, False,  True, False,\n",
                     "          True, False, False, False,  True,  True,  True, False, False, False,\n",
                     "         False, False, False,  True, False,  True, False,  True,  True, False,\n",
                     "          True, False, False, False, False, False,  True, False, False, False,\n",
                     "         False, False, False, False,  True, False, False, False, False,  True,\n",
                     "         False, False, False, False, False, False, False, False,  True, False,\n",
                     "          True, False, False,  True, False, False, False, False, False, False,\n",
                     "         False, False,  True, False, False, False, False, False,  True,  True,\n",
                     "         False, False, False, False, False,  True,  True, False, False, False,\n",
                     "         False,  True, False,  True, False, False, False, False, False, False,\n",
                     "         False, False, False, False, False,  True, False,  True, False, False,\n",
                     "          True, False, False, False,  True, False, False, False, False, False,\n",
                     "         False, False, False,  True,  True, False,  True, False, False, False,\n",
                     "         False, False, False, False,  True, False, False, False,  True, False,\n",
                     "         False, False, False, False,  True, False, False, False, False, False,\n",
                     "         False,  True, False, False, False, False, False, False, False, False,\n",
                     "         False, False, False, False,  True, False, False, False, False, False,\n",
                     "         False, False, False, False,  True, False, False,  True, False, False,\n",
                     "         False, False,  True,  True,  True,  True,  True,  True,  True,  True,\n",
                     "          True,  True,  True,  True,  True,  True,  True,  True,  True, False,\n",
                     "         False, False, False, False,  True, False, False, False, False,  True,\n",
                     "         False, False, False,  True, False, False, False, False,  True,  True,\n",
                     "          True,  True, False, False, False,  True,  True, False, False, False,\n",
                     "         False, False, False,  True,  True, False, False, False,  True, False,\n",
                     "         False, False,  True, False, False, False, False, False,  True,  True,\n",
                     "          True,  True,  True,  True,  True,  True, False,  True,  True,  True,\n",
                     "          True,  True,  True, False,  True, False, False, False, False, False,\n",
                     "         False, False, False, False, False,  True, False, False, False,  True,\n",
                     "          True,  True,  True,  True,  True,  True,  True,  True,  True,  True,\n",
                     "          True,  True,  True,  True,  True, False, False, False, False, False,\n",
                     "         False, False, False, False, False, False, False,  True, False, False,\n",
                     "         False,  True,  True, False, False, False, False, False, False, False,\n",
                     "          True, False, False,  True, False, False, False, False, False, False,\n",
                     "         False,  True, False, False, False, False, False, False, False,  True,\n",
                     "         False, False, False,  True, False, False, False, False, False, False,\n",
                     "         False, False, False, False, False,  True, False, False, False,  True,\n",
                     "         False,  True, False,  True, False,  True,  True, False,  True,  True,\n",
                     "         False,  True, False, False,  True,  True,  True, False,  True, False,\n",
                     "         False, False, False, False, False,  True,  True,  True, False,  True,\n",
                     "         False,  True,  True,  True, False,  True,  True, False,  True,  True,\n",
                     "          True,  True,  True,  True,  True,  True,  True, False,  True, False,\n",
                     "          True,  True,  True,  True,  True,  True, False, False,  True,  True,\n",
                     "          True,  True, False, False,  True, False, False, False, False, False,\n",
                     "          True, False, False, False, False,  True, False, False, False, False,\n",
                     "         False, False, False, False, False,  True, False, False, False, False,\n",
                     "         False,  True, False, False, False, False, False,  True, False, False,\n",
                     "         False, False,  True, False, False, False, False,  True, False, False,\n",
                     "         False,  True,  True,  True,  True,  True,  True,  True,  True,  True,\n",
                     "          True,  True,  True,  True,  True,  True,  True, False, False, False,\n",
                     "         False,  True, False, False, False,  True, False, False, False,  True,\n",
                     "         False,  True, False, False, False, False, False, False,  True, False,\n",
                     "          True, False, False, False, False,  True, False, False, False,  True,\n",
                     "          True, False, False,  True, False, False,  True,  True,  True, False,\n",
                     "         False, False,  True, False,  True, False,  True, False,  True, False,\n",
                     "          True,  True, False,  True,  True, False, False,  True,  True,  True,\n",
                     "          True]], device='cuda:0')"
                  ]
               },
               "execution_count": 13,
               "metadata": {},
               "output_type": "execute_result"
            }
         ],
         "source": [
            "import matplotlib.pyplot as plt\n",
            "import torch\n",
            "from networks.nano_gpt import GPT\n",
            "from utils import get_default_device\n",
            "\n",
            "model_dict = torch.load(\"./models/token_transformer/proper_tokens.pt\")\n",
            "# Configuration\n",
            "print(model_dict.keys())\n",
            "idx = 3\n",
            "\n",
            "device = get_default_device()\n",
            "model = GPT(model_dict[\"model_args\"])#model_dict\n",
            "model.to(device=device)\n",
            "model.load_state_dict(model_dict[\"model\"])\n",
            "model.eval()\n",
            "\n",
            "vq = VectorQuantize(**model_dict[\"vq_config\"])\n",
            "vq.load_state_dict(model_dict[\"vq_state_dict\"])\n",
            "vq.eval()\n",
            "\n",
            "dataset = MnistNeFDataset(os.path.join(data_root, \"datasets\", \"mnist-nerfs\"), transform=TokenTransform(vq), **kwargs)\n",
            "\n",
            "\n",
            "sample = dataset[0][0]\n",
            "X, Y = get_batch('val')\n",
            "X, Y = (X[0].unsqueeze(0), Y[0].unsqueeze(0))\n",
            "pred, _ = model(X, Y)\n",
            "# Sanity Check\n",
            "# Should be all true except first/second element\n",
            "pred.argmax(dim=-1)==Y\n"
         ]
      },
      {
         "cell_type": "code",
         "execution_count": null,
         "metadata": {},
         "outputs": [
            {
               "name": "stdout",
               "output_type": "stream",
               "text": [
                  "5\n",
                  "7\n",
                  "0\n",
                  "7\n",
                  "4\n",
                  "6\n",
                  "8\n",
                  "4\n",
                  "1\n"
               ]
            },
            {
               "data": {
                  "image/png": "[encoded data removed]",
                  "text/plain": [
                     "<Figure size 1000x1000 with 9 Axes>"
                  ]
               },
               "metadata": {
                  "needs_background": "dark"
               },
               "output_type": "display_data"
            }
         ],
         "source": [
            "from random import randint\n",
            "from animation.util import backtransform_weights, reconstruct_image\n",
            "from networks.mlp_models import MLP3D\n",
            "\n",
            "ij_len = 3\n",
            "# Plotting the tensors as heatmaps in grayscale\n",
            "plt.style.use(\"dark_background\")\n",
            "fig, axes = plt.subplots(ij_len, ij_len, figsize=(10, 10))\n",
            "\n",
            "fig.patch.set_alpha(0)\n",
            "\n",
            "for ax in axes.flat:\n",
            "    ax.patch.set_facecolor(\"none\")\n",
            "    ax.patch.set_alpha(0)\n",
            "\n",
            "\n",
            "kwargs = {\n",
            "\"type\": \"pretrained\",\n",
            "\"fixed_label\": None,\n",
            "}\n",
            "\n",
            "for i in range(ij_len):\n",
            "    for j in range(ij_len):\n",
            "\n",
            "        model.eval()\n",
            "        number = str(randint(0, 9))\n",
            "        novel_tokens = model.generate(torch.Tensor([[token_dict[\"SOS\"], token_dict[number]]]).long().to(device=\"cuda\"), dataset[0][0].shape[0], temperature=0.8, top_k=3)[:, 1:]\n",
            "\n",
            "        print(number)\n",
            "        novel_tokens = novel_tokens[:, 1:].unsqueeze(-1).to(\"cpu\")\n",
            "                                                                                                                         \n",
            "\n",
            "        max_similarity = 0\n",
            "        \"\"\"\n",
            "        for data in dataset:\n",
            "            similarity = (data[0].to(device)==noxmarty/resnet-tiny-mnist\n",
            "                max_similarity = similarity\n",
            "        \"\"\"\n",
            "        #print(f\"Maximum Similarity of picture (i, j) {(i, j)}: {max_similarity}\")\n",
            "\n",
            "        novel_weights= vq.get_codes_from_indices((novel_tokens))\n",
            "\n",
            "        dataset_no_transform = MnistNeFDataset(os.path.join(data_root, \"datasets\", \"mnist-nerfs\"), **kwargs)\n",
            "        original_dict = dataset_no_transform[0][0]\n",
            "\n",
            "        reconstructed_dict = backtransform_weights(novel_weights, original_dict[\"state_dict\"])\n",
            "\n",
            "        mlp3d = MLP3D(**original_dict[\"model_config\"])\n",
            "        mlp3d.load_state_dict(reconstructed_dict)\n",
            "        reconstructed_tensor = reconstruct_image(mlp3d)\n",
            "\n",
            "        axes[i][j].imshow(reconstructed_tensor, cmap='gray', aspect='auto')\n",
            "        axes[i][j].set_title(number)\n",
            "        axes[i][j].axis(\"off\")\n",
            "\n",
            "fig.patch.set_alpha(0)\n",
            "\n",
            "\n",
            "plt.show()"
         ]
      },
      {
         "cell_type": "code",
         "execution_count": 14,
         "metadata": {},
         "outputs": [],
         "source": [
            "# Create a Tensor for every possible label with all of mnist\n",
            "\n",
            "mnist_dataset = torchvision.datasets.MNIST(root=\"mnist-data\", train=True, download=True)\n",
            "\n",
            "mnist = {}\n",
            "\n",
            "for label in range(10):\n",
            "  mnist_tensor = torch.stack([torchvision.transforms.functional.pil_to_tensor(mnist_dataset[i][0]) / 255.0 for i in range(len(mnist_dataset)) if mnist_dataset[i][1] == label])\n",
            "  mnist.update({ label: mnist_tensor })"
         ]
      },
      {
         "cell_type": "code",
         "execution_count": 39,
         "metadata": {},
         "outputs": [
            {
               "data": {
                  "text/plain": [
                     "torch.Size([5923, 1, 28, 28])"
                  ]
               },
               "execution_count": 39,
               "metadata": {},
               "output_type": "execute_result"
            }
         ],
         "source": [
            "mnist[0].shape"
         ]
      },
      {
         "cell_type": "code",
         "execution_count": 20,
         "metadata": {},
         "outputs": [
            {
               "name": "stdout",
               "output_type": "stream",
               "text": [
                  "4\n",
                  "5\n"
               ]
            },
            {
               "ename": "IndexError",
               "evalue": "index 5 is out of bounds for axis 0 with size 5",
               "output_type": "error",
               "traceback": [
                  "\u001b[0;31m---------------------------------------------------------------------------\u001b[0m",
                  "\u001b[0;31mIndexError\u001b[0m                                Traceback (most recent call last)",
                  "Cell \u001b[0;32mIn[20], line 61\u001b[0m\n\u001b[1;32m     58\u001b[0m \u001b[38;5;28;01mfor\u001b[39;00m i \u001b[38;5;129;01min\u001b[39;00m \u001b[38;5;28mrange\u001b[39m(num_neighbors):\n\u001b[1;32m     59\u001b[0m     closest_neighbor \u001b[38;5;241m=\u001b[39m mnist[label][closest[:, \u001b[38;5;241m-\u001b[39m(i\u001b[38;5;241m+\u001b[39m\u001b[38;5;241m1\u001b[39m)]\u001b[38;5;241m.\u001b[39mitem()]\n\u001b[0;32m---> 61\u001b[0m     \u001b[43maxes\u001b[49m\u001b[43m[\u001b[49m\u001b[43mlabel\u001b[49m\u001b[43m]\u001b[49m[i \u001b[38;5;241m+\u001b[39m \u001b[38;5;241m1\u001b[39m]\u001b[38;5;241m.\u001b[39mimshow(closest_neighbor\u001b[38;5;241m.\u001b[39msqueeze(\u001b[38;5;241m0\u001b[39m), cmap\u001b[38;5;241m=\u001b[39m\u001b[38;5;124m'\u001b[39m\u001b[38;5;124mgray\u001b[39m\u001b[38;5;124m'\u001b[39m, aspect\u001b[38;5;241m=\u001b[39m\u001b[38;5;124m'\u001b[39m\u001b[38;5;124mauto\u001b[39m\u001b[38;5;124m'\u001b[39m)\n\u001b[1;32m     62\u001b[0m     axes[label][i \u001b[38;5;241m+\u001b[39m \u001b[38;5;241m1\u001b[39m]\u001b[38;5;241m.\u001b[39mset_title(\u001b[38;5;124mf\u001b[39m\u001b[38;5;124m\"\u001b[39m\u001b[38;5;124mNearest Neighbor \u001b[39m\u001b[38;5;132;01m{\u001b[39;00mi\u001b[38;5;250m \u001b[39m\u001b[38;5;241m+\u001b[39m\u001b[38;5;250m \u001b[39m\u001b[38;5;241m1\u001b[39m\u001b[38;5;132;01m}\u001b[39;00m\u001b[38;5;124m\"\u001b[39m)\n\u001b[1;32m     63\u001b[0m     axes[label][i \u001b[38;5;241m+\u001b[39m \u001b[38;5;241m1\u001b[39m]\u001b[38;5;241m.\u001b[39maxis(\u001b[38;5;124m\"\u001b[39m\u001b[38;5;124moff\u001b[39m\u001b[38;5;124m\"\u001b[39m)\n",
                  "\u001b[0;31mIndexError\u001b[0m: index 5 is out of bounds for axis 0 with size 5"
               ]
            },
            {
               "data": {
                  "image/png": "[encoded data removed]",
                  "text/plain": [
                     "<Figure size 1000x800 with 20 Axes>"
                  ]
               },
               "metadata": {
                  "needs_background": "dark"
               },
               "output_type": "display_data"
            }
         ],
         "source": [
            "from random import randint\n",
            "from einops import rearrange\n",
            "from animation.util import backtransform_weights, reconstruct_image\n",
            "from networks.mlp_models import MLP3D\n",
            "from utils.metrics import pairwise_ssim_distance\n",
            "\n",
            "# GENERATE WITH CLOSEST NEIGHBORS\n",
            "\n",
            "# where 3 is \n",
            "num_neighbors = 3\n",
            "width = 1 + num_neighbors\n",
            "height = 5\n",
            "offset = 5\n",
            "# Plotting the tensors as heatmaps in grayscale\n",
            "plt.style.use(\"dark_background\")\n",
            "fig, axes = plt.subplots(height, width, figsize=(10, (width / height) * 10))\n",
            "\n",
            "fig.patch.set_alpha(0)\n",
            "fig.tight_layout()\n",
            "\n",
            "for ax in axes.flat:\n",
            "    ax.patch.set_facecolor(\"none\")\n",
            "    ax.patch.set_alpha(0)\n",
            "\n",
            "\n",
            "kwargs = {\n",
            "\"type\": \"pretrained\",\n",
            "\"fixed_label\": None,\n",
            "}\n",
            "\n",
            "for row in range(height):\n",
            "    label = row + offset\n",
            "\n",
            "    model.eval()\n",
            "    novel_tokens = model.generate(torch.Tensor([[token_dict[\"SOS\"], token_dict[str(label)]]]).long().to(device=\"cuda\"), dataset[0][0].shape[0], temperature=0.87345, top_k=1)[:, 1:]\n",
            "\n",
            "    print(label)\n",
            "    novel_tokens = novel_tokens[:, 1:].unsqueeze(-1).to(\"cpu\")\n",
            "                                                                                                                        \n",
            "    #print(f\"Maximum Similarity of picture (i, j) {(i, j)}: {max_similarity}\")\n",
            "\n",
            "    novel_weights= vq.get_codes_from_indices((novel_tokens))\n",
            "\n",
            "    dataset_no_transform = MnistNeFDataset(os.path.join(data_root, \"datasets\", \"mnist-nerfs\"), **kwargs)\n",
            "    original_dict = dataset_no_transform[0][0]\n",
            "\n",
            "    reconstructed_dict = backtransform_weights(novel_weights, original_dict[\"state_dict\"])\n",
            "\n",
            "    mlp3d = MLP3D(**original_dict[\"model_config\"])\n",
            "    mlp3d.load_state_dict(reconstructed_dict)\n",
            "    reconstructed_tensor = torch.Tensor(rearrange( reconstruct_image(mlp3d), \"... -> 1 1 ...\"))\n",
            "\n",
            "    # now find the closest neighbor regarding the ssim_distance\n",
            "    distances = pairwise_ssim_distance(reconstructed_tensor, mnist[label])\n",
            "\n",
            "    closest = torch.sort(distances).indices[:, -num_neighbors:]\n",
            "\n",
            "    for i in range(num_neighbors):\n",
            "        closest_neighbor = mnist[label][closest[:, -(i+1)].item()]\n",
            "\n",
            "        axes[row][i + 1].imshow(closest_neighbor.squeeze(0), cmap='gray', aspect='auto')\n",
            "        axes[row][i + 1].set_title(f\"Nearest Neighbor {i + 1}\")\n",
            "        axes[row][i + 1].axis(\"off\")\n",
            "\n",
            "    axes[row][0].imshow(rearrange(reconstructed_tensor, \"1 1 w h -> w h\"), cmap='gray', aspect='auto')\n",
            "    axes[row][0].set_title(f\"Novel\")\n",
            "    axes[row][0].axis(\"off\")\n",
            "\n",
            "fig.patch.set_alpha(0)\n",
            "\n",
            "\n",
            "plt.show()"
         ]
      },
      {
         "cell_type": "code",
         "execution_count": null,
         "metadata": {},
         "outputs": [
            {
               "name": "stdout",
               "output_type": "stream",
               "text": [
                  "0.703125\n",
                  "1.2872538566589355\n"
               ]
            }
         ],
         "source": [
            "from training.mnist_classifier_score import compute_mnist_score\n",
            "acc, loss= compute_mnist_score(model, vq, \"cuda\", token_dict)\n",
            "\n",
            "print(acc)\n",
            "print(loss)\n"
         ]
      },
      {
         "cell_type": "code",
         "execution_count": null,
         "metadata": {},
         "outputs": [],
         "source": [
            "# script to "
         ]
      },
      {
         "cell_type": "code",
         "execution_count": null,
         "metadata": {},
         "outputs": [],
         "source": [
            "from utils.metrics import compute_all_metrics\n",
            "\n",
            "reference =\n",
            "\n",
            "compute_all_metrics()"
         ]
      },
      {
         "cell_type": "code",
         "execution_count": null,
         "metadata": {},
         "outputs": [],
         "source": [
            "# get the logits of the gpt model generation\n",
            "model.eval()\n",
            "logits_conditioning = model.generate_logits(torch.Tensor([[token_dict[\"SOS\"]]]).long().to(device=\"cuda\"))\n",
            "\n",
            "# do a whole autoregressive proccess and get the logits for the last token\n",
            "novel_tokens = model.generate(torch.Tensor([[token_dict[\"SOS\"]]]).long().to(device=\"cuda\"), dataset[0][0].shape[0] + 1, temperature=0.8, top_k=3)[:, :]\n",
            "logits_last = model.generate_logits(novel_tokens[:, :-1])"
         ]
      },
      {
         "cell_type": "code",
         "execution_count": null,
         "metadata": {},
         "outputs": [
            {
               "data": {
                  "image/png": "[encoded data removed]",
                  "text/plain": [
                     "<Figure size 1000x500 with 1 Axes>"
                  ]
               },
               "metadata": {},
               "output_type": "display_data"
            }
         ],
         "source": [
            "# barchart of the logits\n",
            "fig, ax = plt.subplots(1, 1, figsize=(10, 5))\n",
            "ax.bar(range(logits_last.shape[-1]), logits_last[0].detach().cpu().numpy())\n",
            "ax.set_title(\"Logits of the conditioning tokens\")\n",
            "plt.show()"
         ]
      },
      {
         "cell_type": "code",
         "execution_count": null,
         "metadata": {},
         "outputs": [],
         "source": [
            "logits"
         ]
      },
      {
         "cell_type": "code",
         "execution_count": null,
         "metadata": {},
         "outputs": [],
         "source": [
            "# store the logits as numpy file\n",
            "import numpy as np\n",
            "np.save(\"logits_conditioning.npy\", logits_conditioning.squeeze(0).detach().cpu().numpy())\n",
            "np.save(\"logits_last.npy\", logits_last.squeeze(0).detach().cpu().numpy())"
         ]
      },
      {
         "cell_type": "code",
         "execution_count": null,
         "metadata": {},
         "outputs": [
            {
               "data": {
                  "text/plain": [
                     "Text(0.5, 1.0, 'Softmax of the logits of the conditioning tokens')"
                  ]
               },
               "execution_count": 35,
               "metadata": {},
               "output_type": "execute_result"
            },
            {
               "data": {
                  "image/png": "[encoded data removed]",
                  "text/plain": [
                     "<Figure size 1000x500 with 1 Axes>"
                  ]
               },
               "metadata": {},
               "output_type": "display_data"
            }
         ],
         "source": [
            "# softmax of the logits conditioning\n",
            "fig, ax = plt.subplots(1, 1, figsize=(10, 5))\n",
            "temperature = 2\n",
            "logits = logits_last / temperature\n",
            "ax.bar(range(logits_last.shape[-1]), torch.softmax(logits[0], dim=-1).detach().cpu().numpy())\n",
            "ax.set_title(\"Softmax of the logits of the conditioning tokens\")"
         ]
      },
      {
         "cell_type": "code",
         "execution_count": null,
         "metadata": {},
         "outputs": [
            {
               "name": "stdout",
               "output_type": "stream",
               "text": [
                  "number of parameters: 5.62M\n",
                  "{'1': {'1': {'acc': 0.65625, 'loss': 1.4447228908538818}}}\n"
               ]
            }
         ],
         "source": [
            "import optimize_metrics\n",
            "\n",
            "optimize_metrics.main()"
         ]
      },
      {
         "cell_type": "code",
         "execution_count": null,
         "metadata": {},
         "outputs": [
            {
               "data": {
                  "text/plain": [
                     "{'1': {'1': {'acc': 0.65625, 'loss': 1.4447228908538818}}}"
                  ]
               },
               "execution_count": 6,
               "metadata": {},
               "output_type": "execute_result"
            }
         ],
         "source": []
      },
      {
         "cell_type": "code",
         "execution_count": null,
         "metadata": {},
         "outputs": [],
         "source": []
      }
   ],
   "metadata": {
      "kernelspec": {
         "display_name": ".venv",
         "language": "python",
         "name": "python3"
      },
      "language_info": {
         "codemirror_mode": {
            "name": "ipython",
            "version": 3
         },
         "file_extension": ".py",
         "mimetype": "text/x-python",
         "name": "python",
         "nbconvert_exporter": "python",
         "pygments_lexer": "ipython3",
         "version": "3.10.14"
      }
   },
   "nbformat": 4,
   "nbformat_minor": 2
}
