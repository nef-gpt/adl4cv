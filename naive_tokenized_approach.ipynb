{
   "cells": [
      {
         "cell_type": "code",
         "execution_count": 1,
         "metadata": {},
         "outputs": [],
         "source": [
            "# Enable autoreload of module\n",
            "%load_ext autoreload\n",
            "%autoreload 2"
         ]
      },
      {
         "cell_type": "code",
         "execution_count": 4,
         "metadata": {},
         "outputs": [
            {
               "name": "stderr",
               "output_type": "stream",
               "text": [
                  "Failed to detect the name of this notebook, you can set it manually with the WANDB_NOTEBOOK_NAME environment variable to enable code saving.\n",
                  "\u001b[34m\u001b[1mwandb\u001b[0m: Currently logged in as: \u001b[33mluca-fanselau\u001b[0m (\u001b[33madl-for-cv\u001b[0m). Use \u001b[1m`wandb login --relogin`\u001b[0m to force relogin\n"
               ]
            },
            {
               "data": {
                  "text/plain": [
                     "False"
                  ]
               },
               "execution_count": 4,
               "metadata": {},
               "output_type": "execute_result"
            }
         ],
         "source": [
            "import torch\n",
            "from vector_quantize_pytorch import VectorQuantize\n",
            "import os\n",
            "from data.neural_field_datasets import MnistNeFDataset, TokenTransform\n",
            "from training import training_nano_gpt\n",
            "\n",
            "from networks.nano_gpt import GPTConfig\n",
            "\n",
            "torch.cuda.is_available()"
         ]
      },
      {
         "cell_type": "code",
         "execution_count": 5,
         "metadata": {},
         "outputs": [
            {
               "ename": "FileNotFoundError",
               "evalue": "[Errno 2] No such file or directory: '/Users/luca/uni/master/second-semester/adl4cv/models/vqs/vq_mnist_with_all_5_conditioned_n_501.pt'",
               "output_type": "error",
               "traceback": [
                  "\u001b[0;31m---------------------------------------------------------------------------\u001b[0m",
                  "\u001b[0;31mFileNotFoundError\u001b[0m                         Traceback (most recent call last)",
                  "Cell \u001b[0;32mIn[5], line 10\u001b[0m\n\u001b[1;32m      7\u001b[0m data_root \u001b[38;5;241m=\u001b[39m os\u001b[38;5;241m.\u001b[39mpath\u001b[38;5;241m.\u001b[39mjoin(dir_path, \u001b[38;5;124m\"\u001b[39m\u001b[38;5;124madl4cv\u001b[39m\u001b[38;5;124m\"\u001b[39m)\n\u001b[1;32m      9\u001b[0m \u001b[38;5;66;03m# load used vector quantizer\u001b[39;00m\n\u001b[0;32m---> 10\u001b[0m vq_dicts \u001b[38;5;241m=\u001b[39m \u001b[43mtorch\u001b[49m\u001b[38;5;241;43m.\u001b[39;49m\u001b[43mload\u001b[49m\u001b[43m(\u001b[49m\u001b[43mos\u001b[49m\u001b[38;5;241;43m.\u001b[39;49m\u001b[43mpath\u001b[49m\u001b[38;5;241;43m.\u001b[39;49m\u001b[43mjoin\u001b[49m\u001b[43m(\u001b[49m\u001b[43mdata_root\u001b[49m\u001b[43m,\u001b[49m\u001b[43m \u001b[49m\u001b[38;5;124;43m\"\u001b[39;49m\u001b[38;5;124;43mmodels\u001b[39;49m\u001b[38;5;124;43m\"\u001b[39;49m\u001b[43m,\u001b[49m\u001b[43m \u001b[49m\u001b[38;5;124;43m\"\u001b[39;49m\u001b[38;5;124;43mvqs\u001b[39;49m\u001b[38;5;124;43m\"\u001b[39;49m\u001b[43m,\u001b[49m\u001b[43m \u001b[49m\u001b[38;5;124;43m\"\u001b[39;49m\u001b[38;5;124;43mvq_mnist_with_all_5_conditioned_n_501.pt\u001b[39;49m\u001b[38;5;124;43m\"\u001b[39;49m\u001b[43m)\u001b[49m\u001b[43m)\u001b[49m\n\u001b[1;32m     11\u001b[0m vq \u001b[38;5;241m=\u001b[39m VectorQuantize(\u001b[38;5;241m*\u001b[39m\u001b[38;5;241m*\u001b[39mvq_dicts[\u001b[38;5;124m\"\u001b[39m\u001b[38;5;124mvq_config\u001b[39m\u001b[38;5;124m\"\u001b[39m])\n\u001b[1;32m     12\u001b[0m vq\u001b[38;5;241m.\u001b[39mload_state_dict(vq_dicts[\u001b[38;5;124m\"\u001b[39m\u001b[38;5;124mstate_dict\u001b[39m\u001b[38;5;124m\"\u001b[39m])\n",
                  "File \u001b[0;32m~/uni/master/second-semester/adl4cv/.venv/lib/python3.12/site-packages/torch/serialization.py:997\u001b[0m, in \u001b[0;36mload\u001b[0;34m(f, map_location, pickle_module, weights_only, mmap, **pickle_load_args)\u001b[0m\n\u001b[1;32m    994\u001b[0m \u001b[38;5;28;01mif\u001b[39;00m \u001b[38;5;124m'\u001b[39m\u001b[38;5;124mencoding\u001b[39m\u001b[38;5;124m'\u001b[39m \u001b[38;5;129;01mnot\u001b[39;00m \u001b[38;5;129;01min\u001b[39;00m pickle_load_args\u001b[38;5;241m.\u001b[39mkeys():\n\u001b[1;32m    995\u001b[0m     pickle_load_args[\u001b[38;5;124m'\u001b[39m\u001b[38;5;124mencoding\u001b[39m\u001b[38;5;124m'\u001b[39m] \u001b[38;5;241m=\u001b[39m \u001b[38;5;124m'\u001b[39m\u001b[38;5;124mutf-8\u001b[39m\u001b[38;5;124m'\u001b[39m\n\u001b[0;32m--> 997\u001b[0m \u001b[38;5;28;01mwith\u001b[39;00m \u001b[43m_open_file_like\u001b[49m\u001b[43m(\u001b[49m\u001b[43mf\u001b[49m\u001b[43m,\u001b[49m\u001b[43m \u001b[49m\u001b[38;5;124;43m'\u001b[39;49m\u001b[38;5;124;43mrb\u001b[39;49m\u001b[38;5;124;43m'\u001b[39;49m\u001b[43m)\u001b[49m \u001b[38;5;28;01mas\u001b[39;00m opened_file:\n\u001b[1;32m    998\u001b[0m     \u001b[38;5;28;01mif\u001b[39;00m _is_zipfile(opened_file):\n\u001b[1;32m    999\u001b[0m         \u001b[38;5;66;03m# The zipfile reader is going to advance the current file position.\u001b[39;00m\n\u001b[1;32m   1000\u001b[0m         \u001b[38;5;66;03m# If we want to actually tail call to torch.jit.load, we need to\u001b[39;00m\n\u001b[1;32m   1001\u001b[0m         \u001b[38;5;66;03m# reset back to the original position.\u001b[39;00m\n\u001b[1;32m   1002\u001b[0m         orig_position \u001b[38;5;241m=\u001b[39m opened_file\u001b[38;5;241m.\u001b[39mtell()\n",
                  "File \u001b[0;32m~/uni/master/second-semester/adl4cv/.venv/lib/python3.12/site-packages/torch/serialization.py:444\u001b[0m, in \u001b[0;36m_open_file_like\u001b[0;34m(name_or_buffer, mode)\u001b[0m\n\u001b[1;32m    442\u001b[0m \u001b[38;5;28;01mdef\u001b[39;00m \u001b[38;5;21m_open_file_like\u001b[39m(name_or_buffer, mode):\n\u001b[1;32m    443\u001b[0m     \u001b[38;5;28;01mif\u001b[39;00m _is_path(name_or_buffer):\n\u001b[0;32m--> 444\u001b[0m         \u001b[38;5;28;01mreturn\u001b[39;00m \u001b[43m_open_file\u001b[49m\u001b[43m(\u001b[49m\u001b[43mname_or_buffer\u001b[49m\u001b[43m,\u001b[49m\u001b[43m \u001b[49m\u001b[43mmode\u001b[49m\u001b[43m)\u001b[49m\n\u001b[1;32m    445\u001b[0m     \u001b[38;5;28;01melse\u001b[39;00m:\n\u001b[1;32m    446\u001b[0m         \u001b[38;5;28;01mif\u001b[39;00m \u001b[38;5;124m'\u001b[39m\u001b[38;5;124mw\u001b[39m\u001b[38;5;124m'\u001b[39m \u001b[38;5;129;01min\u001b[39;00m mode:\n",
                  "File \u001b[0;32m~/uni/master/second-semester/adl4cv/.venv/lib/python3.12/site-packages/torch/serialization.py:425\u001b[0m, in \u001b[0;36m_open_file.__init__\u001b[0;34m(self, name, mode)\u001b[0m\n\u001b[1;32m    424\u001b[0m \u001b[38;5;28;01mdef\u001b[39;00m \u001b[38;5;21m__init__\u001b[39m(\u001b[38;5;28mself\u001b[39m, name, mode):\n\u001b[0;32m--> 425\u001b[0m     \u001b[38;5;28msuper\u001b[39m()\u001b[38;5;241m.\u001b[39m\u001b[38;5;21m__init__\u001b[39m(\u001b[38;5;28;43mopen\u001b[39;49m\u001b[43m(\u001b[49m\u001b[43mname\u001b[49m\u001b[43m,\u001b[49m\u001b[43m \u001b[49m\u001b[43mmode\u001b[49m\u001b[43m)\u001b[49m)\n",
                  "\u001b[0;31mFileNotFoundError\u001b[0m: [Errno 2] No such file or directory: '/Users/luca/uni/master/second-semester/adl4cv/models/vqs/vq_mnist_with_all_5_conditioned_n_501.pt'"
               ]
            }
         ],
         "source": [
            "kwargs = {\n",
            "\"type\": \"pretrained\",\n",
            "\"fixed_label\": None,\n",
            "}\n",
            "\n",
            "dir_path = os.path.dirname(os.path.abspath(os.getcwd()))\n",
            "data_root = os.path.join(dir_path, \"adl4cv\")\n",
            "\n",
            "# load used vector quantizer\n",
            "vq_dicts = torch.load(os.path.join(data_root, \"models\", \"vqs\", \"vq_mnist_with_all_5_conditioned_n_501.pt\"))\n",
            "vq = VectorQuantize(**vq_dicts[\"vq_config\"])\n",
            "vq.load_state_dict(vq_dicts[\"state_dict\"])"
         ]
      },
      {
         "cell_type": "code",
         "execution_count": 4,
         "metadata": {},
         "outputs": [
            {
               "data": {
                  "text/plain": [
                     "60000"
                  ]
               },
               "execution_count": 4,
               "metadata": {},
               "output_type": "execute_result"
            }
         ],
         "source": [
            "dataset = MnistNeFDataset(os.path.join(data_root, \"datasets\", \"mnist-nerfs\"), transform=TokenTransform(vq), **kwargs)\n",
            "len(dataset)"
         ]
      },
      {
         "cell_type": "code",
         "execution_count": 5,
         "metadata": {},
         "outputs": [],
         "source": [
            "# Config Training\n",
            "config = training_nano_gpt.Config()\n",
            "config.learning_rate=2e-3\n",
            "config.max_iters = 25000\n",
            "config.weight_decay=0.0\n",
            "config.decay_lr=True\n",
            "config.lr_decay_iters=config.max_iters\n",
            "config.warmup_iters=0.05*config.max_iters\n",
            "config.batch_size = 32\n",
            "config.gradient_accumulation_steps = 1\n",
            "config.init_from = \"scratch\"\n",
            "config.out_dir =\"models/token_transformer\"\n",
            "config.detailed_folder = \"training_sample_5\"\n",
            "config.eval_interval = 250\n",
            "config.metric_interval = 250\n",
            "\n",
            "model_config = GPTConfig(n_embd=108, block_size=len(dataset[0][0]), n_head=12, n_layer=6, vocab_size=vq_dicts[\"vq_config\"][\"codebook_size\"] + 11, dropout=0.0)\n"
         ]
      },
      {
         "cell_type": "code",
         "execution_count": 6,
         "metadata": {},
         "outputs": [],
         "source": [
            "#early_stopping = training_nano_gpt.EarlyStopper(20)"
         ]
      },
      {
         "cell_type": "code",
         "execution_count": 7,
         "metadata": {},
         "outputs": [
            {
               "data": {
                  "text/plain": [
                     "'model_config = GPTConfig(\\n    n_embd=120, \\n    block_size=len(dataset[0][0]), \\n    n_head=12, n_layer=6, \\n    vocab_size=vq_dicts[\"vq_config\"][\"codebook_size\"] + 1,\\n    dropout=0.0\\n    )'"
                  ]
               },
               "execution_count": 7,
               "metadata": {},
               "output_type": "execute_result"
            }
         ],
         "source": [
            "\"\"\"model_config = GPTConfig(\n",
            "    n_embd=120, \n",
            "    block_size=len(dataset[0][0]), \n",
            "    n_head=12, n_layer=6, \n",
            "    vocab_size=vq_dicts[\"vq_config\"][\"codebook_size\"] + 1,\n",
            "    dropout=0.0\n",
            "    )\"\"\""
         ]
      },
      {
         "cell_type": "code",
         "execution_count": 8,
         "metadata": {},
         "outputs": [],
         "source": [
            "cb_size = vq_dicts[\"vq_config\"][\"codebook_size\"]\n",
            "token_dict = {\n",
            "    \"SOS\": cb_size - 11,\n",
            "    \"0\": cb_size - 10,\n",
            "    \"1\": cb_size - 9,\n",
            "    \"2\": cb_size - 8,\n",
            "    \"3\": cb_size - 7,\n",
            "    \"4\": cb_size - 6,\n",
            "    \"5\": cb_size - 5,\n",
            "    \"6\": cb_size - 4,\n",
            "    \"7\": cb_size - 3,\n",
            "    \"8\": cb_size - 2,\n",
            "    \"9\": cb_size - 1\n",
            "}\n"
         ]
      },
      {
         "cell_type": "code",
         "execution_count": 9,
         "metadata": {},
         "outputs": [],
         "source": [
            "# Where to put?\n",
            "# Maybe adjust dataset to be able to work with splitting data and then rewrite TokenTransform \n",
            "# to do the job combined with pytorch dataloader (get_batch == __call__ of Dataloader)\n",
            "\n",
            "def create_split_indices(n, train_ratio=0.9):\n",
            "    # Generate a random permutation of indices from 0 to n-1\n",
            "    shuffled_indices = torch.randperm(n)\n",
            "    # Determine the cut-off for training data\n",
            "    train_size = int(train_ratio * n)\n",
            "    # Split indices into training and validation sets\n",
            "    train_indices = shuffled_indices[:train_size]\n",
            "    val_indices = shuffled_indices[train_size:]\n",
            "    return train_indices, val_indices\n",
            "\n",
            "train_indices, val_indices = create_split_indices(len(dataset))\n",
            "\n",
            "def get_batch_lambda(config, dataset, model_config, split):\n",
            "    batch_size = config.batch_size\n",
            "    \n",
            "\n",
            "    # Select indices based on the split\n",
            "    if split == 'train':\n",
            "        # Randomly select batch_size indices from the train_indices\n",
            "        indices = train_indices[torch.randint(0, len(train_indices), (batch_size,))]\n",
            "    elif split == 'val':\n",
            "        # Randomly select batch_size indices from the val_indices\n",
            "        indices = val_indices[torch.randint(0, len(val_indices), (batch_size,))]\n",
            "    \n",
            "    \n",
            "    # Initialize lists to hold the sequences and labels\n",
            "    samples = []\n",
            "    labels = []\n",
            "\n",
            "    # Collect samples and labels\n",
            "    for idx in indices:\n",
            "        sample, label = dataset[idx]\n",
            "        start_tokens = torch.Tensor([token_dict[\"SOS\"], token_dict[str(label)]]).long()  # Start of sequence token\n",
            "        sample = torch.cat((start_tokens, sample), dim=0)\n",
            "        #start_tokens = torch.Tensor([0]).long()  # Start of sequence token\n",
            "        #sample = torch.cat((start_tokens, sample + 1), dim=0)\n",
            "        samples.append(sample)\n",
            "        labels.append(label)\n",
            "\n",
            "    # Prepare the sequences for model input\n",
            "    max_len = samples[0].size(0)\n",
            "    x = torch.zeros((batch_size, max_len - 1), dtype=torch.long)\n",
            "    y = torch.zeros((batch_size, max_len - 1), dtype=torch.long)\n",
            "    \n",
            "    for i, sample in enumerate(samples):\n",
            "        end_index = sample.size(0) - 1\n",
            "        x[i, :end_index] = sample[:-1]  # Exclude the last token for x\n",
            "        y[i, :end_index] = sample[1:]   # Exclude the first token for y\n",
            "\n",
            "    # Ensure x and y are the correct shape (batch_size, block_size) if needed:\n",
            "    # Here, we truncate to `block_size` if samples are longer than `block_size`.\n",
            "    x = x[:, :model_config.block_size]\n",
            "    y = y[:, :model_config.block_size]\n",
            "\n",
            "    # x and y have to be\n",
            "    x = x.to(config.device)\n",
            "    y = y.to(config.device)\n",
            "\n",
            "    return x, y\n",
            "\n",
            "create_get_batch = lambda config, dataset, model_config: lambda split: get_batch_lambda(config, dataset, model_config, split)\n",
            "get_batch = create_get_batch(config, dataset, model_config)"
         ]
      },
      {
         "cell_type": "code",
         "execution_count": 10,
         "metadata": {},
         "outputs": [
            {
               "data": {
                  "text/plain": [
                     "30294000"
                  ]
               },
               "execution_count": 10,
               "metadata": {},
               "output_type": "execute_result"
            }
         ],
         "source": [
            "len(train_indices)*dataset[0][0].shape[0]"
         ]
      },
      {
         "cell_type": "code",
         "execution_count": 11,
         "metadata": {},
         "outputs": [
            {
               "name": "stdout",
               "output_type": "stream",
               "text": [
                  "Initializing a new model from scratch\n",
                  "number of parameters: 0.88M\n",
                  "num decayed parameter tensors: 26, with 928,044 parameters\n",
                  "num non-decayed parameter tensors: 50, with 8,640 parameters\n",
                  "using fused AdamW: True\n"
               ]
            },
            {
               "data": {
                  "text/html": [
                     "wandb version 0.17.2 is available!  To upgrade, please run:\n",
                     " $ pip install wandb --upgrade"
                  ],
                  "text/plain": [
                     "<IPython.core.display.HTML object>"
                  ]
               },
               "metadata": {},
               "output_type": "display_data"
            },
            {
               "data": {
                  "text/html": [
                     "Tracking run with wandb version 0.16.6"
                  ],
                  "text/plain": [
                     "<IPython.core.display.HTML object>"
                  ]
               },
               "metadata": {},
               "output_type": "display_data"
            },
            {
               "data": {
                  "text/html": [
                     "Run data is saved locally in <code>/home/luca/uni/master/adl4cv/wandb/run-20240617_215013-o1i4an7j</code>"
                  ],
                  "text/plain": [
                     "<IPython.core.display.HTML object>"
                  ]
               },
               "metadata": {},
               "output_type": "display_data"
            },
            {
               "data": {
                  "text/html": [
                     "Syncing run <strong><a href='https://wandb.ai/adl-for-cv/naive_token_transformer/runs/o1i4an7j' target=\"_blank\">run-2024-06-17-21-50-11</a></strong> to <a href='https://wandb.ai/adl-for-cv/naive_token_transformer' target=\"_blank\">Weights & Biases</a> (<a href='https://wandb.me/run' target=\"_blank\">docs</a>)<br/>"
                  ],
                  "text/plain": [
                     "<IPython.core.display.HTML object>"
                  ]
               },
               "metadata": {},
               "output_type": "display_data"
            },
            {
               "data": {
                  "text/html": [
                     " View project at <a href='https://wandb.ai/adl-for-cv/naive_token_transformer' target=\"_blank\">https://wandb.ai/adl-for-cv/naive_token_transformer</a>"
                  ],
                  "text/plain": [
                     "<IPython.core.display.HTML object>"
                  ]
               },
               "metadata": {},
               "output_type": "display_data"
            },
            {
               "data": {
                  "text/html": [
                     " View run at <a href='https://wandb.ai/adl-for-cv/naive_token_transformer/runs/o1i4an7j' target=\"_blank\">https://wandb.ai/adl-for-cv/naive_token_transformer/runs/o1i4an7j</a>"
                  ],
                  "text/plain": [
                     "<IPython.core.display.HTML object>"
                  ]
               },
               "metadata": {},
               "output_type": "display_data"
            },
            {
               "name": "stdout",
               "output_type": "stream",
               "text": [
                  "step 0: train loss 5.5711, val loss 5.5705\n",
                  "step 250: train loss 3.6609, val loss 3.6622\n",
                  "saving checkpoint to models/token_transformer\n",
                  "step 500: train loss 3.5599, val loss 3.5406\n",
                  "saving checkpoint to models/token_transformer\n",
                  "step 750: train loss 3.4912, val loss 3.4730\n",
                  "saving checkpoint to models/token_transformer\n",
                  "step 1000: train loss 3.3984, val loss 3.3828\n",
                  "saving checkpoint to models/token_transformer\n",
                  "step 1250: train loss 3.2897, val loss 3.2931\n",
                  "saving checkpoint to models/token_transformer\n",
                  "step 1500: train loss 3.1931, val loss 3.1998\n",
                  "saving checkpoint to models/token_transformer\n",
                  "step 1750: train loss 3.1084, val loss 3.0913\n",
                  "saving checkpoint to models/token_transformer\n",
                  "step 2000: train loss 3.0090, val loss 3.0086\n",
                  "saving checkpoint to models/token_transformer\n",
                  "step 2250: train loss 2.9318, val loss 2.9448\n",
                  "saving checkpoint to models/token_transformer\n",
                  "step 2500: train loss 2.8639, val loss 2.8792\n",
                  "saving checkpoint to models/token_transformer\n",
                  "step 2750: train loss 2.8279, val loss 2.8158\n",
                  "saving checkpoint to models/token_transformer\n",
                  "step 3000: train loss 2.7990, val loss 2.8270\n",
                  "step 3250: train loss 2.7862, val loss 2.7954\n",
                  "saving checkpoint to models/token_transformer\n",
                  "step 3500: train loss 2.7615, val loss 2.7482\n",
                  "saving checkpoint to models/token_transformer\n",
                  "step 3750: train loss 2.7274, val loss 2.7182\n",
                  "saving checkpoint to models/token_transformer\n",
                  "step 4000: train loss 2.7219, val loss 2.7132\n",
                  "saving checkpoint to models/token_transformer\n",
                  "step 4250: train loss 2.6980, val loss 2.6948\n",
                  "saving checkpoint to models/token_transformer\n",
                  "step 4500: train loss 2.6726, val loss 2.7065\n",
                  "step 4750: train loss 2.6686, val loss 2.6647\n",
                  "saving checkpoint to models/token_transformer\n",
                  "step 5000: train loss 2.6714, val loss 2.6727\n",
                  "step 5250: train loss 2.6452, val loss 2.6653\n",
                  "step 5500: train loss 2.6558, val loss 2.6488\n",
                  "saving checkpoint to models/token_transformer\n",
                  "step 5750: train loss 2.6206, val loss 2.6285\n",
                  "saving checkpoint to models/token_transformer\n",
                  "step 6000: train loss 2.6277, val loss 2.6497\n",
                  "step 6250: train loss 2.6111, val loss 2.6150\n",
                  "saving checkpoint to models/token_transformer\n",
                  "step 6500: train loss 2.6054, val loss 2.6206\n",
                  "step 6750: train loss 2.5924, val loss 2.6260\n",
                  "step 7000: train loss 2.5895, val loss 2.5916\n",
                  "saving checkpoint to models/token_transformer\n",
                  "step 7250: train loss 2.6029, val loss 2.5904\n",
                  "saving checkpoint to models/token_transformer\n",
                  "step 7500: train loss 2.6001, val loss 2.6029\n",
                  "step 7750: train loss 2.5632, val loss 2.5754\n",
                  "saving checkpoint to models/token_transformer\n",
                  "step 8000: train loss 2.5825, val loss 2.5696\n",
                  "saving checkpoint to models/token_transformer\n",
                  "step 8250: train loss 2.5585, val loss 2.5601\n",
                  "saving checkpoint to models/token_transformer\n",
                  "step 8500: train loss 2.5838, val loss 2.5697\n",
                  "step 8750: train loss 2.5509, val loss 2.5751\n",
                  "step 9000: train loss 2.5510, val loss 2.5553\n",
                  "saving checkpoint to models/token_transformer\n",
                  "step 9250: train loss 2.5668, val loss 2.5674\n",
                  "step 9500: train loss 2.5488, val loss 2.5577\n",
                  "step 9750: train loss 2.5426, val loss 2.5463\n",
                  "saving checkpoint to models/token_transformer\n",
                  "step 10000: train loss 2.5475, val loss 2.5432\n",
                  "saving checkpoint to models/token_transformer\n",
                  "step 10250: train loss 2.5352, val loss 2.5308\n",
                  "saving checkpoint to models/token_transformer\n",
                  "step 10500: train loss 2.5297, val loss 2.5318\n",
                  "step 10750: train loss 2.5309, val loss 2.5376\n",
                  "step 11000: train loss 2.5079, val loss 2.5344\n",
                  "step 11250: train loss 2.5274, val loss 2.5161\n",
                  "saving checkpoint to models/token_transformer\n",
                  "step 11500: train loss 2.5184, val loss 2.5328\n",
                  "step 11750: train loss 2.4993, val loss 2.5505\n",
                  "step 12000: train loss 2.5109, val loss 2.5047\n",
                  "saving checkpoint to models/token_transformer\n",
                  "step 12250: train loss 2.5414, val loss 2.5181\n",
                  "step 12500: train loss 2.5052, val loss 2.5241\n",
                  "step 12750: train loss 2.4873, val loss 2.5031\n",
                  "saving checkpoint to models/token_transformer\n",
                  "step 13000: train loss 2.4701, val loss 2.4811\n",
                  "saving checkpoint to models/token_transformer\n",
                  "step 13250: train loss 2.5043, val loss 2.4942\n",
                  "step 13500: train loss 2.4796, val loss 2.4842\n",
                  "step 13750: train loss 2.4731, val loss 2.5096\n",
                  "step 14000: train loss 2.4700, val loss 2.4990\n",
                  "step 14250: train loss 2.4719, val loss 2.4813\n",
                  "step 14500: train loss 2.4715, val loss 2.4808\n",
                  "saving checkpoint to models/token_transformer\n",
                  "step 14750: train loss 2.4566, val loss 2.4874\n",
                  "step 15000: train loss 2.4874, val loss 2.4755\n",
                  "saving checkpoint to models/token_transformer\n",
                  "step 15250: train loss 2.4469, val loss 2.4536\n",
                  "saving checkpoint to models/token_transformer\n",
                  "step 15500: train loss 2.4673, val loss 2.4680\n",
                  "step 15750: train loss 2.4520, val loss 2.4674\n",
                  "step 16000: train loss 2.4700, val loss 2.4497\n",
                  "saving checkpoint to models/token_transformer\n",
                  "step 16250: train loss 2.4351, val loss 2.4575\n",
                  "step 16500: train loss 2.4462, val loss 2.4638\n",
                  "step 16750: train loss 2.4313, val loss 2.4485\n",
                  "saving checkpoint to models/token_transformer\n",
                  "step 17000: train loss 2.4397, val loss 2.4369\n",
                  "saving checkpoint to models/token_transformer\n",
                  "step 17250: train loss 2.4131, val loss 2.4524\n",
                  "step 17500: train loss 2.4228, val loss 2.4241\n",
                  "saving checkpoint to models/token_transformer\n",
                  "step 17750: train loss 2.4411, val loss 2.4463\n",
                  "step 18000: train loss 2.4131, val loss 2.4370\n",
                  "step 18250: train loss 2.4061, val loss 2.3962\n",
                  "saving checkpoint to models/token_transformer\n",
                  "step 18500: train loss 2.4049, val loss 2.4368\n",
                  "step 18750: train loss 2.4180, val loss 2.4098\n",
                  "step 19000: train loss 2.3940, val loss 2.3968\n",
                  "step 19250: train loss 2.4116, val loss 2.4210\n",
                  "step 19500: train loss 2.3887, val loss 2.4372\n",
                  "step 19750: train loss 2.3980, val loss 2.3834\n",
                  "saving checkpoint to models/token_transformer\n",
                  "step 20000: train loss 2.3882, val loss 2.4182\n",
                  "step 20250: train loss 2.3853, val loss 2.4215\n",
                  "step 20500: train loss 2.3807, val loss 2.3874\n",
                  "step 20750: train loss 2.3776, val loss 2.4298\n",
                  "step 21000: train loss 2.3936, val loss 2.4076\n",
                  "step 21250: train loss 2.3939, val loss 2.4055\n",
                  "step 21500: train loss 2.3672, val loss 2.4182\n",
                  "step 21750: train loss 2.3742, val loss 2.3686\n",
                  "saving checkpoint to models/token_transformer\n",
                  "step 22000: train loss 2.3784, val loss 2.3613\n",
                  "saving checkpoint to models/token_transformer\n",
                  "step 22250: train loss 2.3817, val loss 2.3823\n",
                  "step 22500: train loss 2.3651, val loss 2.3879\n",
                  "step 22750: train loss 2.3732, val loss 2.3815\n",
                  "step 23000: train loss 2.3871, val loss 2.3789\n",
                  "step 23250: train loss 2.3778, val loss 2.3893\n",
                  "step 23500: train loss 2.3441, val loss 2.4208\n",
                  "step 23750: train loss 2.3900, val loss 2.3881\n",
                  "step 24000: train loss 2.3814, val loss 2.3873\n",
                  "step 24250: train loss 2.3543, val loss 2.3687\n",
                  "step 24500: train loss 2.3495, val loss 2.3926\n",
                  "step 24750: train loss 2.3551, val loss 2.3930\n",
                  "step 25000: train loss 2.3492, val loss 2.3962\n"
               ]
            }
         ],
         "source": [
            "# Prepeare model parameters and train\n",
            "import wandb\n",
            "wandb.login()\n",
            "trained_model = training_nano_gpt.train(get_batch, config, model_config, vq, vq_dicts[\"vq_config\"], token_dict=token_dict)\n"
         ]
      },
      {
         "cell_type": "code",
         "execution_count": 16,
         "metadata": {},
         "outputs": [
            {
               "name": "stdout",
               "output_type": "stream",
               "text": [
                  "number of parameters: 0.88M\n"
               ]
            },
            {
               "data": {
                  "text/plain": [
                     "tensor([[False, False, False, False, False, False,  True, False, False, False,\n",
                     "         False, False, False, False, False,  True, False, False, False, False,\n",
                     "          True, False, False, False, False, False,  True,  True, False, False,\n",
                     "         False, False, False, False, False,  True, False, False, False, False,\n",
                     "         False, False, False, False, False,  True,  True, False, False,  True,\n",
                     "         False, False, False,  True, False, False, False, False, False, False,\n",
                     "         False, False, False, False, False, False, False,  True,  True,  True,\n",
                     "         False, False, False,  True, False, False, False, False,  True, False,\n",
                     "         False, False, False, False,  True, False, False, False, False, False,\n",
                     "         False, False, False, False, False,  True, False, False,  True, False,\n",
                     "         False,  True, False,  True,  True, False, False,  True, False, False,\n",
                     "         False, False,  True, False, False, False, False,  True,  True, False,\n",
                     "          True, False, False,  True,  True,  True, False, False, False, False,\n",
                     "         False, False, False, False, False, False,  True, False,  True, False,\n",
                     "         False, False,  True, False,  True, False, False, False,  True, False,\n",
                     "         False,  True, False, False,  True,  True, False, False, False, False,\n",
                     "         False, False, False, False, False, False, False, False, False,  True,\n",
                     "          True, False,  True, False, False, False, False, False, False, False,\n",
                     "          True, False, False, False,  True, False,  True, False, False, False,\n",
                     "         False, False,  True,  True,  True,  True,  True,  True,  True,  True,\n",
                     "          True,  True,  True,  True,  True,  True,  True,  True,  True, False,\n",
                     "         False,  True, False, False, False, False,  True, False, False, False,\n",
                     "          True, False, False, False, False, False, False, False,  True,  True,\n",
                     "          True,  True, False, False, False, False, False,  True, False, False,\n",
                     "         False,  True, False, False, False,  True, False, False, False, False,\n",
                     "          True, False,  True, False, False, False, False, False,  True, False,\n",
                     "          True,  True,  True,  True,  True,  True,  True, False,  True,  True,\n",
                     "          True,  True,  True,  True, False, False, False, False,  True, False,\n",
                     "         False, False, False, False, False,  True, False, False, False,  True,\n",
                     "         False,  True,  True, False,  True, False, False, False,  True, False,\n",
                     "         False,  True, False,  True, False, False, False, False, False, False,\n",
                     "         False, False, False, False, False,  True, False,  True, False, False,\n",
                     "         False, False, False, False, False, False, False, False, False, False,\n",
                     "         False, False, False,  True,  True,  True, False, False,  True, False,\n",
                     "         False, False, False, False, False, False, False, False,  True,  True,\n",
                     "          True, False, False, False, False, False, False, False, False, False,\n",
                     "          True, False, False, False, False,  True,  True, False, False, False,\n",
                     "         False, False, False, False, False, False, False, False, False,  True,\n",
                     "         False,  True, False, False, False, False, False,  True, False, False,\n",
                     "         False, False, False, False, False, False, False,  True, False, False,\n",
                     "         False,  True,  True,  True, False,  True,  True, False,  True,  True,\n",
                     "          True,  True,  True,  True, False,  True, False, False,  True, False,\n",
                     "         False, False, False, False, False,  True, False,  True, False,  True,\n",
                     "         False, False, False, False, False, False, False, False, False, False,\n",
                     "         False, False, False, False, False,  True, False, False, False,  True,\n",
                     "          True,  True,  True, False,  True,  True, False, False, False,  True,\n",
                     "          True,  True,  True, False,  True, False, False,  True, False, False,\n",
                     "         False, False, False, False, False, False, False,  True, False, False,\n",
                     "         False, False, False, False,  True,  True, False, False, False, False,\n",
                     "         False,  True, False,  True,  True, False, False, False, False, False,\n",
                     "         False, False, False,  True, False,  True, False, False, False,  True,\n",
                     "         False, False, False,  True, False, False,  True, False, False, False,\n",
                     "          True, False, False, False,  True,  True, False, False, False, False,\n",
                     "         False, False, False, False, False,  True, False,  True, False, False,\n",
                     "          True, False, False, False, False,  True, False,  True,  True, False,\n",
                     "          True,  True, False,  True, False, False,  True, False, False,  True,\n",
                     "          True]], device='cuda:0')"
                  ]
               },
               "execution_count": 16,
               "metadata": {},
               "output_type": "execute_result"
            }
         ],
         "source": [
            "import matplotlib.pyplot as plt\n",
            "import torch\n",
            "from networks.nano_gpt import GPT\n",
            "from utils import get_default_device\n",
            "\n",
            "model_dict = torch.load(\"./models/token_transformer/ckpt.pt\")\n",
            "# Configuration\n",
            "idx = 3\n",
            "\n",
            "device = get_default_device()\n",
            "model = GPT(model_config)#model_dict[\"model_args\"])\n",
            "model.to(device=device)\n",
            "model.load_state_dict(model_dict[\"model\"])\n",
            "model.eval()\n",
            "\n",
            "vq = VectorQuantize(**model_dict[\"vq_config\"])\n",
            "vq.load_state_dict(model_dict[\"vq_state_dict\"])\n",
            "vq.eval()\n",
            "\n",
            "dataset = MnistNeFDataset(os.path.join(data_root, \"datasets\", \"mnist-nerfs\"), transform=TokenTransform(vq), **kwargs)\n",
            "\n",
            "\n",
            "sample = dataset[0][0]\n",
            "X, Y = get_batch('val')\n",
            "X, Y = (X[0].unsqueeze(0), Y[0].unsqueeze(0))\n",
            "pred, _ = model(X, Y)\n",
            "# Sanity Check\n",
            "# Should be all true except first/second element\n",
            "pred.argmax(dim=-1)==Y\n"
         ]
      },
      {
         "cell_type": "code",
         "execution_count": 19,
         "metadata": {},
         "outputs": [
            {
               "name": "stdout",
               "output_type": "stream",
               "text": [
                  "tensor(6, device='cuda:0')\n",
                  "tensor(6, device='cuda:0')\n",
                  "tensor(2, device='cuda:0')\n",
                  "tensor(5, device='cuda:0')\n"
               ]
            },
            {
               "data": {
                  "image/png": "[encoded data removed]",
                  "text/plain": [
                     "<Figure size 2000x1000 with 4 Axes>"
                  ]
               },
               "metadata": {},
               "output_type": "display_data"
            }
         ],
         "source": [
            "from animation.util import backtransform_weights, reconstruct_image\n",
            "from networks.mlp_models import MLP3D\n",
            "\n",
            "ij_len = 2\n",
            "# Plotting the tensors as heatmaps in grayscale\n",
            "fig, axes = plt.subplots(ij_len, ij_len, figsize=(20, 10))\n",
            "\n",
            "SOS = torch.Tensor([[0]]).long().to(device)\n",
            "\n",
            "kwargs = {\n",
            "\"type\": \"pretrained\",\n",
            "\"fixed_label\": None,\n",
            "}\n",
            "\n",
            "for i in range(ij_len):\n",
            "    for j in range(ij_len):\n",
            "\n",
            "        model.eval()\n",
            "        novel_tokens = model.generate(SOS, dataset[0][0].shape[0] + 1, temperature=1.0, top_k=None)[:, 1:]\n",
            "\n",
            "        print(novel_tokens[0][0])\n",
            "        novel_tokens = novel_tokens[:, 1:].unsqueeze(-1).to(\"cpu\")\n",
            "                                                                                                                         \n",
            "\n",
            "        max_similarity = 0\n",
            "        \"\"\"\n",
            "        for data in dataset:\n",
            "            similarity = (data[0].to(device)==novel_tokens.squeeze(-1).squeeze(0).to(device)).int().sum()\n",
            "            if similarity > max_similarity:\n",
            "                max_similarity = similarity\n",
            "        \"\"\"\n",
            "        #print(f\"Maximum Similarity of picture (i, j) {(i, j)}: {max_similarity}\")\n",
            "\n",
            "        novel_weights= vq.get_codes_from_indices((novel_tokens-11))\n",
            "\n",
            "        dataset_no_transform = MnistNeFDataset(os.path.join(data_root, \"datasets\", \"mnist-nerfs\"), **kwargs)\n",
            "        original_dict = dataset_no_transform[0][0]\n",
            "\n",
            "        reconstructed_dict = backtransform_weights(novel_weights, original_dict[\"state_dict\"])\n",
            "\n",
            "        mlp3d = MLP3D(**original_dict[\"model_config\"])\n",
            "        mlp3d.load_state_dict(reconstructed_dict)\n",
            "        reconstructed_tensor = reconstruct_image(mlp3d)\n",
            "\n",
            "        axes[i][j].imshow(reconstructed_tensor, cmap='gray', aspect='auto')\n",
            "\n",
            "plt.show()"
         ]
      },
      {
         "cell_type": "code",
         "execution_count": null,
         "metadata": {},
         "outputs": [],
         "source": []
      }
   ],
   "metadata": {
      "kernelspec": {
         "display_name": ".venv",
         "language": "python",
         "name": "python3"
      },
      "language_info": {
         "codemirror_mode": {
            "name": "ipython",
            "version": 3
         },
         "file_extension": ".py",
         "mimetype": "text/x-python",
         "name": "python",
         "nbconvert_exporter": "python",
         "pygments_lexer": "ipython3",
         "version": "3.12.3"
      }
   },
   "nbformat": 4,
   "nbformat_minor": 2
}
