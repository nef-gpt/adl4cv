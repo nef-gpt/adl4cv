{
 "cells": [
  {
   "cell_type": "code",
   "execution_count": null,
   "metadata": {},
   "outputs": [],
   "source": []
  },
  {
   "cell_type": "code",
   "execution_count": null,
   "metadata": {},
   "outputs": [],
   "source": [
    "reconstructed_dict"
   ]
  },
  {
   "cell_type": "code",
   "execution_count": null,
   "metadata": {},
   "outputs": [],
   "source": []
  },
  {
   "cell_type": "code",
   "execution_count": null,
   "metadata": {},
   "outputs": [],
   "source": [
    "# Enable autoreload of module\n",
    "%load_ext autoreload\n",
    "%autoreload 2"
   ]
  },
  {
   "cell_type": "code",
   "execution_count": null,
   "metadata": {},
   "outputs": [],
   "source": [
    "from torchinfo import summary\n",
    "from collections import OrderedDict\n",
    "from networks.INR import INR\n",
    "from typing import List, Tuple, Union\n",
    "import matplotlib.pyplot as plt\n",
    "import torchvision\n",
    "import torch\n",
    "import os\n",
    "\n",
    "from data.DWSNets_dataset import DWSNetsDataset, TokenTransform, LayerOneHotTransform, FlattenTransform, BiasFlagTransform, PositionEncodingTransform, MinMaxTransformer\n",
    "from networks.naive_rq_ae import RQAutoencoder, RQAutoencoderConfig\n",
    "from networks.nano_gpt import GPTConfig\n",
    "from training.training_nano_gpt import train as train_gpt, Config as TrainConfig"
   ]
  },
  {
   "cell_type": "code",
   "execution_count": null,
   "metadata": {},
   "outputs": [],
   "source": [
    "\n",
    "dir_path = os.path.dirname(os.path.abspath(os.getcwd()))\n",
    "data_root = os.path.join(dir_path, \"adl4cv\", \"datasets\", \"DWSNets\", \"mnist-inrs\")\n",
    "\n",
    "# class AutoencoderTransform(torch.nn.Module):\n",
    "#   def __init__(self):\n",
    "#     super().__init__()\n",
    "#     self.bias = BiasFlagTransform()\n",
    "#     self.flatten = FlattenTransform()\n",
    "#     self.layer_one_hot = LayerOneHotTransform()\n",
    "\n",
    "#   def forward(self, x, y):\n",
    "#     bias, _ = self.bias(x, y)\n",
    "#     layer, _ = self.layer_one_hot(x, y)    \n",
    "#     x, _ = self.flatten(x, y)\n",
    "#     return torch.hstack((x, layer, bias)), y\n",
    "  \n",
    "\n",
    "class AutoencoderTransform2(torch.nn.Module):\n",
    "  def __init__(self):\n",
    "    super().__init__()\n",
    "    self.flatten = FlattenTransform()\n",
    "    self.minmax = MinMaxTransformer()\n",
    "\n",
    "  def forward(self, x, y):\n",
    "    x, _ = self.flatten(x, y)\n",
    "    x, _ = self.minmax(x, y)\n",
    "    return x, y\n",
    "\n",
    "transform = torchvision.transforms.Compose([FlattenTransform(), MinMaxTransformer()])\n",
    "\n",
    "dataset_no_transform = DWSNetsDataset(data_root)\n",
    "dataset_flatten = DWSNetsDataset(data_root, transform=FlattenTransform())\n",
    "dataset_test_flatten = DWSNetsDataset(data_root, split=\"test\", transform=FlattenTransform())\n",
    "\n",
    "# train_dataset = DWSNetsDataset(data_root, transform=AutoencoderTransform2())\n",
    "# test_dataset = DWSNetsDataset(data_root, split=\"test\", transform=AutoencoderTransform2())\n"
   ]
  },
  {
   "cell_type": "code",
   "execution_count": 18,
   "metadata": {},
   "outputs": [
    {
     "data": {
      "text/plain": [
       "==========================================================================================\n",
       "Layer (type:depth-idx)                   Output Shape              Param #\n",
       "==========================================================================================\n",
       "RQAutoencoder                            [16, 1]                   --\n",
       "├─Sequential: 1-1                        [16, 1]                   --\n",
       "│    └─Linear: 2-1                       [16, 1]                   2\n",
       "├─VectorQuantize: 1-2                    [16, 1]                   --\n",
       "│    └─Identity: 2-2                     [16, 1, 1]                --\n",
       "│    └─EuclideanCodebook: 2-3            [16, 1, 1]                --\n",
       "│    └─Identity: 2-4                     [16, 1, 1]                --\n",
       "├─Sequential: 1-3                        [16, 1]                   --\n",
       "│    └─Linear: 2-5                       [16, 1]                   2\n",
       "==========================================================================================\n",
       "Total params: 4\n",
       "Trainable params: 4\n",
       "Non-trainable params: 0\n",
       "Total mult-adds (Units.MEGABYTES): 0.00\n",
       "==========================================================================================\n",
       "Input size (MB): 0.00\n",
       "Forward/backward pass size (MB): 0.00\n",
       "Params size (MB): 0.00\n",
       "Estimated Total Size (MB): 0.00\n",
       "=========================================================================================="
      ]
     },
     "execution_count": 18,
     "metadata": {},
     "output_type": "execute_result"
    }
   ],
   "source": [
    "ae_config = RQAutoencoderConfig(dim_enc=(dataset_flatten[0][0].size()[1], 1), dim_dec=(1, 1), activation=torch.nn.Tanh(), codebook_size=2 ^ 12 )\n",
    "ae = RQAutoencoder(ae_config)\n",
    "summary(ae, input_size=(16, 1))"
   ]
  },
  {
   "cell_type": "code",
   "execution_count": 19,
   "metadata": {},
   "outputs": [],
   "source": [
    "len_training_data = 1\n",
    "training_data = []\n",
    "for i in range(len_training_data):\n",
    "  training_data.append(dataset_flatten[i][0])\n",
    "result = torch.cat(training_data)"
   ]
  },
  {
   "cell_type": "code",
   "execution_count": 20,
   "metadata": {},
   "outputs": [
    {
     "data": {
      "text/html": [
       "wandb version 0.17.0 is available!  To upgrade, please run:\n",
       " $ pip install wandb --upgrade"
      ],
      "text/plain": [
       "<IPython.core.display.HTML object>"
      ]
     },
     "metadata": {},
     "output_type": "display_data"
    },
    {
     "data": {
      "text/html": [
       "Tracking run with wandb version 0.16.6"
      ],
      "text/plain": [
       "<IPython.core.display.HTML object>"
      ]
     },
     "metadata": {},
     "output_type": "display_data"
    },
    {
     "data": {
      "text/html": [
       "Run data is saved locally in <code>/Users/luca/uni/master/second-semester/adl4cv/wandb/run-20240524_151932-tpgnpkvh</code>"
      ],
      "text/plain": [
       "<IPython.core.display.HTML object>"
      ]
     },
     "metadata": {},
     "output_type": "display_data"
    },
    {
     "data": {
      "text/html": [
       "Syncing run <strong><a href='https://wandb.ai/adl-for-cv/autoencoder/runs/tpgnpkvh' target=\"_blank\">run-2024-05-24-15-09-14</a></strong> to <a href='https://wandb.ai/adl-for-cv/autoencoder' target=\"_blank\">Weights & Biases</a> (<a href='https://wandb.me/run' target=\"_blank\">docs</a>)<br/>"
      ],
      "text/plain": [
       "<IPython.core.display.HTML object>"
      ]
     },
     "metadata": {},
     "output_type": "display_data"
    },
    {
     "data": {
      "text/html": [
       " View project at <a href='https://wandb.ai/adl-for-cv/autoencoder' target=\"_blank\">https://wandb.ai/adl-for-cv/autoencoder</a>"
      ],
      "text/plain": [
       "<IPython.core.display.HTML object>"
      ]
     },
     "metadata": {},
     "output_type": "display_data"
    },
    {
     "data": {
      "text/html": [
       " View run at <a href='https://wandb.ai/adl-for-cv/autoencoder/runs/tpgnpkvh' target=\"_blank\">https://wandb.ai/adl-for-cv/autoencoder/runs/tpgnpkvh</a>"
      ],
      "text/plain": [
       "<IPython.core.display.HTML object>"
      ]
     },
     "metadata": {},
     "output_type": "display_data"
    },
    {
     "name": "stderr",
     "output_type": "stream",
     "text": [
      "  0%|          | 0/593 [00:00<?, ?it/s]/Users/luca/uni/master/second-semester/adl4cv/.venv/lib/python3.12/site-packages/torch/nn/modules/loss.py:101: UserWarning: Using a target size (torch.Size([2])) that is different to the input size (torch.Size([2, 1])). This will likely lead to incorrect results due to broadcasting. Please ensure they have the same size.\n",
      "  return F.l1_loss(input, target, reduction=self.reduction)\n",
      "Epoch [1/50]:  94%|█████████▍| 558/593 [00:01<00:00, 366.02it/s, loss=0.426]/Users/luca/uni/master/second-semester/adl4cv/.venv/lib/python3.12/site-packages/torch/nn/modules/loss.py:101: UserWarning: Using a target size (torch.Size([1])) that is different to the input size (torch.Size([1, 1])). This will likely lead to incorrect results due to broadcasting. Please ensure they have the same size.\n",
      "  return F.l1_loss(input, target, reduction=self.reduction)\n",
      "                                                                                \r"
     ]
    },
    {
     "name": "stdout",
     "output_type": "stream",
     "text": [
      "Checkpoint saved: models/model_epoch_49.pth\n"
     ]
    },
    {
     "data": {
      "text/html": [
       "<style>\n",
       "    table.wandb td:nth-child(1) { padding: 0 10px; text-align: left ; width: auto;} td:nth-child(2) {text-align: left ; width: 100%}\n",
       "    .wandb-row { display: flex; flex-direction: row; flex-wrap: wrap; justify-content: flex-start; width: 100% }\n",
       "    .wandb-col { display: flex; flex-direction: column; flex-basis: 100%; flex: 1; padding: 10px; }\n",
       "    </style>\n",
       "<div class=\"wandb-row\"><div class=\"wandb-col\"><h3>Run history:</h3><br/><table class=\"wandb\"><tr><td>batch</td><td>▄▃▅▇▂▄▆▁▃▅█▂▅▇▆█▃▅▇▂▄▆▁▃▅█▂▁▄▆█▃▅▇▂▄▆▁▃▅</td></tr><tr><td>epoch</td><td>▁▁▁▁▂▂▂▂▂▃▃▃▃▃▃▄▄▄▄▄▅▅▅▅▅▅▆▆▆▆▆▇▇▇▇▇▇███</td></tr><tr><td>loss</td><td>█▆▂▁▁▁▁▂▁▂▁▁▁▁▁▂▁▁▁▁▁▁▂▁▁▁▁▁▁▁▁▁▁▁▁▁▁▁▂▁</td></tr><tr><td>lr</td><td>▂▃▅▆██████▇▇▇▇▇▆▆▆▆▅▅▅▄▄▄▃▃▃▃▂▂▂▂▂▁▁▁▁▁▁</td></tr></table><br/></div><div class=\"wandb-col\"><h3>Run summary:</h3><br/><table class=\"wandb\"><tr><td>batch</td><td>593</td></tr><tr><td>epoch</td><td>49</td></tr><tr><td>loss</td><td>0.00646</td></tr><tr><td>lr</td><td>0.0</td></tr></table><br/></div></div>"
      ],
      "text/plain": [
       "<IPython.core.display.HTML object>"
      ]
     },
     "metadata": {},
     "output_type": "display_data"
    },
    {
     "data": {
      "text/html": [
       " View run <strong style=\"color:#cdcd00\">run-2024-05-24-15-09-14</strong> at: <a href='https://wandb.ai/adl-for-cv/autoencoder/runs/tpgnpkvh' target=\"_blank\">https://wandb.ai/adl-for-cv/autoencoder/runs/tpgnpkvh</a><br/> View project at: <a href='https://wandb.ai/adl-for-cv/autoencoder' target=\"_blank\">https://wandb.ai/adl-for-cv/autoencoder</a><br/>Synced 5 W&B file(s), 0 media file(s), 0 artifact file(s) and 0 other file(s)"
      ],
      "text/plain": [
       "<IPython.core.display.HTML object>"
      ]
     },
     "metadata": {},
     "output_type": "display_data"
    },
    {
     "data": {
      "text/html": [
       "Find logs at: <code>./wandb/run-20240524_151932-tpgnpkvh/logs</code>"
      ],
      "text/plain": [
       "<IPython.core.display.HTML object>"
      ]
     },
     "metadata": {},
     "output_type": "display_data"
    }
   ],
   "source": [
    "from training.training_autoencoder import train_model, TrainingConfig\n",
    "\n",
    "from torch import nn\n",
    "from torch.nn import MSELoss, CrossEntropyLoss, L1Loss\n",
    "from torch.utils.data import DataLoader\n",
    "\n",
    "\n",
    "batch_size = 2\n",
    "train_dataloader = DataLoader(dataset_flatten[0][0], batch_size=batch_size, shuffle=True)\n",
    "test_dataloader = train_dataloader#DataLoader([test_dataset[0][0][0]], batch_size=1, shuffle=True)\n",
    "\n",
    "train_config = TrainingConfig()\n",
    "train_config.max_iters = 50\n",
    "train_config.always_save_checkpoint = True\n",
    "train_config.weight_decay = 0.0\n",
    "train_config.learning_rate = 1e-3\n",
    "train_config.lr_decay_iters = int(train_config.max_iters*result.size()[0]/batch_size)\n",
    "train_config.warmup_iters = int(0.1*train_config.max_iters*result.size()[0]/batch_size)\n",
    "train_config.log_interval = 1\n",
    "\n",
    "# class AutoencoderLoss(nn.Module):\n",
    "#   def __init__(self):\n",
    "#     super().__init__()\n",
    "#     self.mse = L1Loss()\n",
    "#     self.ce = CrossEntropyLoss()\n",
    "\n",
    "#   def forward(self, pred, true):\n",
    "#     # take first column of pred and true and compare them with mse\n",
    "#     x_pred = pred[:, :1]\n",
    "#     x_true = true[:, :1]\n",
    "\n",
    "#     mse_loss = self.mse(x_pred, x_true)\n",
    "\n",
    "\n",
    "#     # compare one hot encoding (eg feature 1, 2, 3) with cross entropy loss\n",
    "#     layer_pred = pred[:, 1:4]\n",
    "#     layer_true = true[:, 1:4]\n",
    "#     ce_loss = self.ce(layer_pred, layer_true)\n",
    "\n",
    "#     # compare bias flag\n",
    "#     bias_pred = pred[:, 4]\n",
    "#     bias_true = true[:, 4]\n",
    "#     bias_loss = self.ce(bias_pred, bias_true)\n",
    "\n",
    "#     return mse_loss + ce_loss + bias_loss\n",
    "\n",
    "ae_trained = train_model(train_config, ae_config, train_dataloader, test_dataloader, L1Loss())"
   ]
  },
  {
   "cell_type": "code",
   "execution_count": null,
   "metadata": {},
   "outputs": [],
   "source": [
    "from data.DWSNets_dataset import TokenTransform\n",
    "\n",
    "\n",
    "tokenTransform = TokenTransform(ae_trained)\n",
    "tokenTransform.forward(dataset_flatten[0][0], dataset_flatten[0][1])"
   ]
  },
  {
   "cell_type": "code",
   "execution_count": null,
   "metadata": {},
   "outputs": [],
   "source": [
    "if False:\n",
    "  PATH = \"./models/model_epoch_49.pth\"\n",
    "  ae_trained = RQAutoencoder(ae_config)\n",
    "  ae_trained.load_state_dict(torch.load(PATH)[\"model_state_dict\"])\n"
   ]
  },
  {
   "cell_type": "code",
   "execution_count": 21,
   "metadata": {},
   "outputs": [
    {
     "name": "stdout",
     "output_type": "stream",
     "text": [
      "Transformed Weights: tensor([0.5351, 0.6517, 0.7683, 0.8850])\n"
     ]
    },
    {
     "data": {
      "image/png": "[encoded data removed]",
      "text/plain": [
       "<Figure size 2000x1000 with 4 Axes>"
      ]
     },
     "metadata": {},
     "output_type": "display_data"
    }
   ],
   "source": [
    "import matplotlib.pyplot as plt\n",
    "import torch\n",
    "import numpy as np\n",
    "from collections import OrderedDict\n",
    "from typing import List, Tuple, Union\n",
    "\n",
    "# Assuming the following classes and functions are defined elsewhere:\n",
    "# - INR\n",
    "# - dataset_no_transform\n",
    "# - ae_trained\n",
    "# - dataset_flatten\n",
    "\n",
    "\n",
    "class MinMaxTransformer(nn.Module):\n",
    "    def __init__(self, min_value: float = -0.3587, max_value: float = 0.4986):\n",
    "        super().__init__()\n",
    "        self.min_value = min_value\n",
    "        self.max_value = max_value\n",
    "\n",
    "    def forward(self, weights, y):\n",
    "        # Apply min-max normalization\n",
    "        weights = (weights - self.min_value) / (self.max_value - self.min_value)\n",
    "        return weights, y\n",
    "\n",
    "    def reverse(self, normalized_weights):\n",
    "        # Reverse the min-max normalization\n",
    "        original_weights = normalized_weights * (self.max_value - self.min_value) + self.min_value\n",
    "        return original_weights\n",
    "\n",
    "# Example usage:\n",
    "minmax_transformer = MinMaxTransformer(min_value=-0.3587, max_value=0.4986)\n",
    "weights = torch.tensor([0.1, 0.2, 0.3, 0.4])\n",
    "y = torch.tensor([1.0])  # Example target\n",
    "\n",
    "# Transform the weights\n",
    "transformed_weights, transformed_y = minmax_transformer(weights, y)\n",
    "print(\"Transformed Weights:\", transformed_weights)\n",
    "\n",
    "def backtransform_weights(flattened_weights, original_weights_dict):\n",
    "    reconstructed_dict = OrderedDict()\n",
    "    start = 0\n",
    "    for key, tensor in original_weights_dict.items():\n",
    "        num_elements = tensor.numel()\n",
    "        flattened_slice = flattened_weights[start:start + num_elements]\n",
    "        reconstructed_tensor = flattened_slice.view(tensor.shape)\n",
    "        reconstructed_dict[key] = reconstructed_tensor\n",
    "        start += num_elements\n",
    "    return reconstructed_dict\n",
    "\n",
    "def make_coordinates(\n",
    "    shape: Union[Tuple[int], List[int]],\n",
    "    bs: int,\n",
    "    coord_range: Union[Tuple[int], List[int]] = (-1, 1),\n",
    ") -> torch.Tensor:\n",
    "    x_coordinates = np.linspace(coord_range[0], coord_range[1], shape[0])\n",
    "    y_coordinates = np.linspace(coord_range[0], coord_range[1], shape[1])\n",
    "    x_coordinates, y_coordinates = np.meshgrid(x_coordinates, y_coordinates)\n",
    "    x_coordinates = x_coordinates.flatten()\n",
    "    y_coordinates = y_coordinates.flatten()\n",
    "    coordinates = np.stack([x_coordinates, y_coordinates]).T\n",
    "    coordinates = np.repeat(coordinates[np.newaxis, ...], bs, axis=0)\n",
    "    return torch.from_numpy(coordinates).type(torch.float)\n",
    "\n",
    "# Configuration\n",
    "inr_kwargs = {\"n_layers\": 3, \"in_dim\": 2, \"up_scale\": 16}\n",
    "image_size = (28, 28)\n",
    "idx = 0\n",
    "# Get dataset elements\n",
    "dataset_ele = dataset_no_transform[idx][0]\n",
    "minmax_transformer = MinMaxTransformer(min_value=-0.3587, max_value=0.4986)\n",
    "dataset_ele_flattened = minmax_transformer.reverse(ae_trained(dataset_flatten[idx][0]))\n",
    "\n",
    "# Backtransform weights\n",
    "reconstructed_dict = backtransform_weights(dataset_ele_flattened, dataset_ele)\n",
    "\n",
    "# Initialize and load the INR model\n",
    "inr = INR(**inr_kwargs)\n",
    "inr.load_state_dict(reconstructed_dict)\n",
    "inr.eval()\n",
    "\n",
    "# Generate image using the INR model\n",
    "input_coords = make_coordinates(image_size, 1)\n",
    "with torch.no_grad():\n",
    "    reconstructed_image = inr(input_coords)\n",
    "    reconstructed_image = reconstructed_image.view(*image_size, -1)\n",
    "    reconstructed_image = reconstructed_image.permute(2, 0, 1)\n",
    "\n",
    "reconstructed_tensor = reconstructed_image.squeeze(0)\n",
    "\n",
    "# Load ground truth model\n",
    "ground_truth_dict = dataset_ele\n",
    "ground_truth_inr = INR(**inr_kwargs)\n",
    "ground_truth_inr.load_state_dict(ground_truth_dict)\n",
    "ground_truth_inr.eval()\n",
    "\n",
    "# Generate image using the ground truth model\n",
    "with torch.no_grad():\n",
    "    ground_truth_image = ground_truth_inr(input_coords)\n",
    "    ground_truth_image = ground_truth_image.view(*image_size, -1)\n",
    "    ground_truth_image = ground_truth_image.permute(2, 0, 1)\n",
    "\n",
    "ground_truth_tensor = ground_truth_image.squeeze(0)\n",
    "\n",
    "# Plotting the tensors as heatmaps in grayscale\n",
    "fig, axes = plt.subplots(1, 2, figsize=(20, 10))\n",
    "\n",
    "axes[0].imshow(ground_truth_tensor, cmap='gray', aspect='auto')\n",
    "axes[0].set_title('Ground Truth')\n",
    "axes[0].set_xlabel('X-axis')\n",
    "axes[0].set_ylabel('Y-axis')\n",
    "\n",
    "axes[1].imshow(reconstructed_tensor, cmap='gray', aspect='auto')\n",
    "axes[1].set_title('Reconstructed')\n",
    "axes[1].set_xlabel('X-axis')\n",
    "axes[1].set_ylabel('Y-axis')\n",
    "\n",
    "plt.colorbar(axes[0].imshow(ground_truth_tensor, cmap='gray', aspect='auto'), ax=axes[0])\n",
    "plt.colorbar(axes[1].imshow(reconstructed_tensor, cmap='gray', aspect='auto'), ax=axes[1])\n",
    "plt.show()\n"
   ]
  },
  {
   "cell_type": "code",
   "execution_count": null,
   "metadata": {},
   "outputs": [],
   "source": [
    "gpt_config = GPTConfig()\n",
    "train_config = TrainConfig()\n",
    "train_config.batch_size = 1\n",
    "\n",
    "gpt_train_dataset = DWSNetsDataset(data_root, transform=TokenTransform(ae_trained))\n",
    "gpt_test_dataset = DWSNetsDataset(data_root, split=\"test\", transform=TokenTransform(ae_trained))\n",
    "\n",
    "gpt_train_dataloader = DataLoader([gpt_train_dataset[0]], batch_size=train_config.batch_size, shuffle=True)\n",
    "gpt_test_dataloader = DataLoader([gpt_train_dataset[0]], batch_size=train_config.batch_size, shuffle=True)\n",
    "\n",
    "\n",
    "\n",
    "def get_batch(split: str):\n",
    "    if split == \"train\":\n",
    "        return next(gpt_train_dataset)\n",
    "    elif split == \"test\":\n",
    "        return next(gpt_test_dataset)\n",
    "    else:\n",
    "        raise ValueError(f\"Invalid split: {split}\")\n",
    "\n",
    "train_gpt(get_batch, train_config, gpt_config)"
   ]
  },
  {
   "cell_type": "code",
   "execution_count": null,
   "metadata": {},
   "outputs": [],
   "source": []
  }
 ],
 "metadata": {
  "kernelspec": {
   "display_name": ".venv",
   "language": "python",
   "name": "python3"
  },
  "language_info": {
   "codemirror_mode": {
    "name": "ipython",
    "version": 3
   },
   "file_extension": ".py",
   "mimetype": "text/x-python",
   "name": "python",
   "nbconvert_exporter": "python",
   "pygments_lexer": "ipython3",
   "version": "3.12.3"
  }
 },
 "nbformat": 4,
 "nbformat_minor": 2
}
