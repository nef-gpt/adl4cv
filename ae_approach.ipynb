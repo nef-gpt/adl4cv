{
 "cells": [
  {
   "cell_type": "code",
   "execution_count": null,
   "metadata": {},
   "outputs": [],
   "source": []
  },
  {
   "cell_type": "code",
   "execution_count": 1,
   "metadata": {},
   "outputs": [],
   "source": [
    "# Enable autoreload of module\n",
    "%load_ext autoreload\n",
    "%autoreload 2"
   ]
  },
  {
   "cell_type": "code",
   "execution_count": 90,
   "metadata": {},
   "outputs": [],
   "source": [
    "from torchinfo import summary\n",
    "from collections import OrderedDict\n",
    "from networks.INR import INR\n",
    "from typing import List, Tuple, Union\n",
    "import matplotlib.pyplot as plt\n",
    "import torch\n",
    "import os\n",
    "\n",
    "from data.DWSNets_dataset import DWSNetsDataset, LayerOneHotTransform, FlattenTransform, BiasFlagTransform, PositionEncodingTransform, MinMaxTransformer\n",
    "from networks.naive_rq_ae import RQAutoencoder, RQAutoencoderConfig"
   ]
  },
  {
   "cell_type": "code",
   "execution_count": 84,
   "metadata": {},
   "outputs": [],
   "source": [
    "\n",
    "dir_path = os.path.dirname(os.path.abspath(os.getcwd()))\n",
    "data_root = os.path.join(dir_path, \"adl4cv\", \"datasets\", \"DWSNets\", \"mnist-inrs\")\n",
    "\n",
    "class AutoencoderTransform(torch.nn.Module):\n",
    "  def __init__(self):\n",
    "    super().__init__()\n",
    "    self.bias = BiasFlagTransform()\n",
    "    self.flatten = FlattenTransform()\n",
    "    self.layer_one_hot = LayerOneHotTransform()\n",
    "\n",
    "  def forward(self, x, y):\n",
    "    bias, _ = self.bias(x, y)\n",
    "    layer, _ = self.layer_one_hot(x, y)    \n",
    "    x, _ = self.flatten(x, y)\n",
    "    return torch.hstack((x, layer, bias)), y\n",
    "  \n",
    "\n",
    "class AutoencoderTransform2(torch.nn.Module):\n",
    "  def __init__(self):\n",
    "    super().__init__()\n",
    "    self.flatten = FlattenTransform()\n",
    "    self.minmax = MinMaxTransformer()\n",
    "    self.encodings = PositionEncodingTransform(sigma=0.9, m=5)\n",
    "\n",
    "  def forward(self, x, y):\n",
    "    x, _ = self.flatten(x, y)\n",
    "    x, _ = self.minmax(x, y)\n",
    "    encodings, _ = self.encodings(x.unsqueeze(1), y)\n",
    "    return torch.hstack((x, encodings)), y\n",
    "\n",
    "dataset_no_transform = DWSNetsDataset(data_root)\n",
    "dataset_flatten = DWSNetsDataset(data_root, transform=FlattenTransform())\n",
    "\n",
    "train_dataset = DWSNetsDataset(data_root, transform=AutoencoderTransform2())\n",
    "test_dataset = DWSNetsDataset(data_root, split=\"test\", transform=AutoencoderTransform2())\n",
    "\n",
    "path = \"datasets/DWSNets/mnist-inrs/mnist_splits.json\"\n"
   ]
  },
  {
   "cell_type": "code",
   "execution_count": 4,
   "metadata": {},
   "outputs": [],
   "source": [
    "\n",
    "pos_enc = PositionEncodingTransform(sigma=0.9, m=2)\n",
    "demo_sample = dataset_flatten[3][0].unsqueeze(1)\n",
    "encoding, _ = pos_enc.forward(demo_sample, None)"
   ]
  },
  {
   "cell_type": "code",
   "execution_count": 5,
   "metadata": {},
   "outputs": [
    {
     "data": {
      "text/plain": [
       "torch.Size([1185, 11])"
      ]
     },
     "execution_count": 5,
     "metadata": {},
     "output_type": "execute_result"
    }
   ],
   "source": [
    "train_dataset[0][0].size()"
   ]
  },
  {
   "cell_type": "code",
   "execution_count": 6,
   "metadata": {},
   "outputs": [
    {
     "name": "stdout",
     "output_type": "stream",
     "text": [
      "[ 1.00000000e+00 -7.34788079e-16]\n"
     ]
    }
   ],
   "source": [
    "import numpy as np\n",
    "\n",
    "def positional_encoding(v, sigma=0.9, m=10):\n",
    "    cos_part = [np.cos(2 * np.pi * (sigma ** (j / m)) * v) for j in range(m)]\n",
    "    sin_part = [np.sin(2 * np.pi * (sigma ** (j / m)) * v) for j in range(m)]\n",
    "    return np.array(cos_part + sin_part)\n",
    "\n",
    "# Example usage\n",
    "v = 3\n",
    "sigma = 0.9\n",
    "m = 1\n",
    "encoding = positional_encoding(v, sigma, m)\n",
    "print(encoding)"
   ]
  },
  {
   "cell_type": "code",
   "execution_count": 7,
   "metadata": {},
   "outputs": [
    {
     "data": {
      "text/plain": [
       "-0.30901699437494806"
      ]
     },
     "execution_count": 7,
     "metadata": {},
     "output_type": "execute_result"
    }
   ],
   "source": [
    "np.cos(2 * np.pi * (sigma) * v)"
   ]
  },
  {
   "cell_type": "code",
   "execution_count": 8,
   "metadata": {},
   "outputs": [
    {
     "data": {
      "text/plain": [
       "PositionalEncoding()"
      ]
     },
     "execution_count": 8,
     "metadata": {},
     "output_type": "execute_result"
    }
   ],
   "source": [
    "pos_enc.pos_enc"
   ]
  },
  {
   "cell_type": "code",
   "execution_count": 9,
   "metadata": {},
   "outputs": [
    {
     "data": {
      "text/plain": [
       "11"
      ]
     },
     "execution_count": 9,
     "metadata": {},
     "output_type": "execute_result"
    }
   ],
   "source": [
    "train_dataset[0][0].size()[1]"
   ]
  },
  {
   "cell_type": "code",
   "execution_count": 76,
   "metadata": {},
   "outputs": [
    {
     "name": "stdout",
     "output_type": "stream",
     "text": [
      "1\n",
      "1\n",
      "RQAutoencoder(\n",
      "  (encoder): Sequential(\n",
      "    (encoder-linear-0): Linear(in_features=1, out_features=1, bias=True)\n",
      "  )\n",
      "  (decoder): Sequential(\n",
      "    (decoder-linear-0): Linear(in_features=1, out_features=1, bias=True)\n",
      "  )\n",
      "  (vq): ResidualVQ(\n",
      "    (project_in): Identity()\n",
      "    (project_out): Identity()\n",
      "    (layers): ModuleList(\n",
      "      (0-7): 8 x VectorQuantize(\n",
      "        (project_in): Identity()\n",
      "        (project_out): Identity()\n",
      "        (_codebook): EuclideanCodebook()\n",
      "      )\n",
      "    )\n",
      "  )\n",
      ")\n"
     ]
    }
   ],
   "source": [
    "ae_config = RQAutoencoderConfig(dim_enc=(dataset_flatten[0][0].size()[1], 1), dim_dec=(1, 1), activation=torch.nn.Tanh() )\n",
    "ae = RQAutoencoder(ae_config)\n",
    "print(ae)"
   ]
  },
  {
   "cell_type": "code",
   "execution_count": 77,
   "metadata": {},
   "outputs": [
    {
     "data": {
      "text/html": [
       "wandb version 0.17.0 is available!  To upgrade, please run:\n",
       " $ pip install wandb --upgrade"
      ],
      "text/plain": [
       "<IPython.core.display.HTML object>"
      ]
     },
     "metadata": {},
     "output_type": "display_data"
    },
    {
     "data": {
      "text/html": [
       "Tracking run with wandb version 0.16.6"
      ],
      "text/plain": [
       "<IPython.core.display.HTML object>"
      ]
     },
     "metadata": {},
     "output_type": "display_data"
    },
    {
     "data": {
      "text/html": [
       "Run data is saved locally in <code>/Users/luis/uni/adl4cv/adl4cv/wandb/run-20240524_120208-jm0z1pq6</code>"
      ],
      "text/plain": [
       "<IPython.core.display.HTML object>"
      ]
     },
     "metadata": {},
     "output_type": "display_data"
    },
    {
     "data": {
      "text/html": [
       "Syncing run <strong><a href='https://wandb.ai/adl-for-cv/autoencoder/runs/jm0z1pq6' target=\"_blank\">run-2024-05-24-11-42-39</a></strong> to <a href='https://wandb.ai/adl-for-cv/autoencoder' target=\"_blank\">Weights & Biases</a> (<a href='https://wandb.me/run' target=\"_blank\">docs</a>)<br/>"
      ],
      "text/plain": [
       "<IPython.core.display.HTML object>"
      ]
     },
     "metadata": {},
     "output_type": "display_data"
    },
    {
     "data": {
      "text/html": [
       " View project at <a href='https://wandb.ai/adl-for-cv/autoencoder' target=\"_blank\">https://wandb.ai/adl-for-cv/autoencoder</a>"
      ],
      "text/plain": [
       "<IPython.core.display.HTML object>"
      ]
     },
     "metadata": {},
     "output_type": "display_data"
    },
    {
     "data": {
      "text/html": [
       " View run at <a href='https://wandb.ai/adl-for-cv/autoencoder/runs/jm0z1pq6' target=\"_blank\">https://wandb.ai/adl-for-cv/autoencoder/runs/jm0z1pq6</a>"
      ],
      "text/plain": [
       "<IPython.core.display.HTML object>"
      ]
     },
     "metadata": {},
     "output_type": "display_data"
    },
    {
     "name": "stdout",
     "output_type": "stream",
     "text": [
      "1\n",
      "1\n"
     ]
    },
    {
     "name": "stderr",
     "output_type": "stream",
     "text": [
      "  0%|          | 0/593 [00:00<?, ?it/s]/Users/luis/uni/adl4cv/adl4cv/.venv/lib/python3.12/site-packages/torch/nn/modules/loss.py:101: UserWarning: Using a target size (torch.Size([2])) that is different to the input size (torch.Size([2, 1])). This will likely lead to incorrect results due to broadcasting. Please ensure they have the same size.\n",
      "  return F.l1_loss(input, target, reduction=self.reduction)\n",
      "Epoch [1/50]: 100%|█████████▉| 592/593 [00:01<00:00, 342.29it/s, loss=1.11]/Users/luis/uni/adl4cv/adl4cv/.venv/lib/python3.12/site-packages/torch/nn/modules/loss.py:101: UserWarning: Using a target size (torch.Size([1])) that is different to the input size (torch.Size([1, 1])). This will likely lead to incorrect results due to broadcasting. Please ensure they have the same size.\n",
      "  return F.l1_loss(input, target, reduction=self.reduction)\n",
      "                                                                                \r"
     ]
    },
    {
     "name": "stdout",
     "output_type": "stream",
     "text": [
      "Checkpoint saved: models/model_epoch_49.pth\n"
     ]
    },
    {
     "data": {
      "text/html": [
       "<style>\n",
       "    table.wandb td:nth-child(1) { padding: 0 10px; text-align: left ; width: auto;} td:nth-child(2) {text-align: left ; width: 100%}\n",
       "    .wandb-row { display: flex; flex-direction: row; flex-wrap: wrap; justify-content: flex-start; width: 100% }\n",
       "    .wandb-col { display: flex; flex-direction: column; flex-basis: 100%; flex: 1; padding: 10px; }\n",
       "    </style>\n",
       "<div class=\"wandb-row\"><div class=\"wandb-col\"><h3>Run history:</h3><br/><table class=\"wandb\"><tr><td>batch</td><td>▄▃▅▇▂▄▆▁▃▅█▂▅▇▆█▃▅▇▂▄▆▁▃▅█▂▁▄▆█▃▅▇▂▄▆▁▃▅</td></tr><tr><td>epoch</td><td>▁▁▁▁▂▂▂▂▂▃▃▃▃▃▃▄▄▄▄▄▅▅▅▅▅▅▆▆▆▆▆▇▇▇▇▇▇███</td></tr><tr><td>loss</td><td>█▇▄▂▁▁▁▁▁▁▁▁▁▁▁▁▁▁▁▁▁▁▁▁▁▁▁▁▁▁▁▁▁▁▁▁▁▁▁▁</td></tr><tr><td>lr</td><td>▂▃▅▆██████▇▇▇▇▇▆▆▆▆▅▅▅▄▄▄▃▃▃▃▂▂▂▂▂▁▁▁▁▁▁</td></tr></table><br/></div><div class=\"wandb-col\"><h3>Run summary:</h3><br/><table class=\"wandb\"><tr><td>batch</td><td>593</td></tr><tr><td>epoch</td><td>49</td></tr><tr><td>loss</td><td>6e-05</td></tr><tr><td>lr</td><td>0.0</td></tr></table><br/></div></div>"
      ],
      "text/plain": [
       "<IPython.core.display.HTML object>"
      ]
     },
     "metadata": {},
     "output_type": "display_data"
    },
    {
     "data": {
      "text/html": [
       " View run <strong style=\"color:#cdcd00\">run-2024-05-24-11-42-39</strong> at: <a href='https://wandb.ai/adl-for-cv/autoencoder/runs/jm0z1pq6' target=\"_blank\">https://wandb.ai/adl-for-cv/autoencoder/runs/jm0z1pq6</a><br/> View project at: <a href='https://wandb.ai/adl-for-cv/autoencoder' target=\"_blank\">https://wandb.ai/adl-for-cv/autoencoder</a><br/>Synced 5 W&B file(s), 0 media file(s), 0 artifact file(s) and 0 other file(s)"
      ],
      "text/plain": [
       "<IPython.core.display.HTML object>"
      ]
     },
     "metadata": {},
     "output_type": "display_data"
    },
    {
     "data": {
      "text/html": [
       "Find logs at: <code>./wandb/run-20240524_120208-jm0z1pq6/logs</code>"
      ],
      "text/plain": [
       "<IPython.core.display.HTML object>"
      ]
     },
     "metadata": {},
     "output_type": "display_data"
    }
   ],
   "source": [
    "from training.training_autoencoder import train_model, TrainingConfig\n",
    "\n",
    "from torch import nn\n",
    "from torch.nn import MSELoss, CrossEntropyLoss, L1Loss\n",
    "from torch.utils.data import DataLoader\n",
    "\n",
    "\n",
    "batch_size = 2\n",
    "train_dataloader = DataLoader(dataset_flatten[0][0], batch_size=batch_size, shuffle=True)\n",
    "test_dataloader = train_dataloader#DataLoader([test_dataset[0][0][0]], batch_size=1, shuffle=True)\n",
    "\n",
    "train_config = TrainingConfig()\n",
    "train_config.max_iters = 50\n",
    "train_config.always_save_checkpoint = True\n",
    "train_config.weight_decay = 0.0\n",
    "train_config.learning_rate = 1e-3\n",
    "train_config.lr_decay_iters = int(train_config.max_iters*train_dataset[0][0].size()[0]/batch_size)\n",
    "train_config.warmup_iters = int(0.1*train_config.max_iters*train_dataset[0][0].size()[0]/batch_size)\n",
    "train_config.log_interval = 1\n",
    "\n",
    "class AutoencoderLoss(nn.Module):\n",
    "  def __init__(self):\n",
    "    super().__init__()\n",
    "    self.mse = L1Loss()\n",
    "    self.ce = CrossEntropyLoss()\n",
    "\n",
    "  def forward(self, pred, true):\n",
    "    # take first column of pred and true and compare them with mse\n",
    "    x_pred = pred[:, :1]\n",
    "    x_true = true[:, :1]\n",
    "\n",
    "    mse_loss = self.mse(x_pred, x_true)\n",
    "\n",
    "\n",
    "    # compare one hot encoding (eg feature 1, 2, 3) with cross entropy loss\n",
    "    layer_pred = pred[:, 1:4]\n",
    "    layer_true = true[:, 1:4]\n",
    "    ce_loss = self.ce(layer_pred, layer_true)\n",
    "\n",
    "    # compare bias flag\n",
    "    bias_pred = pred[:, 4]\n",
    "    bias_true = true[:, 4]\n",
    "    bias_loss = self.ce(bias_pred, bias_true)\n",
    "\n",
    "    return mse_loss + ce_loss + bias_loss\n",
    "\n",
    "ae_trained = train_model(train_config, ae_config, train_dataloader, test_dataloader, L1Loss())"
   ]
  },
  {
   "cell_type": "code",
   "execution_count": 60,
   "metadata": {},
   "outputs": [
    {
     "data": {
      "text/plain": [
       "'\\nPATH = \"./models/model_epoch_499.pth\"\\nae_trained = RQAutoencoder(ae_config)\\nae_trained.load_state_dict(torch.load(PATH)[\"model_state_dict\"])'"
      ]
     },
     "execution_count": 60,
     "metadata": {},
     "output_type": "execute_result"
    }
   ],
   "source": [
    "\"\"\"\n",
    "PATH = \"./models/model_epoch_499.pth\"\n",
    "ae_trained = RQAutoencoder(ae_config)\n",
    "ae_trained.load_state_dict(torch.load(PATH)[\"model_state_dict\"])\"\"\"\n"
   ]
  },
  {
   "cell_type": "code",
   "execution_count": 78,
   "metadata": {},
   "outputs": [
    {
     "data": {
      "text/plain": [
       "tensor([[-0.0041],\n",
       "        [ 0.0303],\n",
       "        [ 0.0380],\n",
       "        ...,\n",
       "        [-0.1311],\n",
       "        [ 0.1318],\n",
       "        [-0.1846]])"
      ]
     },
     "execution_count": 78,
     "metadata": {},
     "output_type": "execute_result"
    }
   ],
   "source": [
    "dataset_flatten[0][0]\n"
   ]
  },
  {
   "cell_type": "code",
   "execution_count": 79,
   "metadata": {},
   "outputs": [
    {
     "data": {
      "text/plain": [
       "tensor([[-0.0041],\n",
       "        [ 0.0302],\n",
       "        [ 0.0379],\n",
       "        ...,\n",
       "        [-0.1308],\n",
       "        [ 0.1315],\n",
       "        [-0.1842]], grad_fn=<AddmmBackward0>)"
      ]
     },
     "execution_count": 79,
     "metadata": {},
     "output_type": "execute_result"
    }
   ],
   "source": [
    "ae_trained(dataset_flatten[0][0])"
   ]
  },
  {
   "cell_type": "code",
   "execution_count": 100,
   "metadata": {},
   "outputs": [
    {
     "data": {
      "image/png": "[encoded data removed]",
      "text/plain": [
       "<Figure size 1000x1000 with 2 Axes>"
      ]
     },
     "metadata": {},
     "output_type": "display_data"
    }
   ],
   "source": [
    "def backtransform_weights(flattened_weights, original_weights_dict):\n",
    "    reconstructed_dict = OrderedDict()\n",
    "    start = 0\n",
    "    for key, tensor in original_weights_dict.items():\n",
    "        # Get the number of elements in the tensor\n",
    "        num_elements = tensor.numel()\n",
    "        # Get the slice of the flattened weights corresponding to this tensor\n",
    "        flattened_slice = flattened_weights[start:start + num_elements]\n",
    "        # Reshape the slice to the shape of the original tensor\n",
    "        reconstructed_tensor = flattened_slice.view(tensor.shape)\n",
    "        # Add to the reconstructed dictionary\n",
    "        reconstructed_dict[key] = reconstructed_tensor\n",
    "        # Update the start index for the next slice\n",
    "        start += num_elements\n",
    "    \n",
    "    return reconstructed_dict\n",
    "\n",
    "\n",
    "idx = 4\n",
    "dataset_ele = dataset_no_transform[idx][0]\n",
    "dataset_ele_flattened= ae_trained(dataset_flatten[idx][0])\n",
    "\n",
    "reconstructed_dict = backtransform_weights(dataset_ele_flattened, dataset_ele)\n",
    "\n",
    "from typing import List, Tuple, Union\n",
    "\n",
    "import numpy as np\n",
    "import torch\n",
    "\n",
    "def make_coordinates(\n",
    "    shape: Union[Tuple[int], List[int]],\n",
    "    bs: int,\n",
    "    coord_range: Union[Tuple[int], List[int]] = (-1, 1),\n",
    ") -> torch.Tensor:\n",
    "    x_coordinates = np.linspace(coord_range[0], coord_range[1], shape[0])\n",
    "    y_coordinates = np.linspace(coord_range[0], coord_range[1], shape[1])\n",
    "    x_coordinates, y_coordinates = np.meshgrid(x_coordinates, y_coordinates)\n",
    "    x_coordinates = x_coordinates.flatten()\n",
    "    y_coordinates = y_coordinates.flatten()\n",
    "    coordinates = np.stack([x_coordinates, y_coordinates]).T\n",
    "    coordinates = np.repeat(coordinates[np.newaxis, ...], bs, axis=0)\n",
    "    return torch.from_numpy(coordinates).type(torch.float)\n",
    "\n",
    "\n",
    "inr_kwargs={\"n_layers\": 3, \"in_dim\": 2, \"up_scale\": 16}\n",
    "image_size=(28, 28)\n",
    "\n",
    "inr = INR(**inr_kwargs)\n",
    "inr.load_state_dict(reconstructed_dict)\n",
    "inr.eval()\n",
    "input = make_coordinates(image_size, 1)\n",
    "with torch.no_grad():\n",
    "    image = inr(input)\n",
    "    image = image.view(*image_size, -1)\n",
    "    image = image.permute(2, 0, 1)\n",
    "\n",
    "tensor = image.squeeze(0)\n",
    "\n",
    "# Plotting the tensor as a heatmap in grayscale\n",
    "plt.figure(figsize=(10, 10))\n",
    "plt.imshow(tensor, cmap='gray', aspect='auto')\n",
    "plt.colorbar()\n",
    "plt.title('Tensor Visualization in Grayscale')\n",
    "plt.xlabel('X-axis')\n",
    "plt.ylabel('Y-axis')\n",
    "plt.show()\n"
   ]
  },
  {
   "cell_type": "code",
   "execution_count": 87,
   "metadata": {},
   "outputs": [
    {
     "name": "stdout",
     "output_type": "stream",
     "text": [
      "seq.0.weight torch.Size([32, 2])\n",
      "seq.0.bias torch.Size([32])\n",
      "seq.1.weight torch.Size([32, 32])\n",
      "seq.1.bias torch.Size([32])\n",
      "seq.2.weight torch.Size([1, 32])\n",
      "seq.2.bias torch.Size([1])\n"
     ]
    }
   ],
   "source": [
    "data_element = dataset_no_transform[0][0]\n",
    "\n",
    "for key in data_element.keys():\n",
    "    print(key, data_element[key].size())"
   ]
  },
  {
   "cell_type": "code",
   "execution_count": null,
   "metadata": {},
   "outputs": [
    {
     "name": "stdout",
     "output_type": "stream",
     "text": [
      "tensor([-0.0041,  0.0303,  0.0380,  ..., -0.1311,  0.1318, -0.1846])\n",
      "tensor([-0.0041,  0.0303,  0.0380,  ..., -0.1311,  0.1318, -0.1846])\n"
     ]
    }
   ],
   "source": [
    "\n",
    "import numpy as np\n",
    "\n",
    "state_dict = data_element\n",
    "\n",
    "weights = []\n",
    "shapes = []\n",
    "for weight in state_dict:\n",
    "    shapes.append(np.prod(state_dict[weight].shape))\n",
    "    weights.append(state_dict[weight].flatten().cpu())\n",
    "\n",
    "weights = torch.hstack(weights)\n",
    "prev_weights = weights.clone()\n",
    "\n",
    "print(weights)\n",
    "print(prev_weights)"
   ]
  },
  {
   "cell_type": "code",
   "execution_count": null,
   "metadata": {},
   "outputs": [
    {
     "data": {
      "text/plain": [
       "torch.Size([1, 200])"
      ]
     },
     "execution_count": 133,
     "metadata": {},
     "output_type": "execute_result"
    }
   ],
   "source": [
    "import torch\n",
    "import rff\n",
    "\n",
    "X = torch.Tensor(range(0, 10)).unsqueeze(0)\n",
    "encoding = rff.layers.PositionalEncoding(sigma=1.0, m=10)\n",
    "Xp = encoding(X)\n",
    "Xp.size()"
   ]
  },
  {
   "cell_type": "code",
   "execution_count": null,
   "metadata": {},
   "outputs": [],
   "source": []
  }
 ],
 "metadata": {
  "kernelspec": {
   "display_name": ".venv",
   "language": "python",
   "name": "python3"
  },
  "language_info": {
   "codemirror_mode": {
    "name": "ipython",
    "version": 3
   },
   "file_extension": ".py",
   "mimetype": "text/x-python",
   "name": "python",
   "nbconvert_exporter": "python",
   "pygments_lexer": "ipython3",
   "version": "3.12.3"
  }
 },
 "nbformat": 4,
 "nbformat_minor": 2
}
