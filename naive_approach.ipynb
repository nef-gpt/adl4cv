{
 "cells": [
  {
   "cell_type": "code",
   "execution_count": 1,
   "metadata": {},
   "outputs": [],
   "source": [
    "# Enable autoreload of module\n",
    "%load_ext autoreload\n",
    "%autoreload 2"
   ]
  },
  {
   "cell_type": "code",
   "execution_count": 2,
   "metadata": {},
   "outputs": [
    {
     "name": "stdout",
     "output_type": "stream",
     "text": [
      "3.10.14 (main, May 26 2024, 13:34:58) [GCC 13.2.1 20230801]\n"
     ]
    }
   ],
   "source": [
    "# log python version\n",
    "import sys\n",
    "print(sys.version)"
   ]
  },
  {
   "cell_type": "code",
   "execution_count": 3,
   "metadata": {},
   "outputs": [
    {
     "name": "stderr",
     "output_type": "stream",
     "text": [
      "/home/luca/.cache/pypoetry/virtualenvs/adl4cv-OvNqwVNf-py3.10/lib/python3.10/site-packages/tqdm/auto.py:21: TqdmWarning: IProgress not found. Please update jupyter and ipywidgets. See https://ipywidgets.readthedocs.io/en/stable/user_install.html\n",
      "  from .autonotebook import tqdm as notebook_tqdm\n"
     ]
    }
   ],
   "source": [
    "from training import naive_approach\n",
    "from networks.regression_transformer import RegressionTransformerConfig, RegressionTransformer\n",
    "from data.neural_field_datasets import DWSNetsDataset, FlattenTransform, MinMaxTransform\n",
    "\n",
    "import os\n",
    "import torch\n",
    "import torchinfo"
   ]
  },
  {
   "cell_type": "code",
   "execution_count": 4,
   "metadata": {},
   "outputs": [
    {
     "data": {
      "text/plain": [
       "True"
      ]
     },
     "execution_count": 4,
     "metadata": {},
     "output_type": "execute_result"
    }
   ],
   "source": [
    "torch.cuda.is_available()"
   ]
  },
  {
   "cell_type": "code",
   "execution_count": 18,
   "metadata": {},
   "outputs": [],
   "source": [
    "# Config Training\n",
    "config = naive_approach.Config()\n",
    "config.learning_rate=5e-4\n",
    "config.max_iters = 10000\n",
    "config.weight_decay=0\n",
    "config.decay_lr=True\n",
    "config.lr_decay_iters=10000\n",
    "config.warmup_iters=0.1*config.max_iters\n",
    "config.batch_size = 1\n",
    "\n",
    "# Config Transforemer\n",
    "model_config = RegressionTransformerConfig(n_embd=16, block_size=1184, n_head=4, n_layer=8)"
   ]
  },
  {
   "cell_type": "code",
   "execution_count": 19,
   "metadata": {},
   "outputs": [],
   "source": [
    "# Dataloading\n",
    "dir_path = os.path.dirname(os.path.abspath(os.getcwd()))\n",
    "data_root = os.path.join(dir_path, \"adl4cv\", \"datasets\", \"DWSNets\", \"mnist-inrs\")\n",
    "\n",
    "class FlattenMinMaxTransform(torch.nn.Module):\n",
    "  def __init__(self):\n",
    "    super().__init__()\n",
    "    self.flatten = FlattenTransform()\n",
    "    self.minmax = MinMaxTransform()\n",
    "\n",
    "  def forward(self, x, y):\n",
    "    x, _ = self.flatten(x, y)\n",
    "    x, _ = self.minmax(x, y)\n",
    "    return x, y\n",
    "\n",
    "\n",
    "dataset = DWSNetsDataset(data_root, transform=FlattenMinMaxTransform())\n",
    "dataset_wo_min_max = DWSNetsDataset(data_root, transform=FlattenTransform())\n",
    "dataset_no_transform = DWSNetsDataset(data_root)"
   ]
  },
  {
   "cell_type": "code",
   "execution_count": 31,
   "metadata": {},
   "outputs": [],
   "source": [
    "# sample = dataset[0][0]\n",
    "\n",
    "# take first n samples that have label == 1 (where label is second entry of dataset object)\n",
    "n = 2\n",
    "samples = [(i, dataset[i][0]) for i in range(len(dataset)) if dataset[i][1] == 1][:n]\n",
    "\n",
    "\n",
    "def get_batch(split: str):\n",
    "    # let's get a batch with the single element\n",
    "    # y should be the same shifted by 1\n",
    "    ix = torch.zeros(config.batch_size, dtype=torch.int)\n",
    "    #torch.randint(torch.numel(flattened) - model_config.block_size, (config.batch_size,))\n",
    "\n",
    "    # randomly select a sample (0...n-1)\n",
    "    sample = samples[torch.randint(0, n, (1,))]\n",
    "\n",
    "    x = torch.stack(\n",
    "        [sample[i : i + model_config.block_size] for i in ix]\n",
    "    )\n",
    "    y = torch.stack(\n",
    "        [sample[i + 1 : i + 1 + model_config.block_size] for i in ix]\n",
    "    )\n",
    "\n",
    "    # x and y have to be (1, *, 1)\n",
    "    x = x.unsqueeze(-1).to(config.device)\n",
    "    y = y.unsqueeze(-1).to(config.device)\n",
    "    return x, y"
   ]
  },
  {
   "cell_type": "code",
   "execution_count": 32,
   "metadata": {},
   "outputs": [
    {
     "data": {
      "text/plain": [
       "(tensor([[[0.3774],\n",
       "          [0.8691],\n",
       "          [1.3730],\n",
       "          ...,\n",
       "          [0.9280],\n",
       "          [2.2212],\n",
       "          [0.8233]]], device='cuda:0', grad_fn=<UnsafeViewBackward0>),\n",
       " tensor(0.5363, device='cuda:0', grad_fn=<MeanBackward0>))"
      ]
     },
     "execution_count": 32,
     "metadata": {},
     "output_type": "execute_result"
    }
   ],
   "source": [
    "X, Y = get_batch(\"\")\n",
    "\n",
    "model = RegressionTransformer(model_config).to(config.device)\n",
    "\n",
    "model(X, Y)"
   ]
  },
  {
   "cell_type": "code",
   "execution_count": 33,
   "metadata": {},
   "outputs": [
    {
     "name": "stdout",
     "output_type": "stream",
     "text": [
      "Initializing a new model from scratch\n",
      "num decayed parameter tensors: 35, with 43,552 parameters\n",
      "num non-decayed parameter tensors: 67, with 1,712 parameters\n",
      "using fused AdamW: True\n"
     ]
    },
    {
     "data": {
      "text/html": [
       "Finishing last run (ID:tqq7nfdo) before initializing another..."
      ],
      "text/plain": [
       "<IPython.core.display.HTML object>"
      ]
     },
     "metadata": {},
     "output_type": "display_data"
    },
    {
     "data": {
      "text/html": [
       "<style>\n",
       "    table.wandb td:nth-child(1) { padding: 0 10px; text-align: left ; width: auto;} td:nth-child(2) {text-align: left ; width: 100%}\n",
       "    .wandb-row { display: flex; flex-direction: row; flex-wrap: wrap; justify-content: flex-start; width: 100% }\n",
       "    .wandb-col { display: flex; flex-direction: column; flex-basis: 100%; flex: 1; padding: 10px; }\n",
       "    </style>\n",
       "<div class=\"wandb-row\"><div class=\"wandb-col\"><h3>Run history:</h3><br/><table class=\"wandb\"><tr><td>iter</td><td>▁▁▁▁▂▂▂▂▂▃▃▃▃▃▃▄▄▄▄▄▅▅▅▅▅▅▆▆▆▆▆▇▇▇▇▇▇███</td></tr><tr><td>lr</td><td>▁▂▅▆███████▇▇▇▇▇▆▆▆▆▅▅▅▅▄▄▄▃▃▃▃▃▂▂▂▂▂▂▂▂</td></tr><tr><td>mfu</td><td>▁▁▁▁▁▁▁▁▁▁▁▁▁▁▁▁▁▁▁▁▁▁▁▁▁▁▁▁▁▁▁▁▁▁▁▁▁▁▁▁</td></tr><tr><td>train/loss</td><td>█▂▁▁▁▁▁▁▁▁▁▁▁▁▁▁▁▁▁▁▁▁▁▁▁▁▁▁▁▁▁▁▁▁▁▁▁▁▁▁</td></tr><tr><td>val/loss</td><td>█▂▁▁▁▁▁▁▁▁▁▁▁▁▁▁▁▁▁▁▁▁▁▁▁▁▁▁▁▁▁▁▁▁▁▁▁▁▁▁</td></tr></table><br/></div><div class=\"wandb-col\"><h3>Run summary:</h3><br/><table class=\"wandb\"><tr><td>iter</td><td>10000</td></tr><tr><td>lr</td><td>6e-05</td></tr><tr><td>mfu</td><td>-100.0</td></tr><tr><td>train/loss</td><td>0.01647</td></tr><tr><td>val/loss</td><td>0.01716</td></tr></table><br/></div></div>"
      ],
      "text/plain": [
       "<IPython.core.display.HTML object>"
      ]
     },
     "metadata": {},
     "output_type": "display_data"
    },
    {
     "data": {
      "text/html": [
       " View run <strong style=\"color:#cdcd00\">run-2024-05-26-14-35-08</strong> at: <a href='https://wandb.ai/adl-for-cv/regression-transformer/runs/tqq7nfdo' target=\"_blank\">https://wandb.ai/adl-for-cv/regression-transformer/runs/tqq7nfdo</a><br/> View project at: <a href='https://wandb.ai/adl-for-cv/regression-transformer' target=\"_blank\">https://wandb.ai/adl-for-cv/regression-transformer</a><br/>Synced 5 W&B file(s), 0 media file(s), 0 artifact file(s) and 0 other file(s)"
      ],
      "text/plain": [
       "<IPython.core.display.HTML object>"
      ]
     },
     "metadata": {},
     "output_type": "display_data"
    },
    {
     "data": {
      "text/html": [
       "Find logs at: <code>./wandb/run-20240526_144711-tqq7nfdo/logs</code>"
      ],
      "text/plain": [
       "<IPython.core.display.HTML object>"
      ]
     },
     "metadata": {},
     "output_type": "display_data"
    },
    {
     "data": {
      "text/html": [
       "Successfully finished last run (ID:tqq7nfdo). Initializing new run:<br/>"
      ],
      "text/plain": [
       "<IPython.core.display.HTML object>"
      ]
     },
     "metadata": {},
     "output_type": "display_data"
    },
    {
     "data": {
      "text/html": [
       "wandb version 0.17.0 is available!  To upgrade, please run:\n",
       " $ pip install wandb --upgrade"
      ],
      "text/plain": [
       "<IPython.core.display.HTML object>"
      ]
     },
     "metadata": {},
     "output_type": "display_data"
    },
    {
     "data": {
      "text/html": [
       "Tracking run with wandb version 0.16.6"
      ],
      "text/plain": [
       "<IPython.core.display.HTML object>"
      ]
     },
     "metadata": {},
     "output_type": "display_data"
    },
    {
     "data": {
      "text/html": [
       "Run data is saved locally in <code>/home/luca/uni/master/adl4cv/wandb/run-20240526_145626-0ozvizh9</code>"
      ],
      "text/plain": [
       "<IPython.core.display.HTML object>"
      ]
     },
     "metadata": {},
     "output_type": "display_data"
    },
    {
     "data": {
      "text/html": [
       "Syncing run <strong><a href='https://wandb.ai/adl-for-cv/regression-transformer/runs/0ozvizh9' target=\"_blank\">run-2024-05-26-14-35-08</a></strong> to <a href='https://wandb.ai/adl-for-cv/regression-transformer' target=\"_blank\">Weights & Biases</a> (<a href='https://wandb.me/run' target=\"_blank\">docs</a>)<br/>"
      ],
      "text/plain": [
       "<IPython.core.display.HTML object>"
      ]
     },
     "metadata": {},
     "output_type": "display_data"
    },
    {
     "data": {
      "text/html": [
       " View project at <a href='https://wandb.ai/adl-for-cv/regression-transformer' target=\"_blank\">https://wandb.ai/adl-for-cv/regression-transformer</a>"
      ],
      "text/plain": [
       "<IPython.core.display.HTML object>"
      ]
     },
     "metadata": {},
     "output_type": "display_data"
    },
    {
     "data": {
      "text/html": [
       " View run at <a href='https://wandb.ai/adl-for-cv/regression-transformer/runs/0ozvizh9' target=\"_blank\">https://wandb.ai/adl-for-cv/regression-transformer/runs/0ozvizh9</a>"
      ],
      "text/plain": [
       "<IPython.core.display.HTML object>"
      ]
     },
     "metadata": {},
     "output_type": "display_data"
    },
    {
     "name": "stdout",
     "output_type": "stream",
     "text": [
      "step 0: train loss 0.4808, val loss 0.4810\n",
      "step 100: train loss 0.3436, val loss 0.3433\n",
      "saving checkpoint to models\n",
      "step 200: train loss 0.1125, val loss 0.1125\n",
      "saving checkpoint to models\n",
      "step 300: train loss 0.0245, val loss 0.0242\n",
      "saving checkpoint to models\n",
      "step 400: train loss 0.0181, val loss 0.0182\n",
      "saving checkpoint to models\n",
      "step 500: train loss 0.0170, val loss 0.0170\n",
      "saving checkpoint to models\n",
      "step 600: train loss 0.0169, val loss 0.0165\n",
      "saving checkpoint to models\n",
      "step 700: train loss 0.0166, val loss 0.0166\n",
      "step 800: train loss 0.0151, val loss 0.0152\n",
      "saving checkpoint to models\n",
      "step 900: train loss 0.0179, val loss 0.0178\n",
      "step 1000: train loss 0.0150, val loss 0.0155\n",
      "step 1100: train loss 0.0141, val loss 0.0142\n",
      "saving checkpoint to models\n",
      "step 1200: train loss 0.0138, val loss 0.0137\n",
      "saving checkpoint to models\n",
      "step 1300: train loss 0.0132, val loss 0.0131\n",
      "saving checkpoint to models\n",
      "step 1400: train loss 0.0129, val loss 0.0130\n",
      "saving checkpoint to models\n",
      "step 1500: train loss 0.0129, val loss 0.0129\n",
      "saving checkpoint to models\n",
      "step 1600: train loss 0.0136, val loss 0.0137\n",
      "step 1700: train loss 0.0132, val loss 0.0132\n",
      "step 1800: train loss 0.0122, val loss 0.0122\n",
      "saving checkpoint to models\n",
      "step 1900: train loss 0.0122, val loss 0.0120\n",
      "saving checkpoint to models\n",
      "step 2000: train loss 0.0123, val loss 0.0124\n",
      "step 2100: train loss 0.0121, val loss 0.0125\n",
      "step 2200: train loss 0.0137, val loss 0.0138\n",
      "step 2300: train loss 0.0122, val loss 0.0122\n",
      "step 2400: train loss 0.0124, val loss 0.0124\n",
      "step 2500: train loss 0.0121, val loss 0.0121\n",
      "step 2600: train loss 0.0119, val loss 0.0120\n",
      "saving checkpoint to models\n",
      "step 2700: train loss 0.0127, val loss 0.0126\n",
      "step 2800: train loss 0.0118, val loss 0.0120\n",
      "step 2900: train loss 0.0121, val loss 0.0121\n",
      "step 3000: train loss 0.0122, val loss 0.0122\n",
      "step 3100: train loss 0.0116, val loss 0.0118\n",
      "saving checkpoint to models\n",
      "step 3200: train loss 0.0110, val loss 0.0121\n",
      "step 3300: train loss 0.0117, val loss 0.0119\n",
      "step 3400: train loss 0.0119, val loss 0.0118\n",
      "saving checkpoint to models\n",
      "step 3500: train loss 0.0112, val loss 0.0119\n",
      "step 3600: train loss 0.0121, val loss 0.0123\n",
      "step 3700: train loss 0.0119, val loss 0.0123\n",
      "step 3800: train loss 0.0124, val loss 0.0120\n",
      "step 3900: train loss 0.0118, val loss 0.0126\n",
      "step 4000: train loss 0.0118, val loss 0.0118\n",
      "step 4100: train loss 0.0120, val loss 0.0116\n",
      "saving checkpoint to models\n",
      "step 4200: train loss 0.0116, val loss 0.0112\n",
      "saving checkpoint to models\n",
      "step 4300: train loss 0.0126, val loss 0.0120\n",
      "step 4400: train loss 0.0106, val loss 0.0124\n",
      "step 4500: train loss 0.0114, val loss 0.0123\n",
      "step 4600: train loss 0.0116, val loss 0.0114\n",
      "step 4700: train loss 0.0115, val loss 0.0118\n",
      "step 4800: train loss 0.0109, val loss 0.0109\n",
      "saving checkpoint to models\n",
      "step 4900: train loss 0.0109, val loss 0.0109\n",
      "saving checkpoint to models\n",
      "step 5000: train loss 0.0110, val loss 0.0099\n",
      "saving checkpoint to models\n",
      "step 5100: train loss 0.0110, val loss 0.0125\n",
      "step 5200: train loss 0.0110, val loss 0.0110\n",
      "step 5300: train loss 0.0110, val loss 0.0108\n",
      "step 5400: train loss 0.0122, val loss 0.0120\n",
      "step 5500: train loss 0.0108, val loss 0.0110\n",
      "step 5600: train loss 0.0106, val loss 0.0104\n",
      "step 5700: train loss 0.0106, val loss 0.0105\n",
      "step 5800: train loss 0.0105, val loss 0.0108\n",
      "step 5900: train loss 0.0102, val loss 0.0107\n",
      "step 6000: train loss 0.0102, val loss 0.0102\n",
      "step 6100: train loss 0.0102, val loss 0.0103\n",
      "step 6200: train loss 0.0105, val loss 0.0104\n",
      "step 6300: train loss 0.0095, val loss 0.0094\n",
      "saving checkpoint to models\n",
      "step 6400: train loss 0.0094, val loss 0.0095\n",
      "step 6500: train loss 0.0093, val loss 0.0093\n",
      "saving checkpoint to models\n",
      "step 6600: train loss 0.0093, val loss 0.0091\n",
      "saving checkpoint to models\n",
      "step 6700: train loss 0.0088, val loss 0.0088\n",
      "saving checkpoint to models\n",
      "step 6800: train loss 0.0093, val loss 0.0089\n",
      "step 6900: train loss 0.0089, val loss 0.0089\n",
      "step 7000: train loss 0.0090, val loss 0.0084\n",
      "saving checkpoint to models\n",
      "step 7100: train loss 0.0082, val loss 0.0084\n",
      "saving checkpoint to models\n",
      "step 7200: train loss 0.0088, val loss 0.0082\n",
      "saving checkpoint to models\n",
      "step 7300: train loss 0.0081, val loss 0.0093\n",
      "step 7400: train loss 0.0078, val loss 0.0082\n",
      "saving checkpoint to models\n",
      "step 7500: train loss 0.0077, val loss 0.0085\n",
      "step 7600: train loss 0.0078, val loss 0.0079\n",
      "saving checkpoint to models\n",
      "step 7700: train loss 0.0079, val loss 0.0080\n",
      "step 7800: train loss 0.0082, val loss 0.0082\n",
      "step 7900: train loss 0.0067, val loss 0.0074\n",
      "saving checkpoint to models\n",
      "step 8000: train loss 0.0074, val loss 0.0082\n",
      "step 8100: train loss 0.0077, val loss 0.0070\n",
      "saving checkpoint to models\n",
      "step 8200: train loss 0.0076, val loss 0.0078\n",
      "step 8300: train loss 0.0075, val loss 0.0070\n",
      "step 8400: train loss 0.0072, val loss 0.0079\n",
      "step 8500: train loss 0.0074, val loss 0.0069\n",
      "saving checkpoint to models\n",
      "step 8600: train loss 0.0073, val loss 0.0069\n",
      "step 8700: train loss 0.0069, val loss 0.0074\n",
      "step 8800: train loss 0.0064, val loss 0.0066\n",
      "saving checkpoint to models\n",
      "step 8900: train loss 0.0067, val loss 0.0072\n",
      "step 9000: train loss 0.0071, val loss 0.0075\n",
      "step 9100: train loss 0.0064, val loss 0.0072\n",
      "step 9200: train loss 0.0072, val loss 0.0070\n",
      "step 9300: train loss 0.0062, val loss 0.0075\n",
      "step 9400: train loss 0.0067, val loss 0.0073\n",
      "step 9500: train loss 0.0074, val loss 0.0070\n",
      "step 9600: train loss 0.0069, val loss 0.0061\n",
      "saving checkpoint to models\n",
      "step 9700: train loss 0.0068, val loss 0.0062\n",
      "step 9800: train loss 0.0061, val loss 0.0067\n",
      "step 9900: train loss 0.0063, val loss 0.0059\n",
      "saving checkpoint to models\n",
      "step 10000: train loss 0.0061, val loss 0.0069\n"
     ]
    }
   ],
   "source": [
    "# Prepeare model parameters and train\n",
    "naive_approach.train(get_batch, config, model_config)"
   ]
  },
  {
   "cell_type": "code",
   "execution_count": 34,
   "metadata": {},
   "outputs": [],
   "source": [
    "PATH = \"./models/ckpt.pt\"\n",
    "model = RegressionTransformer(model_config).to(config.device)\n",
    "model.load_state_dict(torch.load(PATH)[\"model\"])\n",
    "\n",
    "pred, loss = model(X, Y)\n"
   ]
  },
  {
   "cell_type": "code",
   "execution_count": 35,
   "metadata": {},
   "outputs": [
    {
     "name": "stdout",
     "output_type": "stream",
     "text": [
      "64\n",
      "torch.Size([64, 1])\n",
      "32\n",
      "torch.Size([32, 1])\n",
      "1024\n",
      "torch.Size([1024, 1])\n",
      "32\n",
      "torch.Size([32, 1])\n",
      "32\n",
      "torch.Size([32, 1])\n",
      "1\n",
      "torch.Size([1, 1])\n"
     ]
    },
    {
     "data": {
      "image/png": "[encoded data removed]",
      "text/plain": [
       "<Figure size 2000x1000 with 4 Axes>"
      ]
     },
     "metadata": {},
     "output_type": "display_data"
    }
   ],
   "source": [
    "import matplotlib.pyplot as plt\n",
    "import torch\n",
    "import numpy as np\n",
    "from collections import OrderedDict\n",
    "from typing import List, Tuple, Union\n",
    "from torch import nn\n",
    "from networks.INR import INR\n",
    "\n",
    "# Assuming the following classes and functions are defined elsewhere:\n",
    "# - INR\n",
    "# - dataset_no_transform\n",
    "# - ae_trained\n",
    "# - dataset_flatten\n",
    "\n",
    "\n",
    "class MinMaxTransformer(nn.Module):\n",
    "    def __init__(self, min_value: float = -0.3587, max_value: float = 0.4986):\n",
    "        super().__init__()\n",
    "        self.min_value = min_value\n",
    "        self.max_value = max_value\n",
    "\n",
    "    def forward(self, weights, y):\n",
    "        # Apply min-max normalization\n",
    "        weights = (weights - self.min_value) / (self.max_value - self.min_value)\n",
    "        return weights, y\n",
    "\n",
    "    def reverse(self, normalized_weights):\n",
    "        # Reverse the min-max normalization\n",
    "        original_weights = normalized_weights * (self.max_value - self.min_value) + self.min_value\n",
    "        return original_weights\n",
    "\n",
    "def backtransform_weights(flattened_weights, original_weights_dict):\n",
    "    reconstructed_dict = OrderedDict()\n",
    "    start = 0\n",
    "    for key, tensor in original_weights_dict.items():\n",
    "        num_elements = tensor.numel()\n",
    "        print(num_elements)\n",
    "        flattened_slice = flattened_weights[0, start:start + num_elements]\n",
    "        print(flattened_slice.shape)\n",
    "        reconstructed_tensor = flattened_slice.view(tensor.shape)\n",
    "        reconstructed_dict[key] = reconstructed_tensor\n",
    "        start += num_elements\n",
    "    return reconstructed_dict\n",
    "\n",
    "def make_coordinates(\n",
    "    shape: Union[Tuple[int], List[int]],\n",
    "    bs: int,\n",
    "    coord_range: Union[Tuple[int], List[int]] = (-1, 1),\n",
    ") -> torch.Tensor:\n",
    "    x_coordinates = np.linspace(coord_range[0], coord_range[1], shape[0])\n",
    "    y_coordinates = np.linspace(coord_range[0], coord_range[1], shape[1])\n",
    "    x_coordinates, y_coordinates = np.meshgrid(x_coordinates, y_coordinates)\n",
    "    x_coordinates = x_coordinates.flatten()\n",
    "    y_coordinates = y_coordinates.flatten()\n",
    "    coordinates = np.stack([x_coordinates, y_coordinates]).T\n",
    "    coordinates = np.repeat(coordinates[np.newaxis, ...], bs, axis=0)\n",
    "    return torch.from_numpy(coordinates).type(torch.float)\n",
    "\n",
    "# Configuration\n",
    "inr_kwargs = {\"n_layers\": 3, \"in_dim\": 2, \"up_scale\": 16}\n",
    "image_size = (28, 28)\n",
    "idx = 0\n",
    "# Get dataset elements\n",
    "dataset_ele = dataset_no_transform[idx][0]\n",
    "minmax_transformer = MinMaxTransformer(min_value=-0.3587, max_value=0.4986)\n",
    "dataset_ele_flattened = minmax_transformer.reverse(torch.cat((X[0][0].unsqueeze(0), pred[0])).unsqueeze(0))\n",
    "\n",
    "# Backtransform weights\n",
    "reconstructed_dict = backtransform_weights(dataset_ele_flattened, dataset_ele)\n",
    "\n",
    "# Initialize and load the INR model\n",
    "inr = INR(**inr_kwargs)\n",
    "inr.load_state_dict(reconstructed_dict)\n",
    "inr.eval()\n",
    "\n",
    "# Generate image using the INR model\n",
    "input_coords = make_coordinates(image_size, 1)\n",
    "with torch.no_grad():\n",
    "    reconstructed_image = inr(input_coords)\n",
    "    reconstructed_image = reconstructed_image.view(*image_size, -1)\n",
    "    reconstructed_image = reconstructed_image.permute(2, 0, 1)\n",
    "\n",
    "reconstructed_tensor = reconstructed_image.squeeze(0)\n",
    "\n",
    "# Load ground truth model\n",
    "ground_truth_dict = dataset_ele\n",
    "ground_truth_inr = INR(**inr_kwargs)\n",
    "ground_truth_inr.load_state_dict(ground_truth_dict)\n",
    "ground_truth_inr.eval()\n",
    "\n",
    "# Generate image using the ground truth model\n",
    "with torch.no_grad():\n",
    "    ground_truth_image = ground_truth_inr(input_coords)\n",
    "    ground_truth_image = ground_truth_image.view(*image_size, -1)\n",
    "    ground_truth_image = ground_truth_image.permute(2, 0, 1)\n",
    "\n",
    "ground_truth_tensor = ground_truth_image.squeeze(0)\n",
    "\n",
    "# Plotting the tensors as heatmaps in grayscale\n",
    "fig, axes = plt.subplots(1, 2, figsize=(20, 10))\n",
    "\n",
    "axes[0].imshow(ground_truth_tensor, cmap='gray', aspect='auto')\n",
    "axes[0].set_title('Ground Truth')\n",
    "axes[0].set_xlabel('X-axis')\n",
    "axes[0].set_ylabel('Y-axis')\n",
    "\n",
    "axes[1].imshow(reconstructed_tensor, cmap='gray', aspect='auto')\n",
    "axes[1].set_title('Reconstructed')\n",
    "axes[1].set_xlabel('X-axis')\n",
    "axes[1].set_ylabel('Y-axis')\n",
    "\n",
    "plt.colorbar(axes[0].imshow(ground_truth_tensor, cmap='gray', aspect='auto'), ax=axes[0])\n",
    "plt.colorbar(axes[1].imshow(reconstructed_tensor, cmap='gray', aspect='auto'), ax=axes[1])\n",
    "plt.show()"
   ]
  },
  {
   "cell_type": "code",
   "execution_count": 30,
   "metadata": {},
   "outputs": [
    {
     "data": {
      "text/plain": [
       "tensor([[[0.4271],\n",
       "         [0.4227],\n",
       "         [0.4153],\n",
       "         ...,\n",
       "         [0.4234],\n",
       "         [0.4219],\n",
       "         [0.4152]]], device='cuda:0', grad_fn=<UnsafeViewBackward0>)"
      ]
     },
     "execution_count": 30,
     "metadata": {},
     "output_type": "execute_result"
    }
   ],
   "source": [
    "pred"
   ]
  },
  {
   "cell_type": "code",
   "execution_count": null,
   "metadata": {},
   "outputs": [],
   "source": []
  }
 ],
 "metadata": {
  "kernelspec": {
   "display_name": ".venv",
   "language": "python",
   "name": "python3"
  },
  "language_info": {
   "codemirror_mode": {
    "name": "ipython",
    "version": 3
   },
   "file_extension": ".py",
   "mimetype": "text/x-python",
   "name": "python",
   "nbconvert_exporter": "python",
   "pygments_lexer": "ipython3",
   "version": "3.10.14"
  }
 },
 "nbformat": 4,
 "nbformat_minor": 2
}
