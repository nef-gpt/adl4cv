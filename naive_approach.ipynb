{
 "cells": [
  {
   "cell_type": "code",
   "execution_count": 1,
   "metadata": {},
   "outputs": [],
   "source": [
    "# Enable autoreload of module\n",
    "%load_ext autoreload\n",
    "%autoreload 2"
   ]
  },
  {
   "cell_type": "code",
   "execution_count": 2,
   "metadata": {},
   "outputs": [
    {
     "name": "stderr",
     "output_type": "stream",
     "text": [
      "/Users/luis/uni/adl4cv/adl4cv/.venv/lib/python3.12/site-packages/tqdm/auto.py:21: TqdmWarning: IProgress not found. Please update jupyter and ipywidgets. See https://ipywidgets.readthedocs.io/en/stable/user_install.html\n",
      "  from .autonotebook import tqdm as notebook_tqdm\n"
     ]
    }
   ],
   "source": [
    "from training import naive_approach\n",
    "from networks.regression_transformer import RegressionTransformerConfig, RegressionTransformer\n",
    "from data.DWSNets_dataset import DWSNetsDataset, FlattenTransform, MinMaxTransform\n",
    "\n",
    "import os\n",
    "import torch\n",
    "import torchinfo"
   ]
  },
  {
   "cell_type": "code",
   "execution_count": 3,
   "metadata": {},
   "outputs": [],
   "source": [
    "# Config Training\n",
    "config = naive_approach.Config()\n",
    "config.learning_rate=5e-4\n",
    "config.max_iters = 10000\n",
    "config.weight_decay=0\n",
    "config.decay_lr=True\n",
    "config.lr_decay_iters=10000\n",
    "config.warmup_iters=0.1*config.max_iters\n",
    "config.batch_size = 1\n",
    "\n",
    "# Config Transforemer\n",
    "model_config = RegressionTransformerConfig(n_embd=8, block_size=1184, n_head=4, n_layer=4)"
   ]
  },
  {
   "cell_type": "code",
   "execution_count": 4,
   "metadata": {},
   "outputs": [],
   "source": [
    "# Dataloading\n",
    "dir_path = os.path.dirname(os.path.abspath(os.getcwd()))\n",
    "data_root = os.path.join(dir_path, \"adl4cv\", \"datasets\", \"DWSNets\", \"mnist-inrs\")\n",
    "\n",
    "class FlattenMinMaxTransform(torch.nn.Module):\n",
    "  def __init__(self):\n",
    "    super().__init__()\n",
    "    self.flatten = FlattenTransform()\n",
    "    self.minmax = MinMaxTransform()\n",
    "\n",
    "  def forward(self, x, y):\n",
    "    x, _ = self.flatten(x, y)\n",
    "    x, _ = self.minmax(x, y)\n",
    "    return x, y\n",
    "\n",
    "\n",
    "dataset = DWSNetsDataset(data_root, transform=FlattenMinMaxTransform())\n",
    "dataset_wo_min_max = DWSNetsDataset(data_root, transform=FlattenTransform())\n",
    "dataset_no_transform = DWSNetsDataset(data_root)"
   ]
  },
  {
   "cell_type": "code",
   "execution_count": 6,
   "metadata": {},
   "outputs": [],
   "source": [
    "sample = dataset[0][0]\n",
    "\n",
    "def get_batch(split: str):\n",
    "    # let's get a batch with the single element\n",
    "    # y should be the same shifted by 1\n",
    "    ix = torch.zeros(config.batch_size, dtype=torch.int)\n",
    "    #torch.randint(torch.numel(flattened) - model_config.block_size, (config.batch_size,))\n",
    "\n",
    "    x = torch.stack(\n",
    "        [sample[i : i + model_config.block_size] for i in ix]\n",
    "    )\n",
    "    y = torch.stack(\n",
    "        [sample[i + 1 : i + 1 + model_config.block_size] for i in ix]\n",
    "    )\n",
    "\n",
    "    # x and y have to be (1, *, 1)\n",
    "    x = x.unsqueeze(-1)\n",
    "    y = y.unsqueeze(-1)\n",
    "    return x, y"
   ]
  },
  {
   "cell_type": "code",
   "execution_count": 7,
   "metadata": {},
   "outputs": [],
   "source": [
    "X, Y = get_batch(\"\")\n",
    "\n",
    "model = RegressionTransformer(model_config)\n",
    "logits, loss = model(X, Y)"
   ]
  },
  {
   "cell_type": "code",
   "execution_count": 8,
   "metadata": {},
   "outputs": [
    {
     "name": "stdout",
     "output_type": "stream",
     "text": [
      "Initializing a new model from scratch\n",
      "num decayed parameter tensors: 19, with 12,560 parameters\n",
      "num non-decayed parameter tensors: 35, with 440 parameters\n",
      "using fused AdamW: False\n"
     ]
    },
    {
     "name": "stderr",
     "output_type": "stream",
     "text": [
      "/Users/luis/uni/adl4cv/adl4cv/.venv/lib/python3.12/site-packages/torch/amp/grad_scaler.py:131: UserWarning: torch.cuda.amp.GradScaler is enabled, but CUDA is not available.  Disabling.\n",
      "  warnings.warn(\n",
      "Failed to detect the name of this notebook, you can set it manually with the WANDB_NOTEBOOK_NAME environment variable to enable code saving.\n",
      "\u001b[34m\u001b[1mwandb\u001b[0m: Currently logged in as: \u001b[33mluis-muschal\u001b[0m (\u001b[33madl-for-cv\u001b[0m). Use \u001b[1m`wandb login --relogin`\u001b[0m to force relogin\n"
     ]
    },
    {
     "data": {
      "text/html": [
       "wandb version 0.17.0 is available!  To upgrade, please run:\n",
       " $ pip install wandb --upgrade"
      ],
      "text/plain": [
       "<IPython.core.display.HTML object>"
      ]
     },
     "metadata": {},
     "output_type": "display_data"
    },
    {
     "data": {
      "text/html": [
       "Tracking run with wandb version 0.16.6"
      ],
      "text/plain": [
       "<IPython.core.display.HTML object>"
      ]
     },
     "metadata": {},
     "output_type": "display_data"
    },
    {
     "data": {
      "text/html": [
       "Run data is saved locally in <code>/Users/luis/uni/adl4cv/adl4cv/wandb/run-20240525_154836-clqgw03b</code>"
      ],
      "text/plain": [
       "<IPython.core.display.HTML object>"
      ]
     },
     "metadata": {},
     "output_type": "display_data"
    },
    {
     "data": {
      "text/html": [
       "Syncing run <strong><a href='https://wandb.ai/adl-for-cv/regression-transformer/runs/clqgw03b' target=\"_blank\">run-2024-05-25-15-48-33</a></strong> to <a href='https://wandb.ai/adl-for-cv/regression-transformer' target=\"_blank\">Weights & Biases</a> (<a href='https://wandb.me/run' target=\"_blank\">docs</a>)<br/>"
      ],
      "text/plain": [
       "<IPython.core.display.HTML object>"
      ]
     },
     "metadata": {},
     "output_type": "display_data"
    },
    {
     "data": {
      "text/html": [
       " View project at <a href='https://wandb.ai/adl-for-cv/regression-transformer' target=\"_blank\">https://wandb.ai/adl-for-cv/regression-transformer</a>"
      ],
      "text/plain": [
       "<IPython.core.display.HTML object>"
      ]
     },
     "metadata": {},
     "output_type": "display_data"
    },
    {
     "data": {
      "text/html": [
       " View run at <a href='https://wandb.ai/adl-for-cv/regression-transformer/runs/clqgw03b' target=\"_blank\">https://wandb.ai/adl-for-cv/regression-transformer/runs/clqgw03b</a>"
      ],
      "text/plain": [
       "<IPython.core.display.HTML object>"
      ]
     },
     "metadata": {},
     "output_type": "display_data"
    },
    {
     "name": "stdout",
     "output_type": "stream",
     "text": [
      "step 0: train loss 0.7107, val loss 0.7107\n",
      "step 100: train loss 0.6186, val loss 0.6186\n",
      "saving checkpoint to models\n",
      "step 200: train loss 0.4343, val loss 0.4343\n",
      "saving checkpoint to models\n",
      "step 300: train loss 0.2251, val loss 0.2251\n",
      "saving checkpoint to models\n",
      "step 400: train loss 0.0608, val loss 0.0608\n",
      "saving checkpoint to models\n",
      "step 500: train loss 0.0190, val loss 0.0190\n",
      "saving checkpoint to models\n",
      "step 600: train loss 0.0167, val loss 0.0167\n",
      "saving checkpoint to models\n",
      "step 700: train loss 0.0157, val loss 0.0157\n",
      "saving checkpoint to models\n",
      "step 800: train loss 0.0147, val loss 0.0147\n",
      "saving checkpoint to models\n",
      "step 900: train loss 0.0139, val loss 0.0139\n",
      "saving checkpoint to models\n",
      "step 1000: train loss 0.0131, val loss 0.0131\n",
      "saving checkpoint to models\n",
      "step 1100: train loss 0.0120, val loss 0.0120\n",
      "saving checkpoint to models\n",
      "step 1200: train loss 0.0115, val loss 0.0115\n",
      "saving checkpoint to models\n",
      "step 1300: train loss 0.0099, val loss 0.0099\n",
      "saving checkpoint to models\n",
      "step 1400: train loss 0.0097, val loss 0.0097\n",
      "saving checkpoint to models\n",
      "step 1500: train loss 0.0094, val loss 0.0094\n",
      "saving checkpoint to models\n",
      "step 1600: train loss 0.0086, val loss 0.0086\n",
      "saving checkpoint to models\n",
      "step 1700: train loss 0.0085, val loss 0.0085\n",
      "saving checkpoint to models\n",
      "step 1800: train loss 0.0072, val loss 0.0072\n",
      "saving checkpoint to models\n",
      "step 1900: train loss 0.0066, val loss 0.0066\n",
      "saving checkpoint to models\n",
      "step 2000: train loss 0.0062, val loss 0.0062\n",
      "saving checkpoint to models\n",
      "step 2100: train loss 0.0059, val loss 0.0059\n",
      "saving checkpoint to models\n",
      "step 2200: train loss 0.0054, val loss 0.0054\n",
      "saving checkpoint to models\n",
      "step 2300: train loss 0.0054, val loss 0.0054\n",
      "step 2400: train loss 0.0040, val loss 0.0040\n",
      "saving checkpoint to models\n",
      "step 2500: train loss 0.0039, val loss 0.0039\n",
      "saving checkpoint to models\n",
      "step 2600: train loss 0.0048, val loss 0.0048\n",
      "step 2700: train loss 0.0036, val loss 0.0036\n",
      "saving checkpoint to models\n",
      "step 2800: train loss 0.0040, val loss 0.0040\n",
      "step 2900: train loss 0.0038, val loss 0.0038\n",
      "step 3000: train loss 0.0050, val loss 0.0050\n",
      "step 3100: train loss 0.0056, val loss 0.0056\n",
      "step 3200: train loss 0.0033, val loss 0.0033\n",
      "saving checkpoint to models\n",
      "step 3300: train loss 0.0038, val loss 0.0038\n",
      "step 3400: train loss 0.0030, val loss 0.0030\n",
      "saving checkpoint to models\n",
      "step 3500: train loss 0.0026, val loss 0.0026\n",
      "saving checkpoint to models\n",
      "step 3600: train loss 0.0017, val loss 0.0017\n",
      "saving checkpoint to models\n",
      "step 3700: train loss 0.0023, val loss 0.0023\n",
      "step 3800: train loss 0.0016, val loss 0.0016\n",
      "saving checkpoint to models\n",
      "step 3900: train loss 0.0031, val loss 0.0031\n",
      "step 4000: train loss 0.0041, val loss 0.0041\n",
      "step 4100: train loss 0.0027, val loss 0.0027\n",
      "step 4200: train loss 0.0033, val loss 0.0033\n",
      "step 4300: train loss 0.0030, val loss 0.0030\n",
      "step 4400: train loss 0.0017, val loss 0.0017\n",
      "step 4500: train loss 0.0030, val loss 0.0030\n",
      "step 4600: train loss 0.0013, val loss 0.0013\n",
      "saving checkpoint to models\n",
      "step 4700: train loss 0.0027, val loss 0.0027\n",
      "step 4800: train loss 0.0029, val loss 0.0029\n",
      "step 4900: train loss 0.0015, val loss 0.0015\n",
      "step 5000: train loss 0.0015, val loss 0.0015\n",
      "step 5100: train loss 0.0017, val loss 0.0017\n",
      "step 5200: train loss 0.0022, val loss 0.0022\n",
      "step 5300: train loss 0.0016, val loss 0.0016\n",
      "step 5400: train loss 0.0015, val loss 0.0015\n",
      "step 5500: train loss 0.0028, val loss 0.0028\n",
      "step 5600: train loss 0.0012, val loss 0.0012\n",
      "saving checkpoint to models\n"
     ]
    },
    {
     "ename": "KeyboardInterrupt",
     "evalue": "",
     "output_type": "error",
     "traceback": [
      "\u001b[0;31m---------------------------------------------------------------------------\u001b[0m",
      "\u001b[0;31mKeyboardInterrupt\u001b[0m                         Traceback (most recent call last)",
      "Cell \u001b[0;32mIn[8], line 2\u001b[0m\n\u001b[1;32m      1\u001b[0m \u001b[38;5;66;03m# Prepeare model parameters and train\u001b[39;00m\n\u001b[0;32m----> 2\u001b[0m \u001b[43mnaive_approach\u001b[49m\u001b[38;5;241;43m.\u001b[39;49m\u001b[43mtrain\u001b[49m\u001b[43m(\u001b[49m\u001b[43mget_batch\u001b[49m\u001b[43m,\u001b[49m\u001b[43m \u001b[49m\u001b[43mconfig\u001b[49m\u001b[43m,\u001b[49m\u001b[43m \u001b[49m\u001b[43mmodel_config\u001b[49m\u001b[43m)\u001b[49m\n",
      "File \u001b[0;32m~/uni/adl4cv/adl4cv/training/naive_approach.py:232\u001b[0m, in \u001b[0;36mtrain\u001b[0;34m(get_batch, config, model_config)\u001b[0m\n\u001b[1;32m    230\u001b[0m     X, Y \u001b[38;5;241m=\u001b[39m get_batch(\u001b[38;5;124m\"\u001b[39m\u001b[38;5;124mtrain\u001b[39m\u001b[38;5;124m\"\u001b[39m)\n\u001b[1;32m    231\u001b[0m     \u001b[38;5;66;03m# backward pass, with gradient scaling if training in fp16\u001b[39;00m\n\u001b[0;32m--> 232\u001b[0m     \u001b[43mscaler\u001b[49m\u001b[38;5;241;43m.\u001b[39;49m\u001b[43mscale\u001b[49m\u001b[43m(\u001b[49m\u001b[43mloss\u001b[49m\u001b[43m)\u001b[49m\u001b[38;5;241;43m.\u001b[39;49m\u001b[43mbackward\u001b[49m\u001b[43m(\u001b[49m\u001b[43m)\u001b[49m\n\u001b[1;32m    233\u001b[0m \u001b[38;5;66;03m# clip the gradient\u001b[39;00m\n\u001b[1;32m    234\u001b[0m \u001b[38;5;28;01mif\u001b[39;00m config\u001b[38;5;241m.\u001b[39mgrad_clip \u001b[38;5;241m!=\u001b[39m \u001b[38;5;241m0.0\u001b[39m:\n",
      "File \u001b[0;32m~/uni/adl4cv/adl4cv/.venv/lib/python3.12/site-packages/torch/_tensor.py:525\u001b[0m, in \u001b[0;36mTensor.backward\u001b[0;34m(self, gradient, retain_graph, create_graph, inputs)\u001b[0m\n\u001b[1;32m    515\u001b[0m \u001b[38;5;28;01mif\u001b[39;00m has_torch_function_unary(\u001b[38;5;28mself\u001b[39m):\n\u001b[1;32m    516\u001b[0m     \u001b[38;5;28;01mreturn\u001b[39;00m handle_torch_function(\n\u001b[1;32m    517\u001b[0m         Tensor\u001b[38;5;241m.\u001b[39mbackward,\n\u001b[1;32m    518\u001b[0m         (\u001b[38;5;28mself\u001b[39m,),\n\u001b[0;32m   (...)\u001b[0m\n\u001b[1;32m    523\u001b[0m         inputs\u001b[38;5;241m=\u001b[39minputs,\n\u001b[1;32m    524\u001b[0m     )\n\u001b[0;32m--> 525\u001b[0m \u001b[43mtorch\u001b[49m\u001b[38;5;241;43m.\u001b[39;49m\u001b[43mautograd\u001b[49m\u001b[38;5;241;43m.\u001b[39;49m\u001b[43mbackward\u001b[49m\u001b[43m(\u001b[49m\n\u001b[1;32m    526\u001b[0m \u001b[43m    \u001b[49m\u001b[38;5;28;43mself\u001b[39;49m\u001b[43m,\u001b[49m\u001b[43m \u001b[49m\u001b[43mgradient\u001b[49m\u001b[43m,\u001b[49m\u001b[43m \u001b[49m\u001b[43mretain_graph\u001b[49m\u001b[43m,\u001b[49m\u001b[43m \u001b[49m\u001b[43mcreate_graph\u001b[49m\u001b[43m,\u001b[49m\u001b[43m \u001b[49m\u001b[43minputs\u001b[49m\u001b[38;5;241;43m=\u001b[39;49m\u001b[43minputs\u001b[49m\n\u001b[1;32m    527\u001b[0m \u001b[43m\u001b[49m\u001b[43m)\u001b[49m\n",
      "File \u001b[0;32m~/uni/adl4cv/adl4cv/.venv/lib/python3.12/site-packages/torch/autograd/__init__.py:267\u001b[0m, in \u001b[0;36mbackward\u001b[0;34m(tensors, grad_tensors, retain_graph, create_graph, grad_variables, inputs)\u001b[0m\n\u001b[1;32m    262\u001b[0m     retain_graph \u001b[38;5;241m=\u001b[39m create_graph\n\u001b[1;32m    264\u001b[0m \u001b[38;5;66;03m# The reason we repeat the same comment below is that\u001b[39;00m\n\u001b[1;32m    265\u001b[0m \u001b[38;5;66;03m# some Python versions print out the first line of a multi-line function\u001b[39;00m\n\u001b[1;32m    266\u001b[0m \u001b[38;5;66;03m# calls in the traceback and some print out the last line\u001b[39;00m\n\u001b[0;32m--> 267\u001b[0m \u001b[43m_engine_run_backward\u001b[49m\u001b[43m(\u001b[49m\n\u001b[1;32m    268\u001b[0m \u001b[43m    \u001b[49m\u001b[43mtensors\u001b[49m\u001b[43m,\u001b[49m\n\u001b[1;32m    269\u001b[0m \u001b[43m    \u001b[49m\u001b[43mgrad_tensors_\u001b[49m\u001b[43m,\u001b[49m\n\u001b[1;32m    270\u001b[0m \u001b[43m    \u001b[49m\u001b[43mretain_graph\u001b[49m\u001b[43m,\u001b[49m\n\u001b[1;32m    271\u001b[0m \u001b[43m    \u001b[49m\u001b[43mcreate_graph\u001b[49m\u001b[43m,\u001b[49m\n\u001b[1;32m    272\u001b[0m \u001b[43m    \u001b[49m\u001b[43minputs\u001b[49m\u001b[43m,\u001b[49m\n\u001b[1;32m    273\u001b[0m \u001b[43m    \u001b[49m\u001b[43mallow_unreachable\u001b[49m\u001b[38;5;241;43m=\u001b[39;49m\u001b[38;5;28;43;01mTrue\u001b[39;49;00m\u001b[43m,\u001b[49m\n\u001b[1;32m    274\u001b[0m \u001b[43m    \u001b[49m\u001b[43maccumulate_grad\u001b[49m\u001b[38;5;241;43m=\u001b[39;49m\u001b[38;5;28;43;01mTrue\u001b[39;49;00m\u001b[43m,\u001b[49m\n\u001b[1;32m    275\u001b[0m \u001b[43m\u001b[49m\u001b[43m)\u001b[49m\n",
      "File \u001b[0;32m~/uni/adl4cv/adl4cv/.venv/lib/python3.12/site-packages/torch/autograd/graph.py:744\u001b[0m, in \u001b[0;36m_engine_run_backward\u001b[0;34m(t_outputs, *args, **kwargs)\u001b[0m\n\u001b[1;32m    742\u001b[0m     unregister_hooks \u001b[38;5;241m=\u001b[39m _register_logging_hooks_on_whole_graph(t_outputs)\n\u001b[1;32m    743\u001b[0m \u001b[38;5;28;01mtry\u001b[39;00m:\n\u001b[0;32m--> 744\u001b[0m     \u001b[38;5;28;01mreturn\u001b[39;00m \u001b[43mVariable\u001b[49m\u001b[38;5;241;43m.\u001b[39;49m\u001b[43m_execution_engine\u001b[49m\u001b[38;5;241;43m.\u001b[39;49m\u001b[43mrun_backward\u001b[49m\u001b[43m(\u001b[49m\u001b[43m  \u001b[49m\u001b[38;5;66;43;03m# Calls into the C++ engine to run the backward pass\u001b[39;49;00m\n\u001b[1;32m    745\u001b[0m \u001b[43m        \u001b[49m\u001b[43mt_outputs\u001b[49m\u001b[43m,\u001b[49m\u001b[43m \u001b[49m\u001b[38;5;241;43m*\u001b[39;49m\u001b[43margs\u001b[49m\u001b[43m,\u001b[49m\u001b[43m \u001b[49m\u001b[38;5;241;43m*\u001b[39;49m\u001b[38;5;241;43m*\u001b[39;49m\u001b[43mkwargs\u001b[49m\n\u001b[1;32m    746\u001b[0m \u001b[43m    \u001b[49m\u001b[43m)\u001b[49m  \u001b[38;5;66;03m# Calls into the C++ engine to run the backward pass\u001b[39;00m\n\u001b[1;32m    747\u001b[0m \u001b[38;5;28;01mfinally\u001b[39;00m:\n\u001b[1;32m    748\u001b[0m     \u001b[38;5;28;01mif\u001b[39;00m attach_logging_hooks:\n",
      "\u001b[0;31mKeyboardInterrupt\u001b[0m: "
     ]
    }
   ],
   "source": [
    "# Prepeare model parameters and train\n",
    "naive_approach.train(get_batch, config, model_config)"
   ]
  },
  {
   "cell_type": "code",
   "execution_count": 49,
   "metadata": {},
   "outputs": [],
   "source": [
    "PATH = \"./models/ckpt.pt\"\n",
    "model = RegressionTransformer(model_config)\n",
    "model.load_state_dict(torch.load(PATH)[\"model\"])\n",
    "pred, loss = model(X, Y)\n"
   ]
  },
  {
   "cell_type": "code",
   "execution_count": 65,
   "metadata": {},
   "outputs": [
    {
     "name": "stdout",
     "output_type": "stream",
     "text": [
      "64\n",
      "torch.Size([64, 1])\n",
      "32\n",
      "torch.Size([32, 1])\n",
      "1024\n",
      "torch.Size([1024, 1])\n",
      "32\n",
      "torch.Size([32, 1])\n",
      "32\n",
      "torch.Size([32, 1])\n",
      "1\n",
      "torch.Size([1, 1])\n"
     ]
    },
    {
     "data": {
      "image/png": "[encoded data removed]",
      "text/plain": [
       "<Figure size 2000x1000 with 4 Axes>"
      ]
     },
     "metadata": {},
     "output_type": "display_data"
    },
    {
     "name": "stderr",
     "output_type": "stream",
     "text": [
      "wandb: Network error (ConnectionError), entering retry loop.\n"
     ]
    }
   ],
   "source": [
    "import matplotlib.pyplot as plt\n",
    "import torch\n",
    "import numpy as np\n",
    "from collections import OrderedDict\n",
    "from typing import List, Tuple, Union\n",
    "from torch import nn\n",
    "from networks.INR import INR\n",
    "\n",
    "# Assuming the following classes and functions are defined elsewhere:\n",
    "# - INR\n",
    "# - dataset_no_transform\n",
    "# - ae_trained\n",
    "# - dataset_flatten\n",
    "\n",
    "\n",
    "class MinMaxTransformer(nn.Module):\n",
    "    def __init__(self, min_value: float = -0.3587, max_value: float = 0.4986):\n",
    "        super().__init__()\n",
    "        self.min_value = min_value\n",
    "        self.max_value = max_value\n",
    "\n",
    "    def forward(self, weights, y):\n",
    "        # Apply min-max normalization\n",
    "        weights = (weights - self.min_value) / (self.max_value - self.min_value)\n",
    "        return weights, y\n",
    "\n",
    "    def reverse(self, normalized_weights):\n",
    "        # Reverse the min-max normalization\n",
    "        original_weights = normalized_weights * (self.max_value - self.min_value) + self.min_value\n",
    "        return original_weights\n",
    "\n",
    "def backtransform_weights(flattened_weights, original_weights_dict):\n",
    "    reconstructed_dict = OrderedDict()\n",
    "    start = 0\n",
    "    for key, tensor in original_weights_dict.items():\n",
    "        num_elements = tensor.numel()\n",
    "        print(num_elements)\n",
    "        flattened_slice = flattened_weights[0, start:start + num_elements]\n",
    "        print(flattened_slice.shape)\n",
    "        reconstructed_tensor = flattened_slice.view(tensor.shape)\n",
    "        reconstructed_dict[key] = reconstructed_tensor\n",
    "        start += num_elements\n",
    "    return reconstructed_dict\n",
    "\n",
    "def make_coordinates(\n",
    "    shape: Union[Tuple[int], List[int]],\n",
    "    bs: int,\n",
    "    coord_range: Union[Tuple[int], List[int]] = (-1, 1),\n",
    ") -> torch.Tensor:\n",
    "    x_coordinates = np.linspace(coord_range[0], coord_range[1], shape[0])\n",
    "    y_coordinates = np.linspace(coord_range[0], coord_range[1], shape[1])\n",
    "    x_coordinates, y_coordinates = np.meshgrid(x_coordinates, y_coordinates)\n",
    "    x_coordinates = x_coordinates.flatten()\n",
    "    y_coordinates = y_coordinates.flatten()\n",
    "    coordinates = np.stack([x_coordinates, y_coordinates]).T\n",
    "    coordinates = np.repeat(coordinates[np.newaxis, ...], bs, axis=0)\n",
    "    return torch.from_numpy(coordinates).type(torch.float)\n",
    "\n",
    "# Configuration\n",
    "inr_kwargs = {\"n_layers\": 3, \"in_dim\": 2, \"up_scale\": 16}\n",
    "image_size = (28, 28)\n",
    "idx = 0\n",
    "# Get dataset elements\n",
    "dataset_ele = dataset_no_transform[idx][0]\n",
    "minmax_transformer = MinMaxTransformer(min_value=-0.3587, max_value=0.4986)\n",
    "dataset_ele_flattened = minmax_transformer.reverse(torch.cat((X[0][0].unsqueeze(0), pred[0])).unsqueeze(0))\n",
    "\n",
    "# Backtransform weights\n",
    "reconstructed_dict = backtransform_weights(dataset_ele_flattened, dataset_ele)\n",
    "\n",
    "# Initialize and load the INR model\n",
    "inr = INR(**inr_kwargs)\n",
    "inr.load_state_dict(reconstructed_dict)\n",
    "inr.eval()\n",
    "\n",
    "# Generate image using the INR model\n",
    "input_coords = make_coordinates(image_size, 1)\n",
    "with torch.no_grad():\n",
    "    reconstructed_image = inr(input_coords)\n",
    "    reconstructed_image = reconstructed_image.view(*image_size, -1)\n",
    "    reconstructed_image = reconstructed_image.permute(2, 0, 1)\n",
    "\n",
    "reconstructed_tensor = reconstructed_image.squeeze(0)\n",
    "\n",
    "# Load ground truth model\n",
    "ground_truth_dict = dataset_ele\n",
    "ground_truth_inr = INR(**inr_kwargs)\n",
    "ground_truth_inr.load_state_dict(ground_truth_dict)\n",
    "ground_truth_inr.eval()\n",
    "\n",
    "# Generate image using the ground truth model\n",
    "with torch.no_grad():\n",
    "    ground_truth_image = ground_truth_inr(input_coords)\n",
    "    ground_truth_image = ground_truth_image.view(*image_size, -1)\n",
    "    ground_truth_image = ground_truth_image.permute(2, 0, 1)\n",
    "\n",
    "ground_truth_tensor = ground_truth_image.squeeze(0)\n",
    "\n",
    "# Plotting the tensors as heatmaps in grayscale\n",
    "fig, axes = plt.subplots(1, 2, figsize=(20, 10))\n",
    "\n",
    "axes[0].imshow(ground_truth_tensor, cmap='gray', aspect='auto')\n",
    "axes[0].set_title('Ground Truth')\n",
    "axes[0].set_xlabel('X-axis')\n",
    "axes[0].set_ylabel('Y-axis')\n",
    "\n",
    "axes[1].imshow(reconstructed_tensor, cmap='gray', aspect='auto')\n",
    "axes[1].set_title('Reconstructed')\n",
    "axes[1].set_xlabel('X-axis')\n",
    "axes[1].set_ylabel('Y-axis')\n",
    "\n",
    "plt.colorbar(axes[0].imshow(ground_truth_tensor, cmap='gray', aspect='auto'), ax=axes[0])\n",
    "plt.colorbar(axes[1].imshow(reconstructed_tensor, cmap='gray', aspect='auto'), ax=axes[1])\n",
    "plt.show()"
   ]
  },
  {
   "cell_type": "code",
   "execution_count": null,
   "metadata": {},
   "outputs": [],
   "source": []
  }
 ],
 "metadata": {
  "kernelspec": {
   "display_name": ".venv",
   "language": "python",
   "name": "python3"
  },
  "language_info": {
   "codemirror_mode": {
    "name": "ipython",
    "version": 3
   },
   "file_extension": ".py",
   "mimetype": "text/x-python",
   "name": "python",
   "nbconvert_exporter": "python",
   "pygments_lexer": "ipython3",
   "version": "3.12.3"
  }
 },
 "nbformat": 4,
 "nbformat_minor": 2
}
