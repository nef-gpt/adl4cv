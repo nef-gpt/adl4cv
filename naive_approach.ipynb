{
 "cells": [
  {
   "cell_type": "code",
   "execution_count": 10,
   "metadata": {},
   "outputs": [
    {
     "name": "stdout",
     "output_type": "stream",
     "text": [
      "The autoreload extension is already loaded. To reload it, use:\n",
      "  %reload_ext autoreload\n"
     ]
    }
   ],
   "source": [
    "# Enable autoreload of module\n",
    "%load_ext autoreload\n",
    "%autoreload 2"
   ]
  },
  {
   "cell_type": "code",
   "execution_count": 11,
   "metadata": {},
   "outputs": [
    {
     "name": "stdout",
     "output_type": "stream",
     "text": [
      "3.12.3 (main, Apr  9 2024, 08:09:14) [Clang 15.0.0 (clang-1500.1.0.2.5)]\n"
     ]
    }
   ],
   "source": [
    "# log python version\n",
    "import sys\n",
    "print(sys.version)"
   ]
  },
  {
   "cell_type": "code",
   "execution_count": 12,
   "metadata": {},
   "outputs": [],
   "source": [
    "from training import naive_approach\n",
    "from networks.regression_transformer import RegressionTransformerConfig, RegressionTransformer\n",
    "from data.neural_field_datasets import DWSNetsDataset, MnistNeFDataset, FlattenTransform, MinMaxTransform\n",
    "\n",
    "import os\n",
    "import torch\n",
    "import torchinfo"
   ]
  },
  {
   "cell_type": "code",
   "execution_count": 13,
   "metadata": {},
   "outputs": [
    {
     "data": {
      "text/plain": [
       "False"
      ]
     },
     "execution_count": 13,
     "metadata": {},
     "output_type": "execute_result"
    }
   ],
   "source": [
    "torch.cuda.is_available()"
   ]
  },
  {
   "cell_type": "code",
   "execution_count": 14,
   "metadata": {},
   "outputs": [],
   "source": [
    "# Dataloading\n",
    "dir_path = os.path.dirname(os.path.abspath(os.getcwd()))\n",
    "data_root_dwsnet = os.path.join(dir_path, \"adl4cv\", \"datasets\", \"DWSNets\", \"mnist-inrs\")\n",
    "data_root_ours = os.path.join(dir_path, \"adl4cv\", \"datasets\", \"mnist-nerfs\")\n",
    "\n",
    "class FlattenMinMaxTransform(torch.nn.Module):\n",
    "  def __init__(self, min_max: tuple = None):\n",
    "    super().__init__()\n",
    "    self.flatten = FlattenTransform()\n",
    "    if min_max:\n",
    "      self.minmax = MinMaxTransform(*min_max)\n",
    "    else:\n",
    "      self.minmax = MinMaxTransform()\n",
    "\n",
    "  def forward(self, x, y):\n",
    "    x, _ = self.flatten(x, y)\n",
    "    x, _ = self.minmax(x, y)\n",
    "    return x, y\n",
    "\n",
    "\n",
    "dataset = DWSNetsDataset(data_root_dwsnet, transform=FlattenMinMaxTransform())\n",
    "dataset_wo_min_max = DWSNetsDataset(data_root_dwsnet, transform=FlattenTransform())\n",
    "dataset_no_transform = DWSNetsDataset(data_root_dwsnet)\n",
    "\n",
    "dataset_wo_min_max = MnistNeFDataset(data_root_ours, type=\"pretrained\", transform=FlattenTransform())\n",
    "min_ours, max_ours = dataset_wo_min_max.min_max()\n",
    "dataset = MnistNeFDataset(data_root_ours, type=\"pretrained\", transform=FlattenMinMaxTransform((min_ours, max_ours)))\n",
    "dataset_no_transform = MnistNeFDataset(data_root_ours, type=\"pretrained\")"
   ]
  },
  {
   "cell_type": "code",
   "execution_count": 15,
   "metadata": {},
   "outputs": [],
   "source": [
    "# Config Training\n",
    "config = naive_approach.Config()\n",
    "config.learning_rate=5e-4\n",
    "config.max_iters = 10000\n",
    "config.weight_decay=0\n",
    "config.decay_lr=True\n",
    "config.lr_decay_iters=10000\n",
    "config.warmup_iters=0.1*config.max_iters\n",
    "config.batch_size = 1\n",
    "\n",
    "# Config Transforemer\n",
    "model_config = RegressionTransformerConfig(n_embd=16, block_size=len(dataset[0][0]) - 1, n_head=4, n_layer=8)"
   ]
  },
  {
   "cell_type": "code",
   "execution_count": 23,
   "metadata": {},
   "outputs": [],
   "source": [
    "# take first n samples that have label == 1 (where label is second entry of dataset object)\n",
    "n = 4\n",
    "samples = [(i, dataset[i][0]) for i in range(len(dataset)) if dataset[i][1] == 5][:n]\n",
    "\n",
    "\n",
    "def get_batch(split: str):\n",
    "    # let's get a batch with the single element\n",
    "    # y should be the same shifted by 1\n",
    "    ix = torch.zeros(config.batch_size, dtype=torch.int)\n",
    "    #torch.randint(torch.numel(flattened) - model_config.block_size, (config.batch_size,))\n",
    "\n",
    "    # randomly select a sample (0...n-1)\n",
    "    sample = samples[torch.randint(0, n, (1,))][1]\n",
    "\n",
    "    x = torch.stack(\n",
    "        [sample[i : i + model_config.block_size] for i in ix]\n",
    "    )\n",
    "    y = torch.stack(\n",
    "        [sample[i + 1 : i + 1 + model_config.block_size] for i in ix]\n",
    "    )\n",
    "\n",
    "    # x and y have to be (1, *, 1)\n",
    "    x = x.unsqueeze(-1).to(config.device)\n",
    "    y = y.unsqueeze(-1).to(config.device)\n",
    "    return x, y"
   ]
  },
  {
   "cell_type": "code",
   "execution_count": 24,
   "metadata": {},
   "outputs": [
    {
     "name": "stdout",
     "output_type": "stream",
     "text": [
      "Initializing a new model from scratch\n",
      "num decayed parameter tensors: 35, with 34,080 parameters\n",
      "num non-decayed parameter tensors: 67, with 1,712 parameters\n",
      "using fused AdamW: False\n"
     ]
    },
    {
     "name": "stderr",
     "output_type": "stream",
     "text": [
      "/Users/luis/uni/adl4cv/adl4cv/.venv/lib/python3.12/site-packages/torch/amp/grad_scaler.py:131: UserWarning: torch.cuda.amp.GradScaler is enabled, but CUDA is not available.  Disabling.\n",
      "  warnings.warn(\n"
     ]
    },
    {
     "data": {
      "text/html": [
       "Finishing last run (ID:gqbdxtlf) before initializing another..."
      ],
      "text/plain": [
       "<IPython.core.display.HTML object>"
      ]
     },
     "metadata": {},
     "output_type": "display_data"
    },
    {
     "data": {
      "text/html": [
       "<style>\n",
       "    table.wandb td:nth-child(1) { padding: 0 10px; text-align: left ; width: auto;} td:nth-child(2) {text-align: left ; width: 100%}\n",
       "    .wandb-row { display: flex; flex-direction: row; flex-wrap: wrap; justify-content: flex-start; width: 100% }\n",
       "    .wandb-col { display: flex; flex-direction: column; flex-basis: 100%; flex: 1; padding: 10px; }\n",
       "    </style>\n",
       "<div class=\"wandb-row\"><div class=\"wandb-col\"><h3>Run history:</h3><br/><table class=\"wandb\"><tr><td>iter</td><td>▁▁▁▂▂▂▂▃▃▃▃▄▄▄▄▅▅▅▅▆▆▆▆▇▇▇▇███</td></tr><tr><td>lr</td><td>▁▂▂▃▄▅▅▆▇▇█████████████████▇▇▇</td></tr><tr><td>mfu</td><td>▁▁▁▁▁▁▁▁▁▁▁▁▁▁▁▁▁▁▁▁▁▁▁▁▁▁▁▁▁▁</td></tr><tr><td>train/loss</td><td>█▆▃▂▂▂▂▂▁▁▁▁▁▁▁▁▁▁▁▁▁▁▁▁▁▁▁▁▁▁</td></tr><tr><td>val/loss</td><td>█▆▃▂▂▂▂▂▁▁▁▁▁▁▁▁▁▁▁▁▁▁▁▁▁▁▁▁▁▁</td></tr></table><br/></div><div class=\"wandb-col\"><h3>Run summary:</h3><br/><table class=\"wandb\"><tr><td>iter</td><td>2900</td></tr><tr><td>lr</td><td>0.00045</td></tr><tr><td>mfu</td><td>-100.0</td></tr><tr><td>train/loss</td><td>0.00248</td></tr><tr><td>val/loss</td><td>0.00248</td></tr></table><br/></div></div>"
      ],
      "text/plain": [
       "<IPython.core.display.HTML object>"
      ]
     },
     "metadata": {},
     "output_type": "display_data"
    },
    {
     "data": {
      "text/html": [
       " View run <strong style=\"color:#cdcd00\">run-2024-05-27-11-58-46</strong> at: <a href='https://wandb.ai/adl-for-cv/regression-transformer/runs/gqbdxtlf' target=\"_blank\">https://wandb.ai/adl-for-cv/regression-transformer/runs/gqbdxtlf</a><br/> View project at: <a href='https://wandb.ai/adl-for-cv/regression-transformer' target=\"_blank\">https://wandb.ai/adl-for-cv/regression-transformer</a><br/>Synced 5 W&B file(s), 0 media file(s), 0 artifact file(s) and 0 other file(s)"
      ],
      "text/plain": [
       "<IPython.core.display.HTML object>"
      ]
     },
     "metadata": {},
     "output_type": "display_data"
    },
    {
     "data": {
      "text/html": [
       "Find logs at: <code>./wandb/run-20240527_115848-gqbdxtlf/logs</code>"
      ],
      "text/plain": [
       "<IPython.core.display.HTML object>"
      ]
     },
     "metadata": {},
     "output_type": "display_data"
    },
    {
     "data": {
      "text/html": [
       "Successfully finished last run (ID:gqbdxtlf). Initializing new run:<br/>"
      ],
      "text/plain": [
       "<IPython.core.display.HTML object>"
      ]
     },
     "metadata": {},
     "output_type": "display_data"
    },
    {
     "data": {
      "text/html": [
       "wandb version 0.17.0 is available!  To upgrade, please run:\n",
       " $ pip install wandb --upgrade"
      ],
      "text/plain": [
       "<IPython.core.display.HTML object>"
      ]
     },
     "metadata": {},
     "output_type": "display_data"
    },
    {
     "data": {
      "text/html": [
       "Tracking run with wandb version 0.16.6"
      ],
      "text/plain": [
       "<IPython.core.display.HTML object>"
      ]
     },
     "metadata": {},
     "output_type": "display_data"
    },
    {
     "data": {
      "text/html": [
       "Run data is saved locally in <code>/Users/luis/uni/adl4cv/adl4cv/wandb/run-20240527_120224-5gn2i8w9</code>"
      ],
      "text/plain": [
       "<IPython.core.display.HTML object>"
      ]
     },
     "metadata": {},
     "output_type": "display_data"
    },
    {
     "data": {
      "text/html": [
       "Syncing run <strong><a href='https://wandb.ai/adl-for-cv/regression-transformer/runs/5gn2i8w9' target=\"_blank\">run-2024-05-27-11-58-46</a></strong> to <a href='https://wandb.ai/adl-for-cv/regression-transformer' target=\"_blank\">Weights & Biases</a> (<a href='https://wandb.me/run' target=\"_blank\">docs</a>)<br/>"
      ],
      "text/plain": [
       "<IPython.core.display.HTML object>"
      ]
     },
     "metadata": {},
     "output_type": "display_data"
    },
    {
     "data": {
      "text/html": [
       " View project at <a href='https://wandb.ai/adl-for-cv/regression-transformer' target=\"_blank\">https://wandb.ai/adl-for-cv/regression-transformer</a>"
      ],
      "text/plain": [
       "<IPython.core.display.HTML object>"
      ]
     },
     "metadata": {},
     "output_type": "display_data"
    },
    {
     "data": {
      "text/html": [
       " View run at <a href='https://wandb.ai/adl-for-cv/regression-transformer/runs/5gn2i8w9' target=\"_blank\">https://wandb.ai/adl-for-cv/regression-transformer/runs/5gn2i8w9</a>"
      ],
      "text/plain": [
       "<IPython.core.display.HTML object>"
      ]
     },
     "metadata": {},
     "output_type": "display_data"
    },
    {
     "name": "stdout",
     "output_type": "stream",
     "text": [
      "step 0: train loss 0.4775, val loss 0.4779\n",
      "step 100: train loss 0.3507, val loss 0.3508\n",
      "saving checkpoint to models\n",
      "step 200: train loss 0.1239, val loss 0.1236\n",
      "saving checkpoint to models\n",
      "step 300: train loss 0.0634, val loss 0.0638\n",
      "saving checkpoint to models\n",
      "step 400: train loss 0.0562, val loss 0.0564\n",
      "saving checkpoint to models\n",
      "step 500: train loss 0.0476, val loss 0.0469\n",
      "saving checkpoint to models\n",
      "step 600: train loss 0.0417, val loss 0.0408\n",
      "saving checkpoint to models\n",
      "step 700: train loss 0.0335, val loss 0.0328\n",
      "saving checkpoint to models\n",
      "step 800: train loss 0.0281, val loss 0.0280\n",
      "saving checkpoint to models\n",
      "step 900: train loss 0.0209, val loss 0.0215\n",
      "saving checkpoint to models\n",
      "step 1000: train loss 0.0222, val loss 0.0222\n",
      "step 1100: train loss 0.0161, val loss 0.0155\n",
      "saving checkpoint to models\n",
      "step 1200: train loss 0.0157, val loss 0.0163\n",
      "step 1300: train loss 0.0137, val loss 0.0142\n",
      "saving checkpoint to models\n",
      "step 1400: train loss 0.0132, val loss 0.0132\n",
      "saving checkpoint to models\n",
      "step 1500: train loss 0.0119, val loss 0.0117\n",
      "saving checkpoint to models\n",
      "step 1600: train loss 0.0122, val loss 0.0117\n",
      "saving checkpoint to models\n",
      "step 1700: train loss 0.0147, val loss 0.0140\n",
      "step 1800: train loss 0.0132, val loss 0.0131\n",
      "step 1900: train loss 0.0152, val loss 0.0149\n",
      "step 2000: train loss 0.0123, val loss 0.0116\n",
      "saving checkpoint to models\n",
      "step 2100: train loss 0.0110, val loss 0.0117\n",
      "step 2200: train loss 0.0118, val loss 0.0121\n",
      "step 2300: train loss 0.0113, val loss 0.0121\n",
      "step 2400: train loss 0.0118, val loss 0.0117\n",
      "step 2500: train loss 0.0112, val loss 0.0122\n",
      "step 2600: train loss 0.0114, val loss 0.0112\n",
      "saving checkpoint to models\n",
      "step 2700: train loss 0.0115, val loss 0.0117\n",
      "step 2800: train loss 0.0109, val loss 0.0116\n",
      "step 2900: train loss 0.0122, val loss 0.0120\n",
      "step 3000: train loss 0.0110, val loss 0.0110\n",
      "saving checkpoint to models\n",
      "step 3100: train loss 0.0122, val loss 0.0126\n",
      "step 3200: train loss 0.0119, val loss 0.0115\n",
      "step 3300: train loss 0.0115, val loss 0.0109\n",
      "saving checkpoint to models\n",
      "step 3400: train loss 0.0125, val loss 0.0126\n",
      "step 3500: train loss 0.0115, val loss 0.0120\n",
      "step 3600: train loss 0.0099, val loss 0.0114\n",
      "step 3700: train loss 0.0110, val loss 0.0115\n",
      "step 3800: train loss 0.0116, val loss 0.0116\n",
      "step 3900: train loss 0.0111, val loss 0.0114\n",
      "step 4000: train loss 0.0114, val loss 0.0119\n",
      "step 4100: train loss 0.0116, val loss 0.0116\n",
      "step 4200: train loss 0.0114, val loss 0.0112\n",
      "step 4300: train loss 0.0114, val loss 0.0117\n",
      "step 4400: train loss 0.0118, val loss 0.0116\n",
      "step 4500: train loss 0.0114, val loss 0.0109\n",
      "saving checkpoint to models\n",
      "step 4600: train loss 0.0111, val loss 0.0107\n",
      "saving checkpoint to models\n",
      "step 4700: train loss 0.0112, val loss 0.0111\n",
      "step 4800: train loss 0.0113, val loss 0.0107\n",
      "saving checkpoint to models\n",
      "step 4900: train loss 0.0111, val loss 0.0110\n",
      "step 5000: train loss 0.0112, val loss 0.0109\n",
      "step 5100: train loss 0.0125, val loss 0.0125\n",
      "step 5200: train loss 0.0107, val loss 0.0113\n",
      "step 5300: train loss 0.0102, val loss 0.0105\n",
      "saving checkpoint to models\n",
      "step 5400: train loss 0.0103, val loss 0.0107\n",
      "step 5500: train loss 0.0119, val loss 0.0118\n",
      "step 5600: train loss 0.0110, val loss 0.0107\n",
      "step 5700: train loss 0.0106, val loss 0.0109\n",
      "step 5800: train loss 0.0117, val loss 0.0116\n",
      "step 5900: train loss 0.0112, val loss 0.0117\n",
      "step 6000: train loss 0.0106, val loss 0.0115\n",
      "step 6100: train loss 0.0104, val loss 0.0112\n",
      "step 6200: train loss 0.0104, val loss 0.0111\n",
      "step 6300: train loss 0.0109, val loss 0.0107\n",
      "step 6400: train loss 0.0102, val loss 0.0104\n",
      "saving checkpoint to models\n",
      "step 6500: train loss 0.0109, val loss 0.0109\n",
      "step 6600: train loss 0.0108, val loss 0.0110\n",
      "step 6700: train loss 0.0109, val loss 0.0107\n",
      "step 6800: train loss 0.0104, val loss 0.0107\n",
      "step 6900: train loss 0.0102, val loss 0.0100\n",
      "saving checkpoint to models\n",
      "step 7000: train loss 0.0105, val loss 0.0104\n",
      "step 7100: train loss 0.0107, val loss 0.0107\n",
      "step 7200: train loss 0.0100, val loss 0.0097\n",
      "saving checkpoint to models\n",
      "step 7300: train loss 0.0106, val loss 0.0107\n",
      "step 7400: train loss 0.0109, val loss 0.0100\n",
      "step 7500: train loss 0.0101, val loss 0.0100\n",
      "step 7600: train loss 0.0109, val loss 0.0101\n",
      "step 7700: train loss 0.0105, val loss 0.0103\n",
      "step 7800: train loss 0.0106, val loss 0.0107\n",
      "step 7900: train loss 0.0098, val loss 0.0104\n",
      "step 8000: train loss 0.0103, val loss 0.0104\n",
      "step 8100: train loss 0.0110, val loss 0.0102\n",
      "step 8200: train loss 0.0109, val loss 0.0100\n",
      "step 8300: train loss 0.0101, val loss 0.0103\n",
      "step 8400: train loss 0.0103, val loss 0.0110\n",
      "step 8500: train loss 0.0108, val loss 0.0102\n",
      "step 8600: train loss 0.0103, val loss 0.0104\n",
      "step 8700: train loss 0.0100, val loss 0.0102\n",
      "step 8800: train loss 0.0113, val loss 0.0106\n",
      "step 8900: train loss 0.0105, val loss 0.0108\n"
     ]
    }
   ],
   "source": [
    "# Prepeare model parameters and train\n",
    "naive_approach.train(get_batch, config, model_config)"
   ]
  },
  {
   "cell_type": "code",
   "execution_count": null,
   "metadata": {},
   "outputs": [
    {
     "data": {
      "image/png": "[encoded data removed]",
      "text/plain": [
       "<Figure size 2000x1000 with 4 Axes>"
      ]
     },
     "metadata": {},
     "output_type": "display_data"
    }
   ],
   "source": [
    "import matplotlib.pyplot as plt\n",
    "import torch\n",
    "import numpy as np\n",
    "from collections import OrderedDict\n",
    "from typing import List, Tuple, Union\n",
    "from torch import nn\n",
    "\n",
    "# Assuming the following classes and functions are defined elsewhere:\n",
    "# - INR\n",
    "# - dataset_no_transform\n",
    "# - ae_trained\n",
    "# - dataset_flatten\n",
    "\n",
    "\n",
    "class MinMaxTransformer(nn.Module):\n",
    "    def __init__(self, min_value: float = -0.3587, max_value: float = 0.4986):\n",
    "        super().__init__()\n",
    "        self.min_value = min_value\n",
    "        self.max_value = max_value\n",
    "\n",
    "    def forward(self, weights, y):\n",
    "        # Apply min-max normalization\n",
    "        weights = (weights - self.min_value) / (self.max_value - self.min_value)\n",
    "        return weights, y\n",
    "\n",
    "    def reverse(self, normalized_weights):\n",
    "        # Reverse the min-max normalization\n",
    "        original_weights = normalized_weights * (self.max_value - self.min_value) + self.min_value\n",
    "        return original_weights\n",
    "\n",
    "def backtransform_weights(flattened_weights, original_weights_dict):\n",
    "    reconstructed_dict = OrderedDict()\n",
    "    start = 0\n",
    "    for key, tensor in original_weights_dict.items():\n",
    "        num_elements = tensor.numel()\n",
    "        flattened_slice = flattened_weights[0, start:start + num_elements]\n",
    "        reconstructed_tensor = flattened_slice.view(tensor.shape)\n",
    "        reconstructed_dict[key] = reconstructed_tensor\n",
    "        start += num_elements\n",
    "    return reconstructed_dict\n",
    "\n",
    "\n",
    "# Configuration\n",
    "inr_kwargs = {\"n_layers\": 3, \"in_dim\": 2, \"up_scale\": 16}\n",
    "image_size = (28, 28)\n",
    "idx = 0\n",
    "# Get dataset elements\n",
    "original_dict = dataset_no_transform[0][0]\n",
    "\n",
    "model = RegressionTransformer(model_config)\n",
    "model.load_state_dict(torch.load(\"./models/ckpt.pt\")[\"model\"])\n",
    "\n",
    "\n",
    "sample = dataset[idx][0]\n",
    "X, Y = (sample[:model_config.block_size].unsqueeze(-1).unsqueeze(0), sample[1: 1 + model_config.block_size].unsqueeze(-1).unsqueeze(0))\n",
    "\n",
    "\n",
    "pred, _ = model(X, Y)\n",
    "\n",
    "minmax_transformer = MinMaxTransformer(min_value=-0.3587, max_value=0.4986)\n",
    "dataset_ele_flattened = minmax_transformer.reverse(torch.cat((X[0][0].unsqueeze(0), pred[0])).unsqueeze(0))\n",
    "\n",
    "# Backtransform weights\n",
    "reconstructed_dict = backtransform_weights(dataset_ele_flattened, original_dict)\n",
    "\n",
    "from generation.visualization_presentation import reconstruct_image\n",
    "from networks.mlp_models import MLP3D\n",
    "\n",
    "\n",
    "model_config_nef = {\n",
    "        \"out_size\": 1,\n",
    "        \"hidden_neurons\": [16, 16],\n",
    "        \"use_leaky_relu\": False,\n",
    "        \"output_type\": \"logits\",\n",
    "        \"input_dims\": 2,\n",
    "        \"multires\": 4,\n",
    "    }\n",
    "\n",
    "model = MLP3D(**model_config_nef)\n",
    "model.load_state_dict(reconstructed_dict)\n",
    "reconstructed_tensor = reconstruct_image(model)\n",
    "model.load_state_dict(original_dict)\n",
    "ground_truth_tensor = reconstruct_image(model)\n",
    "\n",
    "# Plotting the tensors as heatmaps in grayscale\n",
    "fig, axes = plt.subplots(1, 2, figsize=(20, 10))\n",
    "\n",
    "axes[0].imshow(ground_truth_tensor, cmap='gray', aspect='auto')\n",
    "axes[0].set_title('Ground Truth')\n",
    "axes[0].set_xlabel('X-axis')\n",
    "axes[0].set_ylabel('Y-axis')\n",
    "\n",
    "axes[1].imshow(reconstructed_tensor, cmap='gray', aspect='auto')\n",
    "axes[1].set_title('Reconstructed')\n",
    "axes[1].set_xlabel('X-axis')\n",
    "axes[1].set_ylabel('Y-axis')\n",
    "\n",
    "plt.colorbar(axes[0].imshow(ground_truth_tensor, cmap='gray', aspect='auto'), ax=axes[0])\n",
    "plt.colorbar(axes[1].imshow(reconstructed_tensor, cmap='gray', aspect='auto'), ax=axes[1])\n",
    "plt.show()"
   ]
  },
  {
   "cell_type": "code",
   "execution_count": null,
   "metadata": {},
   "outputs": [
    {
     "data": {
      "text/plain": [
       "torch.Size([592, 1])"
      ]
     },
     "execution_count": 42,
     "metadata": {},
     "output_type": "execute_result"
    }
   ],
   "source": [
    "X.size()"
   ]
  },
  {
   "cell_type": "code",
   "execution_count": null,
   "metadata": {},
   "outputs": [],
   "source": []
  }
 ],
 "metadata": {
  "kernelspec": {
   "display_name": ".venv",
   "language": "python",
   "name": "python3"
  },
  "language_info": {
   "codemirror_mode": {
    "name": "ipython",
    "version": 3
   },
   "file_extension": ".py",
   "mimetype": "text/x-python",
   "name": "python",
   "nbconvert_exporter": "python",
   "pygments_lexer": "ipython3",
   "version": "3.12.3"
  }
 },
 "nbformat": 4,
 "nbformat_minor": 2
}
