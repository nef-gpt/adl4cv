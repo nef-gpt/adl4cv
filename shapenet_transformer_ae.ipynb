{
 "cells": [
  {
   "cell_type": "code",
   "execution_count": 1,
   "metadata": {},
   "outputs": [],
   "source": [
    "%load_ext autoreload\n",
    "%autoreload 2"
   ]
  },
  {
   "cell_type": "code",
   "execution_count": 2,
   "metadata": {},
   "outputs": [
    {
     "name": "stderr",
     "output_type": "stream",
     "text": [
      "/home/luca/.cache/pypoetry/virtualenvs/adl4cv-OvNqwVNf-py3.10/lib/python3.10/site-packages/tqdm/auto.py:21: TqdmWarning: IProgress not found. Please update jupyter and ipywidgets. See https://ipywidgets.readthedocs.io/en/stable/user_install.html\n",
      "  from .autonotebook import tqdm as notebook_tqdm\n"
     ]
    }
   ],
   "source": [
    "import os\n",
    "\n",
    "import torch\n",
    "import torch.nn as nn\n",
    "from data.neural_field_datasets_shapenet import AllWeights3D, FlattenTransform3D, ImageTransform3D, ModelTransform3D, ShapeNetDataset\n",
    "from torch.utils.data import DataLoader\n",
    "from networks.shapenet_ae import GlobalAutoencoder\n",
    "\n",
    "from networks.shapenet_ae import VanillaDecoder, VanillaEncoder, PositionEncoder\n",
    "device = torch.device(\"cuda\")\n",
    "\n",
    "\n",
    "\n",
    "image_transform = ImageTransform3D()\n",
    "\n",
    "dataset_weights = ShapeNetDataset(os.path.join(\"./\", \"datasets\", \"shapenet_nefs\", \"pretrained\"), transform=image_transform)\n",
    "dataset = ShapeNetDataset(os.path.join(\"./\", \"datasets\", \"shapenet_nefs\", \"pretrained\"))\n",
    "\n",
    "model_transform = ModelTransform3D(dataset[0][0][\"model_config\"])\n"
   ]
  },
  {
   "cell_type": "code",
   "execution_count": 3,
   "metadata": {},
   "outputs": [
    {
     "name": "stdout",
     "output_type": "stream",
     "text": [
      "Training data shape: torch.Size([2785, 116, 33])\n",
      "Validation data shape: torch.Size([697, 116, 33])\n"
     ]
    }
   ],
   "source": [
    "import torch\n",
    "\n",
    "# Assuming tensor of shape [3482, 116, 32]\n",
    "tensor = torch.cat([weights[0] for weights in dataset_weights])\n",
    "\n",
    "tensor = tensor.permute(0, 2, 1)\n",
    "tensor_centered = (tensor - tensor.mean(dim=0).mean(dim=0))\n",
    "\n",
    "num_nef, num_vec, dim_vec = tensor.shape\n",
    "pos_enc = torch.Tensor([i for _ in range(num_nef) for i in range(num_vec)]).view(num_nef, num_vec, 1).to(device=\"cuda\")\n",
    "tensor_w_pos = torch.cat((tensor_centered, pos_enc), dim =2)\n",
    "\n",
    "# Define the split ratio\n",
    "split_ratio = 0.8\n",
    "num_train = int(split_ratio * tensor_centered.shape[0])\n",
    "\n",
    "# Generate random indices\n",
    "indices = torch.randperm(tensor_centered.shape[0])\n",
    "\n",
    "# Split the indices for training and validation\n",
    "train_indices = indices[:num_train]\n",
    "val_indices = indices[num_train:]\n",
    "\n",
    "# Index the tensor to create training and validation sets\n",
    "train_data = tensor_w_pos[train_indices]\n",
    "val_data = tensor_w_pos[val_indices]\n",
    "\n",
    "print(f'Training data shape: {train_data.shape}')\n",
    "print(f'Validation data shape: {val_data.shape}')\n"
   ]
  },
  {
   "cell_type": "code",
   "execution_count": 11,
   "metadata": {},
   "outputs": [
    {
     "name": "stdout",
     "output_type": "stream",
     "text": [
      "number of parameters: 3.49M\n",
      "number of parameters: 2.67M\n"
     ]
    }
   ],
   "source": [
    "from networks.nano_gpt_adapted import TransformerDecoder, TransformerDecoderConfig\n",
    "from networks.shapenet_ae import construct_pos_decoder, construct_pos_encoder\n",
    "\n",
    "latent_space = 16\n",
    "    \n",
    "\n",
    "encoder_layer_1 = TransformerDecoderConfig(input_size=32, n_embd=256, block_size=num_vec, n_head=16, n_layer=3, output_size=latent_space, vocab_size=2048, dropout=0.0)\n",
    "decoder_layer_1 = TransformerDecoderConfig(input_size= latent_space, n_embd=256, block_size=num_vec, n_head=16, n_layer=2, output_size=32, vocab_size=2048, dropout=0.0)\n",
    "\n",
    "# encoder level\n",
    "pos_emb_enc = 512\n",
    "feature_extractor_1 = construct_pos_encoder(input_dim=latent_space, emb_dim=pos_emb_enc, latent_dim=16, num_layers_enc=2, num_vec=num_vec)\n",
    "encoder_1 = TransformerDecoder(encoder_layer_1)\n",
    "encoder_2 = construct_pos_encoder(input_dim=32, emb_dim=pos_emb_enc, latent_dim=16, num_layers_enc=3, num_vec=num_vec)\n",
    "\n",
    "# decoder level\n",
    "pos_emb_dec = 1024\n",
    "decoder_1 = TransformerDecoder(decoder_layer_1)\n",
    "upscaler_1, decoder_2= construct_pos_decoder(input_dim=16, output_dim=32, emb_dim=pos_emb_dec, num_layers_dec=2, num_vec=num_vec)\n",
    "\n",
    "blocks = [feature_extractor_1,encoder_1, encoder_2, decoder_1, decoder_2, upscaler_1]\n",
    "\n",
    "params = []\n",
    "for element in [feature_extractor_1,encoder_1, encoder_2, decoder_1, decoder_2, upscaler_1]:\n",
    "    params = params + list(element.parameters())\n",
    "\n",
    "for element in blocks:\n",
    "    element.to(device)\n",
    "\n",
    "        \n",
    "def add_pos_enc(x, enc):\n",
    "    return torch.cat((x, enc), dim = 2).to(device)\n",
    "\n",
    "def compute_output(x):\n",
    "    pos = x[:, :, -1:]\n",
    "    x = x[:, :, :-1]\n",
    "    \n",
    "    # add positional encoding extract features from it\n",
    "    #x = feature_extractor_1(add_pos_enc(x, pos)) + x\n",
    "        \n",
    "    # encode information\n",
    "    x = encoder_1(x)\n",
    "    #x = encoder_2(add_pos_enc(x, pos))\n",
    "    \n",
    "    \n",
    "    # decode information\n",
    "    x = decoder_1(x)\n",
    "    #x = upscaler_1(x)\n",
    "    #x = decoder_2(add_pos_enc(x, pos))\n",
    "\n",
    "    return x\n"
   ]
  },
  {
   "cell_type": "code",
   "execution_count": 12,
   "metadata": {},
   "outputs": [
    {
     "data": {
      "text/plain": [
       "tensor(-9.7245, device='cuda:0')"
      ]
     },
     "execution_count": 12,
     "metadata": {},
     "output_type": "execute_result"
    }
   ],
   "source": [
    "tensor_centered[:, 0, :].min()"
   ]
  },
  {
   "cell_type": "code",
   "execution_count": 13,
   "metadata": {},
   "outputs": [
    {
     "data": {
      "text/plain": [
       "tensor(0.3862, device='cuda:0')"
      ]
     },
     "execution_count": 13,
     "metadata": {},
     "output_type": "execute_result"
    }
   ],
   "source": [
    "torch.nn.functional.mse_loss(tensor_centered[:, 0, 2], torch.zeros_like(tensor_centered[:, 0, 2]))"
   ]
  },
  {
   "cell_type": "code",
   "execution_count": 15,
   "metadata": {},
   "outputs": [
    {
     "data": {
      "text/html": [
       "Finishing last run (ID:yeu7bcph) before initializing another..."
      ],
      "text/plain": [
       "<IPython.core.display.HTML object>"
      ]
     },
     "metadata": {},
     "output_type": "display_data"
    },
    {
     "data": {
      "text/html": [
       "<style>\n",
       "    table.wandb td:nth-child(1) { padding: 0 10px; text-align: left ; width: auto;} td:nth-child(2) {text-align: left ; width: 100%}\n",
       "    .wandb-row { display: flex; flex-direction: row; flex-wrap: wrap; justify-content: flex-start; width: 100% }\n",
       "    .wandb-col { display: flex; flex-direction: column; flex-basis: 100%; flex: 1; padding: 10px; }\n",
       "    </style>\n",
       "<div class=\"wandb-row\"><div class=\"wandb-col\"><h3>Run history:</h3><br/><table class=\"wandb\"><tr><td>epoch</td><td>▁▁▁▂▂▂▂▂▂▃▃▃▃▃▃▄▄▄▄▄▅▅▅▅▅▅▆▆▆▆▆▆▇▇▇▇▇███</td></tr><tr><td>iter</td><td>▁▁▁▂▂▂▂▂▂▃▃▃▃▃▃▄▄▄▄▄▅▅▅▅▅▅▆▆▆▆▆▆▇▇▇▇▇███</td></tr><tr><td>loss</td><td>█▃▂▂▂▁▁▁▁▁▁▁▁▁▁▁▁▁▁▁▁▁▁▁▁▁▁▁▁▁▁▁▁▁▁▁▁▁▁▁</td></tr><tr><td>lr</td><td>▁▃▅▇████████████████████████████████████</td></tr><tr><td>val_loss</td><td>█▄▂▂▂▁▁▂▁▁▁▁▁▁▁▁▁▁▁▁▁▁▁▁▁▁▁▁▁▁▁▁▁▁▁▁▁▁▁▁</td></tr></table><br/></div><div class=\"wandb-col\"><h3>Run summary:</h3><br/><table class=\"wandb\"><tr><td>epoch</td><td>122</td></tr><tr><td>iter</td><td>1350</td></tr><tr><td>loss</td><td>0.16954</td></tr><tr><td>lr</td><td>0.00072</td></tr><tr><td>val_loss</td><td>0.16004</td></tr></table><br/></div></div>"
      ],
      "text/plain": [
       "<IPython.core.display.HTML object>"
      ]
     },
     "metadata": {},
     "output_type": "display_data"
    },
    {
     "data": {
      "text/html": [
       " View run <strong style=\"color:#cdcd00\">Autoencoder Transformer</strong> at: <a href='https://wandb.ai/adl-for-cv/autoencoder/runs/yeu7bcph' target=\"_blank\">https://wandb.ai/adl-for-cv/autoencoder/runs/yeu7bcph</a><br/> View project at: <a href='https://wandb.ai/adl-for-cv/autoencoder' target=\"_blank\">https://wandb.ai/adl-for-cv/autoencoder</a><br/>Synced 5 W&B file(s), 0 media file(s), 0 artifact file(s) and 0 other file(s)"
      ],
      "text/plain": [
       "<IPython.core.display.HTML object>"
      ]
     },
     "metadata": {},
     "output_type": "display_data"
    },
    {
     "data": {
      "text/html": [
       "Find logs at: <code>./wandb/run-20240713_041618-yeu7bcph/logs</code>"
      ],
      "text/plain": [
       "<IPython.core.display.HTML object>"
      ]
     },
     "metadata": {},
     "output_type": "display_data"
    },
    {
     "data": {
      "text/html": [
       "Successfully finished last run (ID:yeu7bcph). Initializing new run:<br/>"
      ],
      "text/plain": [
       "<IPython.core.display.HTML object>"
      ]
     },
     "metadata": {},
     "output_type": "display_data"
    },
    {
     "data": {
      "text/html": [
       "wandb version 0.17.4 is available!  To upgrade, please run:\n",
       " $ pip install wandb --upgrade"
      ],
      "text/plain": [
       "<IPython.core.display.HTML object>"
      ]
     },
     "metadata": {},
     "output_type": "display_data"
    },
    {
     "data": {
      "text/html": [
       "Tracking run with wandb version 0.16.6"
      ],
      "text/plain": [
       "<IPython.core.display.HTML object>"
      ]
     },
     "metadata": {},
     "output_type": "display_data"
    },
    {
     "data": {
      "text/html": [
       "Run data is saved locally in <code>/home/luca/uni/master/adl4cv/wandb/run-20240713_041952-n0azl2p9</code>"
      ],
      "text/plain": [
       "<IPython.core.display.HTML object>"
      ]
     },
     "metadata": {},
     "output_type": "display_data"
    },
    {
     "data": {
      "text/html": [
       "Syncing run <strong><a href='https://wandb.ai/adl-for-cv/autoencoder/runs/n0azl2p9' target=\"_blank\">Autoencoder Transformer</a></strong> to <a href='https://wandb.ai/adl-for-cv/autoencoder' target=\"_blank\">Weights & Biases</a> (<a href='https://wandb.me/run' target=\"_blank\">docs</a>)<br/>"
      ],
      "text/plain": [
       "<IPython.core.display.HTML object>"
      ]
     },
     "metadata": {},
     "output_type": "display_data"
    },
    {
     "data": {
      "text/html": [
       " View project at <a href='https://wandb.ai/adl-for-cv/autoencoder' target=\"_blank\">https://wandb.ai/adl-for-cv/autoencoder</a>"
      ],
      "text/plain": [
       "<IPython.core.display.HTML object>"
      ]
     },
     "metadata": {},
     "output_type": "display_data"
    },
    {
     "data": {
      "text/html": [
       " View run at <a href='https://wandb.ai/adl-for-cv/autoencoder/runs/n0azl2p9' target=\"_blank\">https://wandb.ai/adl-for-cv/autoencoder/runs/n0azl2p9</a>"
      ],
      "text/plain": [
       "<IPython.core.display.HTML object>"
      ]
     },
     "metadata": {},
     "output_type": "display_data"
    },
    {
     "name": "stderr",
     "output_type": "stream",
     "text": [
      "  0%|          | 0/11 [00:00<?, ?it/s]"
     ]
    }
   ],
   "source": [
    "from networks.nano_gpt_adapted import TransformerDecoder\n",
    "import torch\n",
    "import torch.nn as nn\n",
    "import torch.optim as optim\n",
    "import matplotlib.pyplot as plt\n",
    "from mpl_toolkits.mplot3d import Axes3D\n",
    "from tqdm import tqdm\n",
    "import wandb\n",
    "import math\n",
    "\n",
    "from networks.nano_gpt import GPTConfig\n",
    "from networks.shapenet_ae import VanillaAutoencoder\n",
    "\n",
    "\n",
    "\n",
    "def get_lr(it):\n",
    "    # 1) linear warmup for warmup_iters steps\n",
    "    if it < warmup_iters:\n",
    "        return learning_rate * it / warmup_iters\n",
    "    # 2) if it > lr_decay_iters, return min learning rate\n",
    "    if it > lr_decay_iters:\n",
    "        return 0.0\n",
    "    # 3) in between, use cosine decay down to min learning rate\n",
    "    decay_ratio = (it - warmup_iters) / (\n",
    "        lr_decay_iters - warmup_iters\n",
    "    )\n",
    "    assert 0 <= decay_ratio <= 1\n",
    "    coeff = 0.5 * (1.0 + math.cos(math.pi * decay_ratio))  # coeff ranges 0..1\n",
    "    return coeff * (learning_rate)\n",
    "\n",
    "def interpolate_loss(iter, max_iter, loss_1, loss_2, max_loss_2 = 1.0):\n",
    "    \n",
    "    split_1, split_2 =  1 - iter / max_iter, iter / max_iter\n",
    "    \n",
    "    if split_2 > max_loss_2:\n",
    "        split_1 = 1 - max_loss_2\n",
    "        split_2 = max_loss_2\n",
    "    \n",
    "    return loss_1 * split_1, loss_2 * split_2, (split_1, split_2)\n",
    "\n",
    "\n",
    "\n",
    "lr_decay_iters = 10000\n",
    "warmup_iters = 0.0125 * lr_decay_iters\n",
    "learning_rate = 0.00075\n",
    "\n",
    "eval_iters = 4\n",
    "\n",
    "\n",
    "\n",
    "wandb.init(project=\"autoencoder\", name=f\"Autoencoder Transformer\")\n",
    "\n",
    "\n",
    "\n",
    "criterion = nn.MSELoss()\n",
    "optimizer = optim.Adam(params, lr=learning_rate)\n",
    "\n",
    "# Training the autoencoder\n",
    "batch_size = 256\n",
    "train_dataloader = DataLoader(train_data, batch_size=batch_size, shuffle=True)\n",
    "val_dataloader = DataLoader(val_data, batch_size=batch_size, shuffle=True)\n",
    "\n",
    "\n",
    "exp_avg_loss = None\n",
    "\n",
    "iter = 0\n",
    "epoch = 0\n",
    "\n",
    "while True:\n",
    "    batch_bat = tqdm(train_dataloader)\n",
    "    for batch in batch_bat:\n",
    "        if iter%eval_iters == 0:\n",
    "            for val_batch in val_dataloader:\n",
    "                val_batch.to(device)\n",
    "                with torch.no_grad():\n",
    "                    reconstructed = compute_output(val_batch)\n",
    "                    val_loss = criterion(reconstructed, val_batch[:, :, :-1])\n",
    "                break               \n",
    "        batch.to(device)\n",
    "        lr = get_lr(iter)\n",
    "        for param_group in optimizer.param_groups:\n",
    "            param_group[\"lr\"] = lr\n",
    "        optimizer.zero_grad()\n",
    "        \n",
    "        reconstructed = compute_output(batch)\n",
    "        loss = criterion(reconstructed, batch[:, :, :-1])\n",
    "        loss.backward()\n",
    "        optimizer.step()\n",
    "        if exp_avg_loss == None:\n",
    "            exp_avg_loss = loss\n",
    "        exp_avg_loss = 0.95*exp_avg_loss + 0.05*loss\n",
    "        batch_bat.set_description(f\"Avg. Loss {exp_avg_loss}\")\n",
    "        wandb.log({\"iter\": iter, \"loss\": loss.item(), \"val_loss\": val_loss, \"epoch\": epoch, \"lr\": lr})\n",
    "        iter += 1\n",
    "        \n",
    "        if iter > lr_decay_iters:\n",
    "            break\n",
    "    \n",
    "    epoch += 1\n",
    "        \n",
    "    if iter > lr_decay_iters:\n",
    "        break\n",
    "\n",
    "\n",
    "\n"
   ]
  },
  {
   "cell_type": "code",
   "execution_count": null,
   "metadata": {},
   "outputs": [
    {
     "data": {
      "text/plain": [
       "VanillaAutoencoder(\n",
       "  (encoder): PositionEncoder(\n",
       "    (emb): Embedding(116, 256)\n",
       "    (encoder): Sequential(\n",
       "      (0): Linear(in_features=288, out_features=197, bias=True)\n",
       "      (1): GELU(approximate='none')\n",
       "      (2): Linear(in_features=197, out_features=107, bias=True)\n",
       "      (3): GELU(approximate='none')\n",
       "      (4): Linear(in_features=107, out_features=16, bias=True)\n",
       "    )\n",
       "    (dropout): Dropout(p=0.1, inplace=False)\n",
       "  )\n",
       "  (upscaling): Linear(in_features=16, out_features=256, bias=True)\n",
       "  (decoder): PositionEncoder(\n",
       "    (emb): Embedding(116, 256)\n",
       "    (encoder): Sequential(\n",
       "      (0): Linear(in_features=512, out_features=272, bias=True)\n",
       "      (1): GELU(approximate='none')\n",
       "      (2): Linear(in_features=272, out_features=32, bias=True)\n",
       "    )\n",
       "    (dropout): Dropout(p=0.1, inplace=False)\n",
       "  )\n",
       ")"
      ]
     },
     "execution_count": 11,
     "metadata": {},
     "output_type": "execute_result"
    }
   ],
   "source": [
    "autoencoder"
   ]
  },
  {
   "cell_type": "code",
   "execution_count": null,
   "metadata": {},
   "outputs": [],
   "source": []
  },
  {
   "cell_type": "code",
   "execution_count": null,
   "metadata": {},
   "outputs": [
    {
     "ename": "IndexError",
     "evalue": "too many indices for tensor of dimension 3",
     "output_type": "error",
     "traceback": [
      "\u001b[0;31m---------------------------------------------------------------------------\u001b[0m",
      "\u001b[0;31mIndexError\u001b[0m                                Traceback (most recent call last)",
      "Cell \u001b[0;32mIn[10], line 1\u001b[0m\n\u001b[0;32m----> 1\u001b[0m \u001b[38;5;28;01mfor\u001b[39;00m key \u001b[38;5;129;01min\u001b[39;00m \u001b[43mdataset_weights\u001b[49m\u001b[43m[\u001b[49m\u001b[38;5;241;43m0\u001b[39;49m\u001b[43m]\u001b[49m\u001b[43m[\u001b[49m\u001b[38;5;241;43m0\u001b[39;49m\u001b[43m]\u001b[49m\u001b[43m[\u001b[49m\u001b[38;5;124;43m\"\u001b[39;49m\u001b[38;5;124;43mstate_dict\u001b[39;49m\u001b[38;5;124;43m\"\u001b[39;49m\u001b[43m]\u001b[49m\u001b[38;5;241m.\u001b[39mkeys():\n\u001b[1;32m      2\u001b[0m     \u001b[38;5;28mprint\u001b[39m(key)\n",
      "\u001b[0;31mIndexError\u001b[0m: too many indices for tensor of dimension 3"
     ]
    }
   ],
   "source": [
    "for key in dataset_weights[0][0][\"state_dict\"].keys():\n",
    "    print(key)"
   ]
  },
  {
   "cell_type": "code",
   "execution_count": null,
   "metadata": {},
   "outputs": [],
   "source": []
  },
  {
   "cell_type": "code",
   "execution_count": null,
   "metadata": {},
   "outputs": [],
   "source": []
  },
  {
   "cell_type": "code",
   "execution_count": null,
   "metadata": {},
   "outputs": [],
   "source": []
  },
  {
   "cell_type": "code",
   "execution_count": null,
   "metadata": {},
   "outputs": [],
   "source": []
  },
  {
   "cell_type": "code",
   "execution_count": null,
   "metadata": {},
   "outputs": [],
   "source": []
  }
 ],
 "metadata": {
  "kernelspec": {
   "display_name": ".venv",
   "language": "python",
   "name": "python3"
  },
  "language_info": {
   "codemirror_mode": {
    "name": "ipython",
    "version": 3
   },
   "file_extension": ".py",
   "mimetype": "text/x-python",
   "name": "python",
   "nbconvert_exporter": "python",
   "pygments_lexer": "ipython3",
   "version": "3.10.14"
  }
 },
 "nbformat": 4,
 "nbformat_minor": 2
}
