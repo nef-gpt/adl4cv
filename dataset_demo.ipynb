{
 "cells": [
  {
   "cell_type": "markdown",
   "metadata": {},
   "source": [
    "# Vizualization of the pre-trained NeF of the Neural Field Arena\n",
    "\n",
    "The datasets contain overfitted NeF on CIFAR10, MicroImageNet, MNIST and ShapeNet dataset. All relevant information can be found here \n",
    "* https://github.com/samuelepapa/neural-field-arena/tree/main\n",
    "* https://github.com/samuelepapa/fit-a-nef\n",
    "\n",
    "## Loading of the datasets\n",
    "\n",
    "The code below demonstrates how to load the datasets."
   ]
  },
  {
   "cell_type": "code",
   "execution_count": 1,
   "metadata": {},
   "outputs": [
    {
     "name": "stdout",
     "output_type": "stream",
     "text": [
      "Downloading https://zenodo.org/records/10392793/files/neural_field_arena.zip to /Users/luca/uni/master/second-semester/adl4cv/datasets/neural_field_arena/neural_field_arena.zip\n"
     ]
    },
    {
     "name": "stderr",
     "output_type": "stream",
     "text": [
      "1029046272it [02:09, 7916174.36it/s]                                 \n"
     ]
    }
   ],
   "source": [
    "from data.neural_field_arena_dataset import NeuralFieldArenaDataset\n",
    "import os\n",
    "\n",
    "download_url = \"https://zenodo.org/records/10392793/files/neural_field_arena.zip\"\n",
    "dir_path = os.path.dirname(os.path.abspath(os.getcwd()))\n",
    "data_root = os.path.join(dir_path, \"adl4cv\", \"datasets\", \"neural_field_arena\")\n",
    "\n",
    "\n",
    "mnist = NeuralFieldArenaDataset(data_root, \"MNIST\", download_url=download_url, data_keys=[\"params\", \"labels\"])\n",
    "cifar10 = NeuralFieldArenaDataset(data_root, \"CIFAR10\", download_url=download_url, data_keys=[\"params\", \"labels\"])\n",
    "microimagenet = NeuralFieldArenaDataset(data_root, \"MicroImageNet\", download_url=download_url, data_keys=[\"params\", \"labels\"])\n",
    "shapenet = NeuralFieldArenaDataset(data_root, \"MicroImageNet\", download_url=download_url, data_keys=[\"params\", \"labels\"])\n"
   ]
  },
  {
   "cell_type": "code",
   "execution_count": 2,
   "metadata": {},
   "outputs": [
    {
     "data": {
      "text/plain": [
       "0.075588554"
      ]
     },
     "execution_count": 2,
     "metadata": {},
     "output_type": "execute_result"
    }
   ],
   "source": [
    "mnist[0][\"params\"][:].std()"
   ]
  },
  {
   "cell_type": "markdown",
   "metadata": {},
   "source": [
    "## Vizualizsation of the datasets:\n",
    "\n",
    "The code below demonstrates how to vizualize the NeF."
   ]
  },
  {
   "cell_type": "code",
   "execution_count": 3,
   "metadata": {},
   "outputs": [],
   "source": [
    "import numpy as np\n",
    "\n",
    "MEAN_STD_IMAGE_DATASETS = {\n",
    "    \"MNIST\": [np.array([0.13066047]), np.array([0.30810782])],\n",
    "    \"CIFAR10\": [\n",
    "        np.array(\n",
    "            [\n",
    "                0.49186882,\n",
    "                0.48265392,\n",
    "                0.44717726,\n",
    "            ]\n",
    "        ),\n",
    "        np.array(\n",
    "            [\n",
    "                0.24697122,\n",
    "                0.24338895,\n",
    "                0.2615926,\n",
    "            ]\n",
    "        ),\n",
    "    ],\n",
    "    \"CelebA\": [\n",
    "        np.array([0.5478978610762312, 0.42231354296134166, 0.3591953807599443]),\n",
    "        np.array([0.2892034399873768, 0.2524239196548999, 0.24213944150717998]),\n",
    "    ],\n",
    "    \"ImageNet\": [\n",
    "        np.array([0.4825423682551735, 0.43886259889903234, 0.3864390052222265]),\n",
    "        np.array([0.2763444786550072, 0.26488767608904246, 0.2720352727653687]),\n",
    "    ],\n",
    "    \"TinyImageNet\": [\n",
    "        np.array([0.4804297956553372, 0.44819699905135413, 0.39755623178048566]),\n",
    "        np.array([0.27643974569425867, 0.26888658533363985, 0.2816685219463138]),\n",
    "    ],\n",
    "    \"STL10\": [\n",
    "        np.array([0.4470306, 0.43970686, 0.40560696]),\n",
    "        np.array([0.26047868, 0.25662908, 0.27047333]),\n",
    "    ],\n",
    "    \"MicroImageNet\": [\n",
    "        np.array([0.4643375754356384, 0.4339415729045868, 0.38213176727294923]),\n",
    "        np.array([0.18949764454628706, 0.18707174788855566, 0.21445986703967326]),\n",
    "    ],\n",
    "}\n"
   ]
  },
  {
   "cell_type": "code",
   "execution_count": null,
   "metadata": {},
   "outputs": [],
   "source": []
  },
  {
   "cell_type": "markdown",
   "metadata": {},
   "source": [
    "### MNIST"
   ]
  },
  {
   "cell_type": "code",
   "execution_count": 4,
   "metadata": {},
   "outputs": [
    {
     "name": "stderr",
     "output_type": "stream",
     "text": [
      "/Users/luca/uni/master/second-semester/adl4cv/networks/siren_util.py:30: UserWarning: The use of `x.T` on tensors of dimension other than 2 to reverse their shape is deprecated and it will throw an error in a future release. Consider `x.mT` to transpose batches of matrices or `x.permute(*torch.arange(x.ndim - 1, -1, -1))` to reverse the dimensions of a tensor. (Triggered internally at /Users/runner/work/pytorch/pytorch/pytorch/aten/src/ATen/native/TensorShape.cpp:3679.)\n",
      "  param_values = param_values.T\n"
     ]
    },
    {
     "name": "stdout",
     "output_type": "stream",
     "text": [
      "tensor(-0.9347)\n",
      "tensor(2.4754)\n",
      "tensor(-0.1573, dtype=torch.float64)\n",
      "tensor(0.8933, dtype=torch.float64)\n",
      "Downloading http://yann.lecun.com/exdb/mnist/train-images-idx3-ubyte.gz\n",
      "Failed to download (trying next):\n",
      "HTTP Error 403: Forbidden\n",
      "\n",
      "Downloading https://ossci-datasets.s3.amazonaws.com/mnist/train-images-idx3-ubyte.gz\n",
      "Downloading https://ossci-datasets.s3.amazonaws.com/mnist/train-images-idx3-ubyte.gz to ./datasets/ground_truth/MNIST/raw/train-images-idx3-ubyte.gz\n"
     ]
    },
    {
     "name": "stderr",
     "output_type": "stream",
     "text": [
      "100%|██████████| 9912422/9912422 [00:01<00:00, 6370139.81it/s] \n"
     ]
    },
    {
     "name": "stdout",
     "output_type": "stream",
     "text": [
      "Extracting ./datasets/ground_truth/MNIST/raw/train-images-idx3-ubyte.gz to ./datasets/ground_truth/MNIST/raw\n",
      "\n",
      "Downloading http://yann.lecun.com/exdb/mnist/train-labels-idx1-ubyte.gz\n",
      "Failed to download (trying next):\n",
      "HTTP Error 403: Forbidden\n",
      "\n",
      "Downloading https://ossci-datasets.s3.amazonaws.com/mnist/train-labels-idx1-ubyte.gz\n",
      "Downloading https://ossci-datasets.s3.amazonaws.com/mnist/train-labels-idx1-ubyte.gz to ./datasets/ground_truth/MNIST/raw/train-labels-idx1-ubyte.gz\n"
     ]
    },
    {
     "name": "stderr",
     "output_type": "stream",
     "text": [
      "100%|██████████| 28881/28881 [00:00<00:00, 251331.38it/s]\n"
     ]
    },
    {
     "name": "stdout",
     "output_type": "stream",
     "text": [
      "Extracting ./datasets/ground_truth/MNIST/raw/train-labels-idx1-ubyte.gz to ./datasets/ground_truth/MNIST/raw\n",
      "\n",
      "Downloading http://yann.lecun.com/exdb/mnist/t10k-images-idx3-ubyte.gz\n",
      "Failed to download (trying next):\n",
      "HTTP Error 403: Forbidden\n",
      "\n",
      "Downloading https://ossci-datasets.s3.amazonaws.com/mnist/t10k-images-idx3-ubyte.gz\n",
      "Downloading https://ossci-datasets.s3.amazonaws.com/mnist/t10k-images-idx3-ubyte.gz to ./datasets/ground_truth/MNIST/raw/t10k-images-idx3-ubyte.gz\n"
     ]
    },
    {
     "name": "stderr",
     "output_type": "stream",
     "text": [
      "100%|██████████| 1648877/1648877 [00:02<00:00, 632636.18it/s]\n"
     ]
    },
    {
     "name": "stdout",
     "output_type": "stream",
     "text": [
      "Extracting ./datasets/ground_truth/MNIST/raw/t10k-images-idx3-ubyte.gz to ./datasets/ground_truth/MNIST/raw\n",
      "\n",
      "Downloading http://yann.lecun.com/exdb/mnist/t10k-labels-idx1-ubyte.gz\n",
      "Failed to download (trying next):\n",
      "HTTP Error 403: Forbidden\n",
      "\n",
      "Downloading https://ossci-datasets.s3.amazonaws.com/mnist/t10k-labels-idx1-ubyte.gz\n",
      "Downloading https://ossci-datasets.s3.amazonaws.com/mnist/t10k-labels-idx1-ubyte.gz to ./datasets/ground_truth/MNIST/raw/t10k-labels-idx1-ubyte.gz\n"
     ]
    },
    {
     "name": "stderr",
     "output_type": "stream",
     "text": [
      "100%|██████████| 4542/4542 [00:00<00:00, 5069326.44it/s]\n"
     ]
    },
    {
     "name": "stdout",
     "output_type": "stream",
     "text": [
      "Extracting ./datasets/ground_truth/MNIST/raw/t10k-labels-idx1-ubyte.gz to ./datasets/ground_truth/MNIST/raw\n",
      "\n"
     ]
    },
    {
     "data": {
      "image/png": "[encoded data removed]",
      "text/plain": [
       "<Figure size 800x400 with 2 Axes>"
      ]
     },
     "metadata": {},
     "output_type": "display_data"
    }
   ],
   "source": [
    "from networks.siren import SIRENPytorch\n",
    "from networks.siren_util import load_model_pytorch\n",
    "import torch\n",
    "import matplotlib.pyplot as plt\n",
    "from torchvision import datasets\n",
    "import numpy as np\n",
    "\n",
    "idx = 12\n",
    "label = mnist[idx][\"labels\"]\n",
    "\n",
    "model = SIRENPytorch(input_dim=2, hidden_dim=32, num_layers=3, output_dim=1, omega_0=9.0)\n",
    "load_model_pytorch(model, mnist.param_structure, mnist[idx][\"params\"])\n",
    "\n",
    "# Assume `model` is your loaded neural field model and is set to evaluation mode\n",
    "model.eval()\n",
    "\n",
    "# Step 2: Generate coordinates for each pixel\n",
    "x = np.linspace(-1, 1, 28)\n",
    "y = np.linspace(-1, 1, 28)\n",
    "x, y = np.meshgrid(x, y)\n",
    "coords = np.stack([x, y], axis=-1)\n",
    "coords = torch.tensor(coords, dtype=torch.float32)  # Convert to float tensor\n",
    "\n",
    "# Step 3: Feed coordinates to the model\n",
    "# Make sure your model can handle the batch size or process them in smaller batches\n",
    "with torch.no_grad():\n",
    "    output = model(coords)\n",
    "\n",
    "mean, std = MEAN_STD_IMAGE_DATASETS[\"MNIST\"]\n",
    "print(output.min())\n",
    "print(output.max())\n",
    "output = output * std + mean\n",
    "print(output.min())\n",
    "print(output.max())\n",
    "\n",
    "output = np.array(np.clip(output, 0, 1) * 255, dtype=np.uint8)\n",
    "\n",
    "mnist_data = datasets.MNIST(root='./datasets/ground_truth', train=True, download=True, transform=None)\n",
    "image, label_mnist = mnist_data[idx]  # Get the 21st image and label\n",
    "\n",
    "# Step 4: Visualize the output and the ground truth\n",
    "output_image = output # Convert to numpy array for visualization\n",
    "\n",
    "# Unnormalize ground truth for visualization\n",
    "ground_truth_image = image\n",
    "\n",
    "fig, axs = plt.subplots(1, 2, figsize=(8, 4))\n",
    "axs[0].imshow(output_image, cmap='gray')\n",
    "axs[0].set_title(f'Reconstructed Image - Label: {label}')\n",
    "axs[0].axis('off')  # Turn off axis\n",
    "\n",
    "axs[1].imshow(ground_truth_image, cmap='gray')\n",
    "axs[1].set_title(f'Ground Truth Image - Label: {label_mnist}')\n",
    "axs[1].axis('off')  # Turn off axis\n",
    "\n",
    "plt.show()"
   ]
  },
  {
   "cell_type": "markdown",
   "metadata": {},
   "source": [
    "### CIFAR10"
   ]
  },
  {
   "cell_type": "code",
   "execution_count": 5,
   "metadata": {},
   "outputs": [
    {
     "name": "stdout",
     "output_type": "stream",
     "text": [
      "tensor(-1.7466)\n",
      "tensor(2.2624)\n",
      "Downloading https://www.cs.toronto.edu/~kriz/cifar-10-python.tar.gz to ./datasets/ground_truth/cifar-10-python.tar.gz\n"
     ]
    },
    {
     "name": "stderr",
     "output_type": "stream",
     "text": [
      "100%|██████████| 170498071/170498071 [00:19<00:00, 8916881.24it/s]\n"
     ]
    },
    {
     "name": "stdout",
     "output_type": "stream",
     "text": [
      "Extracting ./datasets/ground_truth/cifar-10-python.tar.gz to ./datasets/ground_truth\n"
     ]
    },
    {
     "data": {
      "image/png": "[encoded data removed]",
      "text/plain": [
       "<Figure size 1000x500 with 2 Axes>"
      ]
     },
     "metadata": {},
     "output_type": "display_data"
    }
   ],
   "source": [
    "import torch\n",
    "import matplotlib.pyplot as plt\n",
    "import numpy as np\n",
    "from torchvision import datasets, transforms\n",
    "\n",
    "\n",
    "\n",
    "idx = 12\n",
    "label = cifar10[idx][\"labels\"]\n",
    "\n",
    "model = SIRENPytorch(input_dim=2, hidden_dim=32, num_layers=3, output_dim=3, omega_0=9.0)\n",
    "load_model_pytorch(model, cifar10.param_structure, cifar10[idx][\"params\"])\n",
    "\n",
    "# Assume `model` is already loaded and is set to evaluation mode\n",
    "model.eval()\n",
    "\n",
    "# Step 2: Generate coordinates for each pixel in a 32x32 image\n",
    "x = np.linspace(-1, 1, 32)\n",
    "y = np.linspace(-1, 1, 32)\n",
    "x, y = np.meshgrid(x, y)\n",
    "coords = np.stack([x, y], axis=-1)\n",
    "coords = torch.tensor(coords, dtype=torch.float32)\n",
    "\n",
    "# Step 3: Feed coordinates to the model\n",
    "# Make sure your model can handle the batch size or process them in smaller batches\n",
    "with torch.no_grad():\n",
    "    output = model(coords)  \n",
    "\n",
    "mean, std = MEAN_STD_IMAGE_DATASETS[\"CIFAR10\"]\n",
    "print(output.min())\n",
    "print(output.max())\n",
    "output = output * std + mean\n",
    "\n",
    "output = np.array(np.clip(output, 0, 1) * 255, dtype=np.uint8)\n",
    "\n",
    "# Step 4: Visualize the output\n",
    "cifar_data = datasets.CIFAR10(root='./datasets/ground_truth', train=True, download=True, transform=None)\n",
    "image, label_cifar = cifar_data[idx]\n",
    "ground_truth_image = image\n",
    "\n",
    "fig, axs = plt.subplots(1, 2, figsize=(10, 5))\n",
    "axs[0].imshow(output)\n",
    "axs[0].set_title(f'Reconstructed Image - Label: {label}')\n",
    "axs[0].axis('off')  # Turn off axis\n",
    "\n",
    "axs[1].imshow(ground_truth_image)\n",
    "axs[1].set_title(f'Ground Truth Image - Label: {label_cifar}')\n",
    "axs[1].axis('off')  # Turn off axis\n",
    "\n",
    "plt.show()"
   ]
  },
  {
   "cell_type": "code",
   "execution_count": null,
   "metadata": {},
   "outputs": [],
   "source": []
  }
 ],
 "metadata": {
  "kernelspec": {
   "display_name": "Python 3 (ipykernel)",
   "language": "python",
   "name": "python3"
  },
  "language_info": {
   "codemirror_mode": {
    "name": "ipython",
    "version": 3
   },
   "file_extension": ".py",
   "mimetype": "text/x-python",
   "name": "python",
   "nbconvert_exporter": "python",
   "pygments_lexer": "ipython3",
   "version": "3.12.3"
  }
 },
 "nbformat": 4,
 "nbformat_minor": 4
}
